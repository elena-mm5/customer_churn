{
 "cells": [
  {
   "cell_type": "markdown",
   "metadata": {
    "toc": true
   },
   "source": [
    "<h1>Содержание<span class=\"tocSkip\"></span></h1>\n",
    "<div class=\"toc\"><ul class=\"toc-item\"><li><span><a href=\"#Подготовка-данных\" data-toc-modified-id=\"Подготовка-данных-1\"><span class=\"toc-item-num\">1&nbsp;&nbsp;</span>Подготовка данных</a></span></li><li><span><a href=\"#Исследование-задачи\" data-toc-modified-id=\"Исследование-задачи-2\"><span class=\"toc-item-num\">2&nbsp;&nbsp;</span>Исследование задачи</a></span></li><li><span><a href=\"#Борьба-с-дисбалансом\" data-toc-modified-id=\"Борьба-с-дисбалансом-3\"><span class=\"toc-item-num\">3&nbsp;&nbsp;</span>Борьба с дисбалансом</a></span></li><li><span><a href=\"#Тестирование-модели\" data-toc-modified-id=\"Тестирование-модели-4\"><span class=\"toc-item-num\">4&nbsp;&nbsp;</span>Тестирование модели</a></span></li>"
   ]
  },
  {
   "cell_type": "markdown",
   "metadata": {},
   "source": [
    "# Отток клиентов"
   ]
  },
  {
   "cell_type": "markdown",
   "metadata": {},
   "source": [
    "Из «Бета-Банка» стали уходить клиенты. Каждый месяц. Немного, но заметно. Банковские маркетологи посчитали: сохранять текущих клиентов дешевле, чем привлекать новых.\n",
    "\n",
    "Нужно спрогнозировать, уйдёт клиент из банка в ближайшее время или нет. Вам предоставлены исторические данные о поведении клиентов и расторжении договоров с банком. \n",
    "\n",
    "Источник данных: [https://www.kaggle.com/barelydedicated/bank-customer-churn-modeling](https://www.kaggle.com/barelydedicated/bank-customer-churn-modeling)"
   ]
  },
  {
   "cell_type": "code",
   "execution_count": 1,
   "metadata": {},
   "outputs": [],
   "source": [
    "import pandas as pd\n",
    "import numpy as np\n",
    "import matplotlib.pyplot as plt\n",
    "import re\n",
    "\n",
    "from sklearn.metrics import (\n",
    "    f1_score, \n",
    "    roc_auc_score, \n",
    "    roc_curve, \n",
    "    roc_auc_score,\n",
    "    classification_report,\n",
    "    recall_score\n",
    ")\n",
    "from sklearn.utils import shuffle\n",
    "from sklearn.preprocessing import StandardScaler\n",
    "from sklearn.preprocessing import OneHotEncoder\n",
    "from sklearn.model_selection import train_test_split\n",
    "from sklearn.model_selection import GridSearchCV\n",
    "from sklearn.tree import DecisionTreeClassifier\n",
    "from sklearn.linear_model import LogisticRegression\n",
    "from sklearn.ensemble import RandomForestClassifier\n",
    "from imblearn.over_sampling import SMOTE\n",
    "\n",
    "import warnings\n",
    "warnings.filterwarnings(\"ignore\")"
   ]
  },
  {
   "cell_type": "markdown",
   "metadata": {},
   "source": [
    "## Подготовка данных"
   ]
  },
  {
   "cell_type": "code",
   "execution_count": 2,
   "metadata": {},
   "outputs": [
    {
     "data": {
      "text/html": [
       "<div>\n",
       "<style scoped>\n",
       "    .dataframe tbody tr th:only-of-type {\n",
       "        vertical-align: middle;\n",
       "    }\n",
       "\n",
       "    .dataframe tbody tr th {\n",
       "        vertical-align: top;\n",
       "    }\n",
       "\n",
       "    .dataframe thead th {\n",
       "        text-align: right;\n",
       "    }\n",
       "</style>\n",
       "<table border=\"1\" class=\"dataframe\">\n",
       "  <thead>\n",
       "    <tr style=\"text-align: right;\">\n",
       "      <th></th>\n",
       "      <th>RowNumber</th>\n",
       "      <th>CustomerId</th>\n",
       "      <th>Surname</th>\n",
       "      <th>CreditScore</th>\n",
       "      <th>Geography</th>\n",
       "      <th>Gender</th>\n",
       "      <th>Age</th>\n",
       "      <th>Tenure</th>\n",
       "      <th>Balance</th>\n",
       "      <th>NumOfProducts</th>\n",
       "      <th>HasCrCard</th>\n",
       "      <th>IsActiveMember</th>\n",
       "      <th>EstimatedSalary</th>\n",
       "      <th>Exited</th>\n",
       "    </tr>\n",
       "  </thead>\n",
       "  <tbody>\n",
       "    <tr>\n",
       "      <th>0</th>\n",
       "      <td>1</td>\n",
       "      <td>15634602</td>\n",
       "      <td>Hargrave</td>\n",
       "      <td>619</td>\n",
       "      <td>France</td>\n",
       "      <td>Female</td>\n",
       "      <td>42</td>\n",
       "      <td>2</td>\n",
       "      <td>0.00</td>\n",
       "      <td>1</td>\n",
       "      <td>1</td>\n",
       "      <td>1</td>\n",
       "      <td>101348.88</td>\n",
       "      <td>1</td>\n",
       "    </tr>\n",
       "    <tr>\n",
       "      <th>1</th>\n",
       "      <td>2</td>\n",
       "      <td>15647311</td>\n",
       "      <td>Hill</td>\n",
       "      <td>608</td>\n",
       "      <td>Spain</td>\n",
       "      <td>Female</td>\n",
       "      <td>41</td>\n",
       "      <td>1</td>\n",
       "      <td>83807.86</td>\n",
       "      <td>1</td>\n",
       "      <td>0</td>\n",
       "      <td>1</td>\n",
       "      <td>112542.58</td>\n",
       "      <td>0</td>\n",
       "    </tr>\n",
       "    <tr>\n",
       "      <th>2</th>\n",
       "      <td>3</td>\n",
       "      <td>15619304</td>\n",
       "      <td>Onio</td>\n",
       "      <td>502</td>\n",
       "      <td>France</td>\n",
       "      <td>Female</td>\n",
       "      <td>42</td>\n",
       "      <td>8</td>\n",
       "      <td>159660.80</td>\n",
       "      <td>3</td>\n",
       "      <td>1</td>\n",
       "      <td>0</td>\n",
       "      <td>113931.57</td>\n",
       "      <td>1</td>\n",
       "    </tr>\n",
       "    <tr>\n",
       "      <th>3</th>\n",
       "      <td>4</td>\n",
       "      <td>15701354</td>\n",
       "      <td>Boni</td>\n",
       "      <td>699</td>\n",
       "      <td>France</td>\n",
       "      <td>Female</td>\n",
       "      <td>39</td>\n",
       "      <td>1</td>\n",
       "      <td>0.00</td>\n",
       "      <td>2</td>\n",
       "      <td>0</td>\n",
       "      <td>0</td>\n",
       "      <td>93826.63</td>\n",
       "      <td>0</td>\n",
       "    </tr>\n",
       "    <tr>\n",
       "      <th>4</th>\n",
       "      <td>5</td>\n",
       "      <td>15737888</td>\n",
       "      <td>Mitchell</td>\n",
       "      <td>850</td>\n",
       "      <td>Spain</td>\n",
       "      <td>Female</td>\n",
       "      <td>43</td>\n",
       "      <td>2</td>\n",
       "      <td>125510.82</td>\n",
       "      <td>1</td>\n",
       "      <td>1</td>\n",
       "      <td>1</td>\n",
       "      <td>79084.10</td>\n",
       "      <td>0</td>\n",
       "    </tr>\n",
       "  </tbody>\n",
       "</table>\n",
       "</div>"
      ],
      "text/plain": [
       "   RowNumber  CustomerId   Surname  CreditScore Geography  Gender  Age  \\\n",
       "0          1    15634602  Hargrave          619    France  Female   42   \n",
       "1          2    15647311      Hill          608     Spain  Female   41   \n",
       "2          3    15619304      Onio          502    France  Female   42   \n",
       "3          4    15701354      Boni          699    France  Female   39   \n",
       "4          5    15737888  Mitchell          850     Spain  Female   43   \n",
       "\n",
       "   Tenure    Balance  NumOfProducts  HasCrCard  IsActiveMember  \\\n",
       "0       2       0.00              1          1               1   \n",
       "1       1   83807.86              1          0               1   \n",
       "2       8  159660.80              3          1               0   \n",
       "3       1       0.00              2          0               0   \n",
       "4       2  125510.82              1          1               1   \n",
       "\n",
       "   EstimatedSalary  Exited  \n",
       "0        101348.88       1  \n",
       "1        112542.58       0  \n",
       "2        113931.57       1  \n",
       "3         93826.63       0  \n",
       "4         79084.10       0  "
      ]
     },
     "execution_count": 2,
     "metadata": {},
     "output_type": "execute_result"
    }
   ],
   "source": [
    "data = pd.read_csv('C:/Users/emmik/Downloads/Churn_Modelling.csv')\n",
    "data.head()"
   ]
  },
  {
   "cell_type": "markdown",
   "metadata": {},
   "source": [
    "В первую очередь удалим колонки с индексом строки, уникальным идентификатором и фамилией клиента для того, чтобы качество модели показало наилучший результат, затем приведем наименования столбцов в нормальный вид."
   ]
  },
  {
   "cell_type": "code",
   "execution_count": 3,
   "metadata": {},
   "outputs": [],
   "source": [
    "data = data.drop(columns=['RowNumber', 'CustomerId', 'Surname']) "
   ]
  },
  {
   "cell_type": "code",
   "execution_count": 4,
   "metadata": {},
   "outputs": [],
   "source": [
    "data.columns = [re.sub(r'(?<!^)(?=[A-Z])', '_', i).lower() for i in data.columns]"
   ]
  },
  {
   "cell_type": "code",
   "execution_count": 5,
   "metadata": {},
   "outputs": [
    {
     "name": "stdout",
     "output_type": "stream",
     "text": [
      "<class 'pandas.core.frame.DataFrame'>\n",
      "RangeIndex: 10000 entries, 0 to 9999\n",
      "Data columns (total 11 columns):\n",
      " #   Column            Non-Null Count  Dtype  \n",
      "---  ------            --------------  -----  \n",
      " 0   credit_score      10000 non-null  int64  \n",
      " 1   geography         10000 non-null  object \n",
      " 2   gender            10000 non-null  object \n",
      " 3   age               10000 non-null  int64  \n",
      " 4   tenure            10000 non-null  int64  \n",
      " 5   balance           10000 non-null  float64\n",
      " 6   num_of_products   10000 non-null  int64  \n",
      " 7   has_cr_card       10000 non-null  int64  \n",
      " 8   is_active_member  10000 non-null  int64  \n",
      " 9   estimated_salary  10000 non-null  float64\n",
      " 10  exited            10000 non-null  int64  \n",
      "dtypes: float64(2), int64(7), object(2)\n",
      "memory usage: 859.5+ KB\n"
     ]
    }
   ],
   "source": [
    "data.info()"
   ]
  },
  {
   "cell_type": "code",
   "execution_count": 6,
   "metadata": {},
   "outputs": [
    {
     "name": "stdout",
     "output_type": "stream",
     "text": [
      "France     5014\n",
      "Germany    2509\n",
      "Spain      2477\n",
      "Name: geography, dtype: int64\n",
      "Male      5457\n",
      "Female    4543\n",
      "Name: gender, dtype: int64\n"
     ]
    }
   ],
   "source": [
    "for colname in ['geography', 'gender']:\n",
    "    print(data[colname].value_counts())"
   ]
  },
  {
   "cell_type": "code",
   "execution_count": 7,
   "metadata": {},
   "outputs": [
    {
     "data": {
      "text/plain": [
       "0    7963\n",
       "1    2037\n",
       "Name: exited, dtype: int64"
      ]
     },
     "execution_count": 7,
     "metadata": {},
     "output_type": "execute_result"
    }
   ],
   "source": [
    "data['exited'].value_counts()"
   ]
  },
  {
   "cell_type": "markdown",
   "metadata": {},
   "source": [
    "Объектов \"нулевого\" класса гораздо больше, чем \"первого\", что можно сказать о их дисбалансе, с которым  дальнейшем мы будем работать. \n",
    "Применим прямое кодирование ко всему датафрейму для отображения новых признаков (пол и страна)."
   ]
  },
  {
   "cell_type": "code",
   "execution_count": 8,
   "metadata": {},
   "outputs": [
    {
     "data": {
      "text/html": [
       "<div>\n",
       "<style scoped>\n",
       "    .dataframe tbody tr th:only-of-type {\n",
       "        vertical-align: middle;\n",
       "    }\n",
       "\n",
       "    .dataframe tbody tr th {\n",
       "        vertical-align: top;\n",
       "    }\n",
       "\n",
       "    .dataframe thead th {\n",
       "        text-align: right;\n",
       "    }\n",
       "</style>\n",
       "<table border=\"1\" class=\"dataframe\">\n",
       "  <thead>\n",
       "    <tr style=\"text-align: right;\">\n",
       "      <th></th>\n",
       "      <th>credit_score</th>\n",
       "      <th>geography</th>\n",
       "      <th>gender</th>\n",
       "      <th>age</th>\n",
       "      <th>tenure</th>\n",
       "      <th>balance</th>\n",
       "      <th>num_of_products</th>\n",
       "      <th>has_cr_card</th>\n",
       "      <th>is_active_member</th>\n",
       "      <th>estimated_salary</th>\n",
       "      <th>exited</th>\n",
       "    </tr>\n",
       "  </thead>\n",
       "  <tbody>\n",
       "    <tr>\n",
       "      <th>0</th>\n",
       "      <td>619</td>\n",
       "      <td>France</td>\n",
       "      <td>Female</td>\n",
       "      <td>42</td>\n",
       "      <td>2</td>\n",
       "      <td>0.00</td>\n",
       "      <td>1</td>\n",
       "      <td>1</td>\n",
       "      <td>1</td>\n",
       "      <td>101348.88</td>\n",
       "      <td>1</td>\n",
       "    </tr>\n",
       "    <tr>\n",
       "      <th>1</th>\n",
       "      <td>608</td>\n",
       "      <td>Spain</td>\n",
       "      <td>Female</td>\n",
       "      <td>41</td>\n",
       "      <td>1</td>\n",
       "      <td>83807.86</td>\n",
       "      <td>1</td>\n",
       "      <td>0</td>\n",
       "      <td>1</td>\n",
       "      <td>112542.58</td>\n",
       "      <td>0</td>\n",
       "    </tr>\n",
       "    <tr>\n",
       "      <th>2</th>\n",
       "      <td>502</td>\n",
       "      <td>France</td>\n",
       "      <td>Female</td>\n",
       "      <td>42</td>\n",
       "      <td>8</td>\n",
       "      <td>159660.80</td>\n",
       "      <td>3</td>\n",
       "      <td>1</td>\n",
       "      <td>0</td>\n",
       "      <td>113931.57</td>\n",
       "      <td>1</td>\n",
       "    </tr>\n",
       "    <tr>\n",
       "      <th>3</th>\n",
       "      <td>699</td>\n",
       "      <td>France</td>\n",
       "      <td>Female</td>\n",
       "      <td>39</td>\n",
       "      <td>1</td>\n",
       "      <td>0.00</td>\n",
       "      <td>2</td>\n",
       "      <td>0</td>\n",
       "      <td>0</td>\n",
       "      <td>93826.63</td>\n",
       "      <td>0</td>\n",
       "    </tr>\n",
       "    <tr>\n",
       "      <th>4</th>\n",
       "      <td>850</td>\n",
       "      <td>Spain</td>\n",
       "      <td>Female</td>\n",
       "      <td>43</td>\n",
       "      <td>2</td>\n",
       "      <td>125510.82</td>\n",
       "      <td>1</td>\n",
       "      <td>1</td>\n",
       "      <td>1</td>\n",
       "      <td>79084.10</td>\n",
       "      <td>0</td>\n",
       "    </tr>\n",
       "  </tbody>\n",
       "</table>\n",
       "</div>"
      ],
      "text/plain": [
       "   credit_score geography  gender  age  tenure    balance  num_of_products  \\\n",
       "0           619    France  Female   42       2       0.00                1   \n",
       "1           608     Spain  Female   41       1   83807.86                1   \n",
       "2           502    France  Female   42       8  159660.80                3   \n",
       "3           699    France  Female   39       1       0.00                2   \n",
       "4           850     Spain  Female   43       2  125510.82                1   \n",
       "\n",
       "   has_cr_card  is_active_member  estimated_salary  exited  \n",
       "0            1                 1         101348.88       1  \n",
       "1            0                 1         112542.58       0  \n",
       "2            1                 0         113931.57       1  \n",
       "3            0                 0          93826.63       0  \n",
       "4            1                 1          79084.10       0  "
      ]
     },
     "execution_count": 8,
     "metadata": {},
     "output_type": "execute_result"
    }
   ],
   "source": [
    "data.head(5)"
   ]
  },
  {
   "cell_type": "code",
   "execution_count": 9,
   "metadata": {},
   "outputs": [
    {
     "data": {
      "text/html": [
       "<div>\n",
       "<style scoped>\n",
       "    .dataframe tbody tr th:only-of-type {\n",
       "        vertical-align: middle;\n",
       "    }\n",
       "\n",
       "    .dataframe tbody tr th {\n",
       "        vertical-align: top;\n",
       "    }\n",
       "\n",
       "    .dataframe thead th {\n",
       "        text-align: right;\n",
       "    }\n",
       "</style>\n",
       "<table border=\"1\" class=\"dataframe\">\n",
       "  <thead>\n",
       "    <tr style=\"text-align: right;\">\n",
       "      <th></th>\n",
       "      <th>credit_score</th>\n",
       "      <th>geography</th>\n",
       "      <th>gender</th>\n",
       "      <th>age</th>\n",
       "      <th>tenure</th>\n",
       "      <th>balance</th>\n",
       "      <th>num_of_products</th>\n",
       "      <th>has_cr_card</th>\n",
       "      <th>is_active_member</th>\n",
       "      <th>estimated_salary</th>\n",
       "      <th>exited</th>\n",
       "    </tr>\n",
       "  </thead>\n",
       "  <tbody>\n",
       "    <tr>\n",
       "      <th>count</th>\n",
       "      <td>10000.000000</td>\n",
       "      <td>10000</td>\n",
       "      <td>10000</td>\n",
       "      <td>10000.000000</td>\n",
       "      <td>10000.000000</td>\n",
       "      <td>10000.000000</td>\n",
       "      <td>10000.000000</td>\n",
       "      <td>10000.00000</td>\n",
       "      <td>10000.000000</td>\n",
       "      <td>10000.000000</td>\n",
       "      <td>10000.000000</td>\n",
       "    </tr>\n",
       "    <tr>\n",
       "      <th>unique</th>\n",
       "      <td>NaN</td>\n",
       "      <td>3</td>\n",
       "      <td>2</td>\n",
       "      <td>NaN</td>\n",
       "      <td>NaN</td>\n",
       "      <td>NaN</td>\n",
       "      <td>NaN</td>\n",
       "      <td>NaN</td>\n",
       "      <td>NaN</td>\n",
       "      <td>NaN</td>\n",
       "      <td>NaN</td>\n",
       "    </tr>\n",
       "    <tr>\n",
       "      <th>top</th>\n",
       "      <td>NaN</td>\n",
       "      <td>France</td>\n",
       "      <td>Male</td>\n",
       "      <td>NaN</td>\n",
       "      <td>NaN</td>\n",
       "      <td>NaN</td>\n",
       "      <td>NaN</td>\n",
       "      <td>NaN</td>\n",
       "      <td>NaN</td>\n",
       "      <td>NaN</td>\n",
       "      <td>NaN</td>\n",
       "    </tr>\n",
       "    <tr>\n",
       "      <th>freq</th>\n",
       "      <td>NaN</td>\n",
       "      <td>5014</td>\n",
       "      <td>5457</td>\n",
       "      <td>NaN</td>\n",
       "      <td>NaN</td>\n",
       "      <td>NaN</td>\n",
       "      <td>NaN</td>\n",
       "      <td>NaN</td>\n",
       "      <td>NaN</td>\n",
       "      <td>NaN</td>\n",
       "      <td>NaN</td>\n",
       "    </tr>\n",
       "    <tr>\n",
       "      <th>mean</th>\n",
       "      <td>650.528800</td>\n",
       "      <td>NaN</td>\n",
       "      <td>NaN</td>\n",
       "      <td>38.921800</td>\n",
       "      <td>5.012800</td>\n",
       "      <td>76485.889288</td>\n",
       "      <td>1.530200</td>\n",
       "      <td>0.70550</td>\n",
       "      <td>0.515100</td>\n",
       "      <td>100090.239881</td>\n",
       "      <td>0.203700</td>\n",
       "    </tr>\n",
       "    <tr>\n",
       "      <th>std</th>\n",
       "      <td>96.653299</td>\n",
       "      <td>NaN</td>\n",
       "      <td>NaN</td>\n",
       "      <td>10.487806</td>\n",
       "      <td>2.892174</td>\n",
       "      <td>62397.405202</td>\n",
       "      <td>0.581654</td>\n",
       "      <td>0.45584</td>\n",
       "      <td>0.499797</td>\n",
       "      <td>57510.492818</td>\n",
       "      <td>0.402769</td>\n",
       "    </tr>\n",
       "    <tr>\n",
       "      <th>min</th>\n",
       "      <td>350.000000</td>\n",
       "      <td>NaN</td>\n",
       "      <td>NaN</td>\n",
       "      <td>18.000000</td>\n",
       "      <td>0.000000</td>\n",
       "      <td>0.000000</td>\n",
       "      <td>1.000000</td>\n",
       "      <td>0.00000</td>\n",
       "      <td>0.000000</td>\n",
       "      <td>11.580000</td>\n",
       "      <td>0.000000</td>\n",
       "    </tr>\n",
       "    <tr>\n",
       "      <th>25%</th>\n",
       "      <td>584.000000</td>\n",
       "      <td>NaN</td>\n",
       "      <td>NaN</td>\n",
       "      <td>32.000000</td>\n",
       "      <td>3.000000</td>\n",
       "      <td>0.000000</td>\n",
       "      <td>1.000000</td>\n",
       "      <td>0.00000</td>\n",
       "      <td>0.000000</td>\n",
       "      <td>51002.110000</td>\n",
       "      <td>0.000000</td>\n",
       "    </tr>\n",
       "    <tr>\n",
       "      <th>50%</th>\n",
       "      <td>652.000000</td>\n",
       "      <td>NaN</td>\n",
       "      <td>NaN</td>\n",
       "      <td>37.000000</td>\n",
       "      <td>5.000000</td>\n",
       "      <td>97198.540000</td>\n",
       "      <td>1.000000</td>\n",
       "      <td>1.00000</td>\n",
       "      <td>1.000000</td>\n",
       "      <td>100193.915000</td>\n",
       "      <td>0.000000</td>\n",
       "    </tr>\n",
       "    <tr>\n",
       "      <th>75%</th>\n",
       "      <td>718.000000</td>\n",
       "      <td>NaN</td>\n",
       "      <td>NaN</td>\n",
       "      <td>44.000000</td>\n",
       "      <td>7.000000</td>\n",
       "      <td>127644.240000</td>\n",
       "      <td>2.000000</td>\n",
       "      <td>1.00000</td>\n",
       "      <td>1.000000</td>\n",
       "      <td>149388.247500</td>\n",
       "      <td>0.000000</td>\n",
       "    </tr>\n",
       "    <tr>\n",
       "      <th>max</th>\n",
       "      <td>850.000000</td>\n",
       "      <td>NaN</td>\n",
       "      <td>NaN</td>\n",
       "      <td>92.000000</td>\n",
       "      <td>10.000000</td>\n",
       "      <td>250898.090000</td>\n",
       "      <td>4.000000</td>\n",
       "      <td>1.00000</td>\n",
       "      <td>1.000000</td>\n",
       "      <td>199992.480000</td>\n",
       "      <td>1.000000</td>\n",
       "    </tr>\n",
       "  </tbody>\n",
       "</table>\n",
       "</div>"
      ],
      "text/plain": [
       "        credit_score geography gender           age        tenure  \\\n",
       "count   10000.000000     10000  10000  10000.000000  10000.000000   \n",
       "unique           NaN         3      2           NaN           NaN   \n",
       "top              NaN    France   Male           NaN           NaN   \n",
       "freq             NaN      5014   5457           NaN           NaN   \n",
       "mean      650.528800       NaN    NaN     38.921800      5.012800   \n",
       "std        96.653299       NaN    NaN     10.487806      2.892174   \n",
       "min       350.000000       NaN    NaN     18.000000      0.000000   \n",
       "25%       584.000000       NaN    NaN     32.000000      3.000000   \n",
       "50%       652.000000       NaN    NaN     37.000000      5.000000   \n",
       "75%       718.000000       NaN    NaN     44.000000      7.000000   \n",
       "max       850.000000       NaN    NaN     92.000000     10.000000   \n",
       "\n",
       "              balance  num_of_products  has_cr_card  is_active_member  \\\n",
       "count    10000.000000     10000.000000  10000.00000      10000.000000   \n",
       "unique            NaN              NaN          NaN               NaN   \n",
       "top               NaN              NaN          NaN               NaN   \n",
       "freq              NaN              NaN          NaN               NaN   \n",
       "mean     76485.889288         1.530200      0.70550          0.515100   \n",
       "std      62397.405202         0.581654      0.45584          0.499797   \n",
       "min          0.000000         1.000000      0.00000          0.000000   \n",
       "25%          0.000000         1.000000      0.00000          0.000000   \n",
       "50%      97198.540000         1.000000      1.00000          1.000000   \n",
       "75%     127644.240000         2.000000      1.00000          1.000000   \n",
       "max     250898.090000         4.000000      1.00000          1.000000   \n",
       "\n",
       "        estimated_salary        exited  \n",
       "count       10000.000000  10000.000000  \n",
       "unique               NaN           NaN  \n",
       "top                  NaN           NaN  \n",
       "freq                 NaN           NaN  \n",
       "mean       100090.239881      0.203700  \n",
       "std         57510.492818      0.402769  \n",
       "min            11.580000      0.000000  \n",
       "25%         51002.110000      0.000000  \n",
       "50%        100193.915000      0.000000  \n",
       "75%        149388.247500      0.000000  \n",
       "max        199992.480000      1.000000  "
      ]
     },
     "execution_count": 9,
     "metadata": {},
     "output_type": "execute_result"
    }
   ],
   "source": [
    "data.describe(include='all')"
   ]
  },
  {
   "cell_type": "markdown",
   "metadata": {},
   "source": [
    "На первый взгляд, общая картина адекватная, но есть признаки с большими суммами, из-за чего они будут перетягивать на себя все внимание модели, необходимо данные масштабирвать."
   ]
  },
  {
   "cell_type": "markdown",
   "metadata": {},
   "source": [
    "В данном пункте мы подготовили данные, удалили ненужные колонки для машинного обучения, привели названия столбцов в нормальный вид, в данных присутствует дисбаланс классов. "
   ]
  },
  {
   "cell_type": "markdown",
   "metadata": {},
   "source": [
    "## Исследование задачи"
   ]
  },
  {
   "cell_type": "markdown",
   "metadata": {},
   "source": [
    "Разобьем данные на обычный и целевой признаки, разобьем данные на тренировочную, валидационную и тестовую выборки в соотношении 60/20/20."
   ]
  },
  {
   "cell_type": "code",
   "execution_count": 10,
   "metadata": {},
   "outputs": [],
   "source": [
    "features = data.drop(columns='exited')\n",
    "target = data['exited']"
   ]
  },
  {
   "cell_type": "code",
   "execution_count": 11,
   "metadata": {},
   "outputs": [],
   "source": [
    "features_train, features_test, target_train, target_test = train_test_split(\n",
    "    features, target, test_size=0.2, shuffle=True, random_state=42)\n",
    "features_train, features_val, target_train, target_val = train_test_split(\n",
    "    features_train, target_train, test_size=0.25, shuffle=True, random_state=42)"
   ]
  },
  {
   "cell_type": "code",
   "execution_count": 12,
   "metadata": {},
   "outputs": [
    {
     "name": "stdout",
     "output_type": "stream",
     "text": [
      "6000 2000 2000\n"
     ]
    }
   ],
   "source": [
    "print(features_train.shape[0], features_test.shape[0], features_val.shape[0])"
   ]
  },
  {
   "cell_type": "markdown",
   "metadata": {},
   "source": [
    "Применим метод OneHotEncoder к категориальным признакам. "
   ]
  },
  {
   "cell_type": "code",
   "execution_count": 13,
   "metadata": {},
   "outputs": [],
   "source": [
    "categorial_signs = ['geography', 'gender']"
   ]
  },
  {
   "cell_type": "code",
   "execution_count": 14,
   "metadata": {},
   "outputs": [],
   "source": [
    "encoder_ohe = OneHotEncoder(drop='first', handle_unknown='ignore', sparse=False)"
   ]
  },
  {
   "cell_type": "code",
   "execution_count": 15,
   "metadata": {},
   "outputs": [
    {
     "data": {
      "text/plain": [
       "OneHotEncoder(drop='first', handle_unknown='ignore', sparse=False)"
      ]
     },
     "execution_count": 15,
     "metadata": {},
     "output_type": "execute_result"
    }
   ],
   "source": [
    "encoder_ohe.fit(features_train[categorial_signs])"
   ]
  },
  {
   "cell_type": "code",
   "execution_count": 16,
   "metadata": {},
   "outputs": [],
   "source": [
    "features_train[\n",
    "    encoder_ohe.get_feature_names_out()\n",
    "] = encoder_ohe.transform(features_train[categorial_signs])"
   ]
  },
  {
   "cell_type": "code",
   "execution_count": 17,
   "metadata": {},
   "outputs": [],
   "source": [
    "features_train = features_train.drop(categorial_signs, axis=1)"
   ]
  },
  {
   "cell_type": "code",
   "execution_count": 18,
   "metadata": {},
   "outputs": [
    {
     "data": {
      "text/html": [
       "<div>\n",
       "<style scoped>\n",
       "    .dataframe tbody tr th:only-of-type {\n",
       "        vertical-align: middle;\n",
       "    }\n",
       "\n",
       "    .dataframe tbody tr th {\n",
       "        vertical-align: top;\n",
       "    }\n",
       "\n",
       "    .dataframe thead th {\n",
       "        text-align: right;\n",
       "    }\n",
       "</style>\n",
       "<table border=\"1\" class=\"dataframe\">\n",
       "  <thead>\n",
       "    <tr style=\"text-align: right;\">\n",
       "      <th></th>\n",
       "      <th>credit_score</th>\n",
       "      <th>age</th>\n",
       "      <th>tenure</th>\n",
       "      <th>balance</th>\n",
       "      <th>num_of_products</th>\n",
       "      <th>has_cr_card</th>\n",
       "      <th>is_active_member</th>\n",
       "      <th>estimated_salary</th>\n",
       "      <th>geography_Germany</th>\n",
       "      <th>geography_Spain</th>\n",
       "      <th>gender_Male</th>\n",
       "    </tr>\n",
       "  </thead>\n",
       "  <tbody>\n",
       "    <tr>\n",
       "      <th>8588</th>\n",
       "      <td>712</td>\n",
       "      <td>29</td>\n",
       "      <td>7</td>\n",
       "      <td>77919.78</td>\n",
       "      <td>1</td>\n",
       "      <td>1</td>\n",
       "      <td>0</td>\n",
       "      <td>122547.58</td>\n",
       "      <td>0.0</td>\n",
       "      <td>1.0</td>\n",
       "      <td>0.0</td>\n",
       "    </tr>\n",
       "    <tr>\n",
       "      <th>3178</th>\n",
       "      <td>542</td>\n",
       "      <td>39</td>\n",
       "      <td>4</td>\n",
       "      <td>109949.39</td>\n",
       "      <td>2</td>\n",
       "      <td>1</td>\n",
       "      <td>1</td>\n",
       "      <td>41268.65</td>\n",
       "      <td>0.0</td>\n",
       "      <td>0.0</td>\n",
       "      <td>0.0</td>\n",
       "    </tr>\n",
       "    <tr>\n",
       "      <th>5200</th>\n",
       "      <td>512</td>\n",
       "      <td>42</td>\n",
       "      <td>9</td>\n",
       "      <td>93955.83</td>\n",
       "      <td>2</td>\n",
       "      <td>1</td>\n",
       "      <td>0</td>\n",
       "      <td>14828.54</td>\n",
       "      <td>1.0</td>\n",
       "      <td>0.0</td>\n",
       "      <td>1.0</td>\n",
       "    </tr>\n",
       "    <tr>\n",
       "      <th>8889</th>\n",
       "      <td>580</td>\n",
       "      <td>39</td>\n",
       "      <td>9</td>\n",
       "      <td>128362.59</td>\n",
       "      <td>1</td>\n",
       "      <td>1</td>\n",
       "      <td>0</td>\n",
       "      <td>86044.98</td>\n",
       "      <td>0.0</td>\n",
       "      <td>0.0</td>\n",
       "      <td>0.0</td>\n",
       "    </tr>\n",
       "    <tr>\n",
       "      <th>5789</th>\n",
       "      <td>689</td>\n",
       "      <td>55</td>\n",
       "      <td>1</td>\n",
       "      <td>76296.81</td>\n",
       "      <td>1</td>\n",
       "      <td>1</td>\n",
       "      <td>0</td>\n",
       "      <td>42364.75</td>\n",
       "      <td>1.0</td>\n",
       "      <td>0.0</td>\n",
       "      <td>0.0</td>\n",
       "    </tr>\n",
       "  </tbody>\n",
       "</table>\n",
       "</div>"
      ],
      "text/plain": [
       "      credit_score  age  tenure    balance  num_of_products  has_cr_card  \\\n",
       "8588           712   29       7   77919.78                1            1   \n",
       "3178           542   39       4  109949.39                2            1   \n",
       "5200           512   42       9   93955.83                2            1   \n",
       "8889           580   39       9  128362.59                1            1   \n",
       "5789           689   55       1   76296.81                1            1   \n",
       "\n",
       "      is_active_member  estimated_salary  geography_Germany  geography_Spain  \\\n",
       "8588                 0         122547.58                0.0              1.0   \n",
       "3178                 1          41268.65                0.0              0.0   \n",
       "5200                 0          14828.54                1.0              0.0   \n",
       "8889                 0          86044.98                0.0              0.0   \n",
       "5789                 0          42364.75                1.0              0.0   \n",
       "\n",
       "      gender_Male  \n",
       "8588          0.0  \n",
       "3178          0.0  \n",
       "5200          1.0  \n",
       "8889          0.0  \n",
       "5789          0.0  "
      ]
     },
     "execution_count": 18,
     "metadata": {},
     "output_type": "execute_result"
    }
   ],
   "source": [
    "features_train.head()"
   ]
  },
  {
   "cell_type": "code",
   "execution_count": 19,
   "metadata": {},
   "outputs": [],
   "source": [
    "features_val[\n",
    "    encoder_ohe.get_feature_names_out()\n",
    "] = encoder_ohe.transform(features_val[categorial_signs])"
   ]
  },
  {
   "cell_type": "code",
   "execution_count": 20,
   "metadata": {},
   "outputs": [],
   "source": [
    "features_val = features_val.drop(categorial_signs, axis=1)"
   ]
  },
  {
   "cell_type": "code",
   "execution_count": 21,
   "metadata": {},
   "outputs": [
    {
     "data": {
      "text/html": [
       "<div>\n",
       "<style scoped>\n",
       "    .dataframe tbody tr th:only-of-type {\n",
       "        vertical-align: middle;\n",
       "    }\n",
       "\n",
       "    .dataframe tbody tr th {\n",
       "        vertical-align: top;\n",
       "    }\n",
       "\n",
       "    .dataframe thead th {\n",
       "        text-align: right;\n",
       "    }\n",
       "</style>\n",
       "<table border=\"1\" class=\"dataframe\">\n",
       "  <thead>\n",
       "    <tr style=\"text-align: right;\">\n",
       "      <th></th>\n",
       "      <th>credit_score</th>\n",
       "      <th>age</th>\n",
       "      <th>tenure</th>\n",
       "      <th>balance</th>\n",
       "      <th>num_of_products</th>\n",
       "      <th>has_cr_card</th>\n",
       "      <th>is_active_member</th>\n",
       "      <th>estimated_salary</th>\n",
       "      <th>geography_Germany</th>\n",
       "      <th>geography_Spain</th>\n",
       "      <th>gender_Male</th>\n",
       "    </tr>\n",
       "  </thead>\n",
       "  <tbody>\n",
       "    <tr>\n",
       "      <th>3188</th>\n",
       "      <td>801</td>\n",
       "      <td>32</td>\n",
       "      <td>4</td>\n",
       "      <td>75170.54</td>\n",
       "      <td>1</td>\n",
       "      <td>1</td>\n",
       "      <td>1</td>\n",
       "      <td>37898.50</td>\n",
       "      <td>0.0</td>\n",
       "      <td>0.0</td>\n",
       "      <td>0.0</td>\n",
       "    </tr>\n",
       "    <tr>\n",
       "      <th>8293</th>\n",
       "      <td>766</td>\n",
       "      <td>28</td>\n",
       "      <td>4</td>\n",
       "      <td>90696.78</td>\n",
       "      <td>1</td>\n",
       "      <td>0</td>\n",
       "      <td>1</td>\n",
       "      <td>21597.20</td>\n",
       "      <td>1.0</td>\n",
       "      <td>0.0</td>\n",
       "      <td>0.0</td>\n",
       "    </tr>\n",
       "    <tr>\n",
       "      <th>1710</th>\n",
       "      <td>828</td>\n",
       "      <td>28</td>\n",
       "      <td>8</td>\n",
       "      <td>134766.85</td>\n",
       "      <td>1</td>\n",
       "      <td>1</td>\n",
       "      <td>0</td>\n",
       "      <td>79355.87</td>\n",
       "      <td>0.0</td>\n",
       "      <td>1.0</td>\n",
       "      <td>1.0</td>\n",
       "    </tr>\n",
       "    <tr>\n",
       "      <th>7510</th>\n",
       "      <td>798</td>\n",
       "      <td>36</td>\n",
       "      <td>1</td>\n",
       "      <td>0.00</td>\n",
       "      <td>2</td>\n",
       "      <td>1</td>\n",
       "      <td>1</td>\n",
       "      <td>159044.10</td>\n",
       "      <td>0.0</td>\n",
       "      <td>0.0</td>\n",
       "      <td>1.0</td>\n",
       "    </tr>\n",
       "    <tr>\n",
       "      <th>1461</th>\n",
       "      <td>611</td>\n",
       "      <td>34</td>\n",
       "      <td>4</td>\n",
       "      <td>0.00</td>\n",
       "      <td>2</td>\n",
       "      <td>1</td>\n",
       "      <td>0</td>\n",
       "      <td>170950.58</td>\n",
       "      <td>0.0</td>\n",
       "      <td>1.0</td>\n",
       "      <td>1.0</td>\n",
       "    </tr>\n",
       "  </tbody>\n",
       "</table>\n",
       "</div>"
      ],
      "text/plain": [
       "      credit_score  age  tenure    balance  num_of_products  has_cr_card  \\\n",
       "3188           801   32       4   75170.54                1            1   \n",
       "8293           766   28       4   90696.78                1            0   \n",
       "1710           828   28       8  134766.85                1            1   \n",
       "7510           798   36       1       0.00                2            1   \n",
       "1461           611   34       4       0.00                2            1   \n",
       "\n",
       "      is_active_member  estimated_salary  geography_Germany  geography_Spain  \\\n",
       "3188                 1          37898.50                0.0              0.0   \n",
       "8293                 1          21597.20                1.0              0.0   \n",
       "1710                 0          79355.87                0.0              1.0   \n",
       "7510                 1         159044.10                0.0              0.0   \n",
       "1461                 0         170950.58                0.0              1.0   \n",
       "\n",
       "      gender_Male  \n",
       "3188          0.0  \n",
       "8293          0.0  \n",
       "1710          1.0  \n",
       "7510          1.0  \n",
       "1461          1.0  "
      ]
     },
     "execution_count": 21,
     "metadata": {},
     "output_type": "execute_result"
    }
   ],
   "source": [
    "features_val.head()"
   ]
  },
  {
   "cell_type": "code",
   "execution_count": 22,
   "metadata": {},
   "outputs": [],
   "source": [
    "features_test[\n",
    "    encoder_ohe.get_feature_names_out()\n",
    "] = encoder_ohe.transform(features_test[categorial_signs])"
   ]
  },
  {
   "cell_type": "code",
   "execution_count": 23,
   "metadata": {},
   "outputs": [],
   "source": [
    "features_test = features_test.drop(categorial_signs, axis=1)"
   ]
  },
  {
   "cell_type": "code",
   "execution_count": 24,
   "metadata": {},
   "outputs": [
    {
     "data": {
      "text/html": [
       "<div>\n",
       "<style scoped>\n",
       "    .dataframe tbody tr th:only-of-type {\n",
       "        vertical-align: middle;\n",
       "    }\n",
       "\n",
       "    .dataframe tbody tr th {\n",
       "        vertical-align: top;\n",
       "    }\n",
       "\n",
       "    .dataframe thead th {\n",
       "        text-align: right;\n",
       "    }\n",
       "</style>\n",
       "<table border=\"1\" class=\"dataframe\">\n",
       "  <thead>\n",
       "    <tr style=\"text-align: right;\">\n",
       "      <th></th>\n",
       "      <th>credit_score</th>\n",
       "      <th>age</th>\n",
       "      <th>tenure</th>\n",
       "      <th>balance</th>\n",
       "      <th>num_of_products</th>\n",
       "      <th>has_cr_card</th>\n",
       "      <th>is_active_member</th>\n",
       "      <th>estimated_salary</th>\n",
       "      <th>geography_Germany</th>\n",
       "      <th>geography_Spain</th>\n",
       "      <th>gender_Male</th>\n",
       "    </tr>\n",
       "  </thead>\n",
       "  <tbody>\n",
       "    <tr>\n",
       "      <th>6252</th>\n",
       "      <td>596</td>\n",
       "      <td>32</td>\n",
       "      <td>3</td>\n",
       "      <td>96709.07</td>\n",
       "      <td>2</td>\n",
       "      <td>0</td>\n",
       "      <td>0</td>\n",
       "      <td>41788.37</td>\n",
       "      <td>1.0</td>\n",
       "      <td>0.0</td>\n",
       "      <td>1.0</td>\n",
       "    </tr>\n",
       "    <tr>\n",
       "      <th>4684</th>\n",
       "      <td>623</td>\n",
       "      <td>43</td>\n",
       "      <td>1</td>\n",
       "      <td>0.00</td>\n",
       "      <td>2</td>\n",
       "      <td>1</td>\n",
       "      <td>1</td>\n",
       "      <td>146379.30</td>\n",
       "      <td>0.0</td>\n",
       "      <td>0.0</td>\n",
       "      <td>1.0</td>\n",
       "    </tr>\n",
       "    <tr>\n",
       "      <th>1731</th>\n",
       "      <td>601</td>\n",
       "      <td>44</td>\n",
       "      <td>4</td>\n",
       "      <td>0.00</td>\n",
       "      <td>2</td>\n",
       "      <td>1</td>\n",
       "      <td>0</td>\n",
       "      <td>58561.31</td>\n",
       "      <td>0.0</td>\n",
       "      <td>1.0</td>\n",
       "      <td>0.0</td>\n",
       "    </tr>\n",
       "    <tr>\n",
       "      <th>4742</th>\n",
       "      <td>506</td>\n",
       "      <td>59</td>\n",
       "      <td>8</td>\n",
       "      <td>119152.10</td>\n",
       "      <td>2</td>\n",
       "      <td>1</td>\n",
       "      <td>1</td>\n",
       "      <td>170679.74</td>\n",
       "      <td>1.0</td>\n",
       "      <td>0.0</td>\n",
       "      <td>1.0</td>\n",
       "    </tr>\n",
       "    <tr>\n",
       "      <th>4521</th>\n",
       "      <td>560</td>\n",
       "      <td>27</td>\n",
       "      <td>7</td>\n",
       "      <td>124995.98</td>\n",
       "      <td>1</td>\n",
       "      <td>1</td>\n",
       "      <td>1</td>\n",
       "      <td>114669.79</td>\n",
       "      <td>0.0</td>\n",
       "      <td>1.0</td>\n",
       "      <td>0.0</td>\n",
       "    </tr>\n",
       "  </tbody>\n",
       "</table>\n",
       "</div>"
      ],
      "text/plain": [
       "      credit_score  age  tenure    balance  num_of_products  has_cr_card  \\\n",
       "6252           596   32       3   96709.07                2            0   \n",
       "4684           623   43       1       0.00                2            1   \n",
       "1731           601   44       4       0.00                2            1   \n",
       "4742           506   59       8  119152.10                2            1   \n",
       "4521           560   27       7  124995.98                1            1   \n",
       "\n",
       "      is_active_member  estimated_salary  geography_Germany  geography_Spain  \\\n",
       "6252                 0          41788.37                1.0              0.0   \n",
       "4684                 1         146379.30                0.0              0.0   \n",
       "1731                 0          58561.31                0.0              1.0   \n",
       "4742                 1         170679.74                1.0              0.0   \n",
       "4521                 1         114669.79                0.0              1.0   \n",
       "\n",
       "      gender_Male  \n",
       "6252          1.0  \n",
       "4684          1.0  \n",
       "1731          0.0  \n",
       "4742          1.0  \n",
       "4521          0.0  "
      ]
     },
     "execution_count": 24,
     "metadata": {},
     "output_type": "execute_result"
    }
   ],
   "source": [
    "features_test.head()"
   ]
  },
  {
   "cell_type": "markdown",
   "metadata": {},
   "source": [
    "Масштабируем наши данные. "
   ]
  },
  {
   "cell_type": "code",
   "execution_count": 25,
   "metadata": {},
   "outputs": [],
   "source": [
    "numeric  = ['credit_score', 'age', 'tenure', 'balance', 'estimated_salary']\n",
    "\n",
    "scaler = StandardScaler()\n",
    "scaler.fit(features_train[numeric])\n",
    "features_train[numeric] = scaler.transform(features_train[numeric])\n",
    "features_val[numeric] = scaler.transform(features_val[numeric])\n",
    "features_test[numeric] = scaler.transform(features_test[numeric])"
   ]
  },
  {
   "cell_type": "markdown",
   "metadata": {},
   "source": [
    "Далее, обучим наши модели на тренировочной выборке. "
   ]
  },
  {
   "cell_type": "code",
   "execution_count": 26,
   "metadata": {},
   "outputs": [
    {
     "name": "stdout",
     "output_type": "stream",
     "text": [
      "F1-мера: 0.5760709010339734 \n",
      "AUC-ROC: 0.7029466107034913\n",
      "Wall time: 380 ms\n"
     ]
    }
   ],
   "source": [
    "%%time\n",
    "\n",
    "f1_dtc = 0\n",
    "\n",
    "for depth in range(1, 30, 2):\n",
    "    model = DecisionTreeClassifier(random_state=41, max_depth=depth, min_samples_leaf=17)\n",
    "    model.fit(features_train, target_train)\n",
    "    predicted_valid = model.predict(features_val)\n",
    "    \n",
    "    if f1_score(target_val, predicted_valid) > f1_dtc:\n",
    "        f1_dtc = f1_score(target_val, predicted_valid)\n",
    "    \n",
    "print(f'F1-мера: {f1_dtc} \\nAUC-ROC: {roc_auc_score(target_val, predicted_valid)}')"
   ]
  },
  {
   "cell_type": "code",
   "execution_count": 27,
   "metadata": {},
   "outputs": [
    {
     "name": "stdout",
     "output_type": "stream",
     "text": [
      "F1-мера: 0.3115942028985507 \n",
      "AUC-ROC: 0.5874180501074865\n",
      "Wall time: 31 ms\n"
     ]
    }
   ],
   "source": [
    "%%time\n",
    "\n",
    "lr = LogisticRegression(random_state=42, solver='liblinear')\n",
    "lr.fit(features_train, target_train)\n",
    "predicted_valid = lr.predict(features_val)\n",
    "\n",
    "print(f'F1-мера: {f1_score(target_val, predicted_valid)} \\nAUC-ROC: {roc_auc_score(target_val, predicted_valid)}')"
   ]
  },
  {
   "cell_type": "code",
   "execution_count": 28,
   "metadata": {},
   "outputs": [
    {
     "name": "stdout",
     "output_type": "stream",
     "text": [
      "F1-мера: 0.605143721633888 \n",
      "AUC-ROC: 0.7200094289101371\n",
      "Wall time: 18.9 s\n"
     ]
    }
   ],
   "source": [
    "%%time\n",
    "\n",
    "f1_rfc = 0\n",
    "\n",
    "for est in range(10, 101, 10):\n",
    "    for depth in range(1, 14, 2):\n",
    "        model = RandomForestClassifier(random_state=42, n_estimators=est, max_depth=depth)\n",
    "        model.fit(features_train, target_train)\n",
    "        predicted_valid = model.predict(features_val)\n",
    "        \n",
    "        if f1_score(target_val, predicted_valid) > f1_rfc:\n",
    "            f1_rfc = f1_score(target_val, predicted_valid)\n",
    "    \n",
    "print(f'F1-мера: {f1_rfc} \\nAUC-ROC: {roc_auc_score(target_val, predicted_valid)}')"
   ]
  },
  {
   "cell_type": "markdown",
   "metadata": {},
   "source": [
    "На данном этапе мы разделили выборку на обычные и целевой признаки, разбили данные на тренировочную, валидационную и тестовую выборки в соотношении 60/20/20 и отмасштабировали данные. \n",
    "\n",
    "Далее, обучили модели на тренировочной выборке, лучшие показатели дала модель \"Случайный лес\" с показателями: \n",
    "F1-мера: 0.60\n",
    "AUC-ROC: 0.72"
   ]
  },
  {
   "cell_type": "markdown",
   "metadata": {},
   "source": [
    "## Борьба с дисбалансом"
   ]
  },
  {
   "cell_type": "markdown",
   "metadata": {},
   "source": [
    "Как было сказано выше, в наших данных присутствовал дисбаланс классов. Для борьбы с ними будем использовать увеличение и уменьшение выборки. "
   ]
  },
  {
   "cell_type": "code",
   "execution_count": 29,
   "metadata": {},
   "outputs": [],
   "source": [
    "def downsample(features, target, fraction):\n",
    "    features_zeros = features[target == 0]\n",
    "    features_ones = features[target == 1]\n",
    "    target_zeros = target[target == 0]\n",
    "    target_ones = target[target == 1]\n",
    "\n",
    "    features_downsampled = pd.concat(\n",
    "        [features_zeros.sample(frac=fraction, random_state=42)] + [features_ones])\n",
    "    target_downsampled = pd.concat(\n",
    "        [target_zeros.sample(frac=fraction, random_state=42)] + [target_ones])\n",
    "    \n",
    "    features_downsampled, target_downsampled = shuffle(\n",
    "        features_downsampled, target_downsampled, random_state=42)\n",
    "    \n",
    "    return features_downsampled, target_downsampled"
   ]
  },
  {
   "cell_type": "code",
   "execution_count": 30,
   "metadata": {},
   "outputs": [],
   "source": [
    "features_downsampled, target_downsampled = downsample(features_train, target_train, 0.25)"
   ]
  },
  {
   "cell_type": "code",
   "execution_count": 31,
   "metadata": {},
   "outputs": [
    {
     "name": "stdout",
     "output_type": "stream",
     "text": [
      "F1-мера: 0.6032660902977907 \n",
      "AUC-ROC: 0.7717646861378238\n",
      "Wall time: 11.7 s\n"
     ]
    }
   ],
   "source": [
    "%%time\n",
    "\n",
    "f1_rfc = 0\n",
    "\n",
    "for est in range(10, 101, 10):\n",
    "    for depth in range(1, 14, 2):\n",
    "        model = RandomForestClassifier(random_state=42, n_estimators=est, max_depth=depth)\n",
    "        model.fit(features_downsampled, target_downsampled)\n",
    "        predicted_valid = model.predict(features_val)\n",
    "        \n",
    "        if f1_score(target_val, predicted_valid) > f1_rfc:\n",
    "            f1_rfc = f1_score(target_val, predicted_valid)\n",
    "    \n",
    "print(f'F1-мера: {f1_rfc} \\nAUC-ROC: {roc_auc_score(target_val, predicted_valid)}')"
   ]
  },
  {
   "cell_type": "code",
   "execution_count": 32,
   "metadata": {},
   "outputs": [],
   "source": [
    "oversample = SMOTE(random_state=42)"
   ]
  },
  {
   "cell_type": "code",
   "execution_count": 33,
   "metadata": {},
   "outputs": [],
   "source": [
    "features_train_up, target_train_up = oversample.fit_resample(features_train, target_train)"
   ]
  },
  {
   "cell_type": "code",
   "execution_count": 34,
   "metadata": {},
   "outputs": [
    {
     "name": "stdout",
     "output_type": "stream",
     "text": [
      "F1-мера: 0.6207627118644068 \n",
      "AUC-ROC: 0.7561688415714239\n",
      "Wall time: 29.8 s\n"
     ]
    }
   ],
   "source": [
    "%%time\n",
    "\n",
    "f1_rfc = 0\n",
    "\n",
    "for est in range(10, 101, 10):\n",
    "    for depth in range(1, 14, 2):\n",
    "        model = RandomForestClassifier(random_state=42, n_estimators=est, max_depth=depth)\n",
    "        model.fit(features_train_up, target_train_up)\n",
    "        predicted_valid = model.predict(features_val)\n",
    "        \n",
    "        if f1_score(target_val, predicted_valid) > f1_rfc:\n",
    "            f1_rfc = f1_score(target_val, predicted_valid)\n",
    "    \n",
    "print(f'F1-мера: {f1_rfc} \\nAUC-ROC: {roc_auc_score(target_val, predicted_valid)}')"
   ]
  },
  {
   "cell_type": "code",
   "execution_count": 35,
   "metadata": {},
   "outputs": [],
   "source": [
    "def roc_auc(model, features, target):\n",
    "    probabilities = model.predict_proba(features)\n",
    "    probabilities_one = probabilities[:, 1]\n",
    "    return roc_auc_score(target, probabilities_one)"
   ]
  },
  {
   "cell_type": "code",
   "execution_count": 36,
   "metadata": {},
   "outputs": [
    {
     "name": "stdout",
     "output_type": "stream",
     "text": [
      "Лучшие параметры: n_estimators: 100, max_depth: 13\n",
      "F1-мера: 0.6207627118644068 \n",
      "AUC-ROC: 0.8637003742575496\n"
     ]
    }
   ],
   "source": [
    "f1_rfc = 0\n",
    "\n",
    "for est in range(10, 101, 10):\n",
    "    for depth in range(1, 14, 2):\n",
    "        model = RandomForestClassifier(random_state=42, n_estimators=est, max_depth=depth)\n",
    "        model.fit(features_train_up, target_train_up)\n",
    "        predicted_valid = model.predict(features_val)\n",
    "        \n",
    "        if f1_score(target_val, predicted_valid) > f1_rfc:\n",
    "            f1_rfc = f1_score(target_val, predicted_valid)\n",
    "        \n",
    "print(f'Лучшие параметры: n_estimators: {est}, max_depth: {depth}')\n",
    "    \n",
    "print(f'F1-мера: {f1_rfc} \\nAUC-ROC: {roc_auc(model, features_val, target_val)}')"
   ]
  },
  {
   "cell_type": "markdown",
   "metadata": {},
   "source": [
    "На данном этапе мы привели класс к балансу двумя методами: увеличение и уменьшение выборки. Наиболее лучшим методом оказался метод upsample (увеличение выборки). При таком балансе и выборе наилучшей модели результаты оказались удовлетворительными: \n",
    "\n",
    "F1-мера: 0.62\n",
    "\n",
    "AUC-ROC: 0.86\n",
    "\n",
    "Лучшие параметры для случайного леса при n_estimators: 100 и max_depth: 13."
   ]
  },
  {
   "cell_type": "markdown",
   "metadata": {},
   "source": [
    "## Тестирование модели"
   ]
  },
  {
   "cell_type": "code",
   "execution_count": 37,
   "metadata": {},
   "outputs": [
    {
     "name": "stdout",
     "output_type": "stream",
     "text": [
      "F1-мера: 0.6084788029925187\n",
      "AUC-ROC: 0.7590946732726257\n"
     ]
    }
   ],
   "source": [
    "rfc = RandomForestClassifier(random_state=14, n_estimators=105, max_depth=15)\n",
    "rfc.fit(features_train_up, target_train_up)\n",
    "predicted_test = rfc.predict(features_test)\n",
    "        \n",
    "print(\"F1-мера:\", f1_score(target_test, predicted_test))\n",
    "print(\"AUC-ROC:\", roc_auc_score(target_test, predicted_test))"
   ]
  },
  {
   "cell_type": "code",
   "execution_count": 38,
   "metadata": {},
   "outputs": [
    {
     "name": "stdout",
     "output_type": "stream",
     "text": [
      "Recall = 0.5965770171149144\n"
     ]
    }
   ],
   "source": [
    "recall = recall_score(rfc.predict(features_test), target_test)\n",
    "print(f'Recall = {recall}')"
   ]
  },
  {
   "cell_type": "markdown",
   "metadata": {},
   "source": [
    "ВЫВОД:\n",
    "\n",
    "В данной проектной работе были подготовлены данные для машинного обучения, масштабированы данные, проведено обучение на трех моделей на тренировочной выборке с дисбалансом классов, где самой лучшей моделью оказалась модель случайного леса, показавшая наилучшие результаты метрик.\n",
    "\n",
    "Эта модель была использована на обучении с балансированным классом, где баланс классов достигался с помощью увеличения и уменьшения выборки, что немного повысило результат метрик. На тестовой выборке результат F1-мера: 0.61 и AUC-ROC: 0.76 c параметрами при random_state=14, n_estimators=105 и max_depth=15.\n",
    "\n",
    "Recall модели составил 0.59, что позволило выявить 59% потенциально уходящих клиентов."
   ]
  }
 ],
 "metadata": {
  "ExecuteTimeLog": [
   {
    "duration": 414,
    "start_time": "2023-03-18T18:47:22.467Z"
   },
   {
    "duration": 113,
    "start_time": "2023-03-18T18:48:00.955Z"
   },
   {
    "duration": 17,
    "start_time": "2023-03-18T18:50:38.377Z"
   },
   {
    "duration": 5,
    "start_time": "2023-03-18T19:30:39.716Z"
   },
   {
    "duration": 6,
    "start_time": "2023-03-18T19:31:04.675Z"
   },
   {
    "duration": 27,
    "start_time": "2023-03-18T19:31:13.306Z"
   },
   {
    "duration": 4,
    "start_time": "2023-03-18T19:34:31.463Z"
   },
   {
    "duration": 4,
    "start_time": "2023-03-18T19:35:43.364Z"
   },
   {
    "duration": 4,
    "start_time": "2023-03-18T19:40:57.048Z"
   },
   {
    "duration": 59,
    "start_time": "2023-03-18T19:40:59.218Z"
   },
   {
    "duration": 4,
    "start_time": "2023-03-18T19:43:26.568Z"
   },
   {
    "duration": 11,
    "start_time": "2023-03-18T19:43:32.029Z"
   },
   {
    "duration": 91,
    "start_time": "2023-03-18T19:44:45.558Z"
   },
   {
    "duration": 3,
    "start_time": "2023-03-18T19:44:48.810Z"
   },
   {
    "duration": 47,
    "start_time": "2023-03-18T19:44:49.144Z"
   },
   {
    "duration": 5,
    "start_time": "2023-03-18T19:44:51.244Z"
   },
   {
    "duration": 12,
    "start_time": "2023-03-18T19:45:03.760Z"
   },
   {
    "duration": 3,
    "start_time": "2023-03-18T19:47:31.015Z"
   },
   {
    "duration": 16,
    "start_time": "2023-03-18T19:51:34.205Z"
   },
   {
    "duration": 4,
    "start_time": "2023-03-18T19:53:20.904Z"
   },
   {
    "duration": 14,
    "start_time": "2023-03-18T19:53:22.844Z"
   },
   {
    "duration": 737,
    "start_time": "2023-03-18T19:53:42.009Z"
   },
   {
    "duration": 657,
    "start_time": "2023-03-18T19:53:46.879Z"
   },
   {
    "duration": 3,
    "start_time": "2023-03-18T20:02:11.705Z"
   },
   {
    "duration": 49,
    "start_time": "2023-03-18T20:02:16.361Z"
   },
   {
    "duration": 4,
    "start_time": "2023-03-18T20:02:18.811Z"
   },
   {
    "duration": 3,
    "start_time": "2023-03-18T20:02:19.353Z"
   },
   {
    "duration": 4,
    "start_time": "2023-03-18T20:02:19.768Z"
   },
   {
    "duration": 14,
    "start_time": "2023-03-18T20:02:21.042Z"
   },
   {
    "duration": 724,
    "start_time": "2023-03-18T20:07:15.738Z"
   },
   {
    "duration": 4,
    "start_time": "2023-03-18T20:07:23.740Z"
   },
   {
    "duration": 32,
    "start_time": "2023-03-18T20:08:05.875Z"
   },
   {
    "duration": 5,
    "start_time": "2023-03-18T20:09:33.727Z"
   },
   {
    "duration": 8,
    "start_time": "2023-03-18T20:10:32.333Z"
   },
   {
    "duration": 3,
    "start_time": "2023-03-18T20:10:43.076Z"
   },
   {
    "duration": 63,
    "start_time": "2023-03-18T20:10:43.735Z"
   },
   {
    "duration": 5,
    "start_time": "2023-03-18T20:10:44.053Z"
   },
   {
    "duration": 4,
    "start_time": "2023-03-18T20:10:44.213Z"
   },
   {
    "duration": 4,
    "start_time": "2023-03-18T20:10:44.719Z"
   },
   {
    "duration": 11,
    "start_time": "2023-03-18T20:10:45.445Z"
   },
   {
    "duration": 4,
    "start_time": "2023-03-18T20:10:46.614Z"
   },
   {
    "duration": 13,
    "start_time": "2023-03-18T20:10:46.812Z"
   },
   {
    "duration": 39,
    "start_time": "2023-03-18T20:11:10.221Z"
   },
   {
    "duration": 5,
    "start_time": "2023-03-18T20:11:17.410Z"
   },
   {
    "duration": 46,
    "start_time": "2023-03-18T20:11:17.719Z"
   },
   {
    "duration": 4,
    "start_time": "2023-03-18T20:11:18.304Z"
   },
   {
    "duration": 4,
    "start_time": "2023-03-18T20:11:18.677Z"
   },
   {
    "duration": 3,
    "start_time": "2023-03-18T20:11:19.079Z"
   },
   {
    "duration": 14,
    "start_time": "2023-03-18T20:11:19.380Z"
   },
   {
    "duration": 5,
    "start_time": "2023-03-18T20:11:21.069Z"
   },
   {
    "duration": 32,
    "start_time": "2023-03-18T20:11:21.383Z"
   },
   {
    "duration": 6,
    "start_time": "2023-03-18T20:12:45.832Z"
   },
   {
    "duration": 40,
    "start_time": "2023-03-18T20:35:29.405Z"
   },
   {
    "duration": 6,
    "start_time": "2023-03-18T20:36:56.937Z"
   },
   {
    "duration": 7,
    "start_time": "2023-03-18T20:37:07.904Z"
   },
   {
    "duration": 7,
    "start_time": "2023-03-18T20:43:07.123Z"
   },
   {
    "duration": 172,
    "start_time": "2023-03-18T20:43:29.060Z"
   },
   {
    "duration": 2,
    "start_time": "2023-03-18T20:43:33.616Z"
   },
   {
    "duration": 49,
    "start_time": "2023-03-18T20:43:33.930Z"
   },
   {
    "duration": 4,
    "start_time": "2023-03-18T20:43:34.236Z"
   },
   {
    "duration": 3,
    "start_time": "2023-03-18T20:43:34.415Z"
   },
   {
    "duration": 4,
    "start_time": "2023-03-18T20:43:34.545Z"
   },
   {
    "duration": 12,
    "start_time": "2023-03-18T20:43:34.709Z"
   },
   {
    "duration": 5,
    "start_time": "2023-03-18T20:43:35.036Z"
   },
   {
    "duration": 7,
    "start_time": "2023-03-18T20:43:35.355Z"
   },
   {
    "duration": 34,
    "start_time": "2023-03-18T20:43:35.706Z"
   },
   {
    "duration": 7,
    "start_time": "2023-03-18T20:43:36.106Z"
   },
   {
    "duration": 5,
    "start_time": "2023-03-18T20:43:37.019Z"
   },
   {
    "duration": 5,
    "start_time": "2023-03-18T20:43:43.073Z"
   },
   {
    "duration": 9,
    "start_time": "2023-03-18T20:45:48.705Z"
   },
   {
    "duration": 20,
    "start_time": "2023-03-18T20:45:59.110Z"
   },
   {
    "duration": 4,
    "start_time": "2023-03-18T20:46:13.165Z"
   },
   {
    "duration": 7,
    "start_time": "2023-03-18T20:46:14.015Z"
   },
   {
    "duration": 2,
    "start_time": "2023-03-18T20:46:22.515Z"
   },
   {
    "duration": 46,
    "start_time": "2023-03-18T20:46:23.009Z"
   },
   {
    "duration": 5,
    "start_time": "2023-03-18T20:46:23.351Z"
   },
   {
    "duration": 3,
    "start_time": "2023-03-18T20:46:23.617Z"
   },
   {
    "duration": 3,
    "start_time": "2023-03-18T20:46:23.848Z"
   },
   {
    "duration": 11,
    "start_time": "2023-03-18T20:46:24.156Z"
   },
   {
    "duration": 5,
    "start_time": "2023-03-18T20:46:26.283Z"
   },
   {
    "duration": 6,
    "start_time": "2023-03-18T20:46:26.731Z"
   },
   {
    "duration": 31,
    "start_time": "2023-03-18T20:46:27.518Z"
   },
   {
    "duration": 8,
    "start_time": "2023-03-18T20:46:29.326Z"
   },
   {
    "duration": 6,
    "start_time": "2023-03-18T20:46:30.468Z"
   },
   {
    "duration": 44,
    "start_time": "2023-03-18T20:47:52.543Z"
   },
   {
    "duration": 9,
    "start_time": "2023-03-18T20:48:03.141Z"
   },
   {
    "duration": 46,
    "start_time": "2023-03-18T20:48:09.765Z"
   },
   {
    "duration": 11,
    "start_time": "2023-03-18T20:48:13.634Z"
   },
   {
    "duration": 10,
    "start_time": "2023-03-18T20:48:55.409Z"
   },
   {
    "duration": 24,
    "start_time": "2023-03-18T20:48:57.313Z"
   },
   {
    "duration": 5,
    "start_time": "2023-03-18T20:49:12.839Z"
   },
   {
    "duration": 3,
    "start_time": "2023-03-18T20:49:32.145Z"
   },
   {
    "duration": 50,
    "start_time": "2023-03-18T20:49:32.906Z"
   },
   {
    "duration": 4,
    "start_time": "2023-03-18T20:49:32.958Z"
   },
   {
    "duration": 4,
    "start_time": "2023-03-18T20:49:33.004Z"
   },
   {
    "duration": 3,
    "start_time": "2023-03-18T20:49:33.153Z"
   },
   {
    "duration": 12,
    "start_time": "2023-03-18T20:49:34.710Z"
   },
   {
    "duration": 4,
    "start_time": "2023-03-18T20:49:36.823Z"
   },
   {
    "duration": 5,
    "start_time": "2023-03-18T20:49:38.848Z"
   },
   {
    "duration": 33,
    "start_time": "2023-03-18T20:49:41.897Z"
   },
   {
    "duration": 8,
    "start_time": "2023-03-18T20:49:44.269Z"
   },
   {
    "duration": 2,
    "start_time": "2023-03-18T20:49:47.262Z"
   },
   {
    "duration": 13,
    "start_time": "2023-03-18T20:49:47.709Z"
   },
   {
    "duration": 6,
    "start_time": "2023-03-18T20:49:48.310Z"
   },
   {
    "duration": 6,
    "start_time": "2023-03-18T20:50:24.445Z"
   },
   {
    "duration": 5,
    "start_time": "2023-03-18T20:50:54.126Z"
   },
   {
    "duration": 10,
    "start_time": "2023-03-18T20:50:57.215Z"
   },
   {
    "duration": 738,
    "start_time": "2023-03-18T20:53:24.664Z"
   },
   {
    "duration": 3,
    "start_time": "2023-03-18T20:53:28.688Z"
   },
   {
    "duration": 60,
    "start_time": "2023-03-18T20:53:29.148Z"
   },
   {
    "duration": 5,
    "start_time": "2023-03-18T20:53:29.456Z"
   },
   {
    "duration": 4,
    "start_time": "2023-03-18T20:53:29.621Z"
   },
   {
    "duration": 4,
    "start_time": "2023-03-18T20:53:29.767Z"
   },
   {
    "duration": 12,
    "start_time": "2023-03-18T20:53:29.943Z"
   },
   {
    "duration": 5,
    "start_time": "2023-03-18T20:53:30.271Z"
   },
   {
    "duration": 6,
    "start_time": "2023-03-18T20:53:30.609Z"
   },
   {
    "duration": 41,
    "start_time": "2023-03-18T20:53:30.944Z"
   },
   {
    "duration": 10,
    "start_time": "2023-03-18T20:53:31.539Z"
   },
   {
    "duration": 6,
    "start_time": "2023-03-18T20:53:32.209Z"
   },
   {
    "duration": 7,
    "start_time": "2023-03-18T20:53:32.705Z"
   },
   {
    "duration": 19,
    "start_time": "2023-03-18T20:53:34.713Z"
   },
   {
    "duration": 2,
    "start_time": "2023-03-18T20:56:22.353Z"
   },
   {
    "duration": 48,
    "start_time": "2023-03-18T20:56:22.704Z"
   },
   {
    "duration": 4,
    "start_time": "2023-03-18T20:56:23.041Z"
   },
   {
    "duration": 3,
    "start_time": "2023-03-18T20:56:23.240Z"
   },
   {
    "duration": 3,
    "start_time": "2023-03-18T20:56:23.472Z"
   },
   {
    "duration": 10,
    "start_time": "2023-03-18T20:56:23.681Z"
   },
   {
    "duration": 5,
    "start_time": "2023-03-18T20:56:24.479Z"
   },
   {
    "duration": 7,
    "start_time": "2023-03-18T20:56:25.309Z"
   },
   {
    "duration": 32,
    "start_time": "2023-03-18T20:56:26.192Z"
   },
   {
    "duration": 6,
    "start_time": "2023-03-18T20:56:26.724Z"
   },
   {
    "duration": 5,
    "start_time": "2023-03-18T20:56:27.513Z"
   },
   {
    "duration": 6,
    "start_time": "2023-03-18T20:56:27.865Z"
   },
   {
    "duration": 19,
    "start_time": "2023-03-18T20:56:28.450Z"
   },
   {
    "duration": 6,
    "start_time": "2023-03-18T20:57:08.481Z"
   },
   {
    "duration": 6,
    "start_time": "2023-03-18T21:04:20.844Z"
   },
   {
    "duration": 44,
    "start_time": "2023-03-18T21:05:14.637Z"
   },
   {
    "duration": 213,
    "start_time": "2023-03-18T21:05:32.268Z"
   },
   {
    "duration": 2,
    "start_time": "2023-03-18T21:06:11.829Z"
   },
   {
    "duration": 48,
    "start_time": "2023-03-18T21:06:12.245Z"
   },
   {
    "duration": 4,
    "start_time": "2023-03-18T21:06:12.917Z"
   },
   {
    "duration": 2,
    "start_time": "2023-03-18T21:06:13.136Z"
   },
   {
    "duration": 3,
    "start_time": "2023-03-18T21:06:13.417Z"
   },
   {
    "duration": 11,
    "start_time": "2023-03-18T21:06:13.756Z"
   },
   {
    "duration": 6,
    "start_time": "2023-03-18T21:06:14.950Z"
   },
   {
    "duration": 44,
    "start_time": "2023-03-18T21:06:15.445Z"
   },
   {
    "duration": 7,
    "start_time": "2023-03-18T21:06:17.029Z"
   },
   {
    "duration": 5,
    "start_time": "2023-03-18T21:06:17.765Z"
   },
   {
    "duration": 7,
    "start_time": "2023-03-18T21:06:19.340Z"
   },
   {
    "duration": 7,
    "start_time": "2023-03-18T21:06:20.268Z"
   },
   {
    "duration": 16,
    "start_time": "2023-03-18T21:06:30.660Z"
   },
   {
    "duration": 6,
    "start_time": "2023-03-18T21:10:33.943Z"
   },
   {
    "duration": 9,
    "start_time": "2023-03-18T21:12:07.489Z"
   },
   {
    "duration": 692,
    "start_time": "2023-03-18T21:12:23.151Z"
   },
   {
    "duration": 7,
    "start_time": "2023-03-18T21:12:26.873Z"
   },
   {
    "duration": 48,
    "start_time": "2023-03-18T21:13:12.449Z"
   },
   {
    "duration": 3,
    "start_time": "2023-03-18T21:15:06.593Z"
   },
   {
    "duration": 47,
    "start_time": "2023-03-18T21:15:06.954Z"
   },
   {
    "duration": 4,
    "start_time": "2023-03-18T21:15:07.297Z"
   },
   {
    "duration": 3,
    "start_time": "2023-03-18T21:15:07.465Z"
   },
   {
    "duration": 3,
    "start_time": "2023-03-18T21:15:07.640Z"
   },
   {
    "duration": 11,
    "start_time": "2023-03-18T21:15:07.833Z"
   },
   {
    "duration": 3,
    "start_time": "2023-03-18T21:15:08.145Z"
   },
   {
    "duration": 32,
    "start_time": "2023-03-18T21:15:08.819Z"
   },
   {
    "duration": 7,
    "start_time": "2023-03-18T21:15:10.089Z"
   },
   {
    "duration": 5,
    "start_time": "2023-03-18T21:15:10.586Z"
   },
   {
    "duration": 5,
    "start_time": "2023-03-18T21:15:11.945Z"
   },
   {
    "duration": 7,
    "start_time": "2023-03-18T21:15:12.341Z"
   },
   {
    "duration": 11,
    "start_time": "2023-03-18T21:15:12.817Z"
   },
   {
    "duration": 5,
    "start_time": "2023-03-18T21:15:13.429Z"
   },
   {
    "duration": 48,
    "start_time": "2023-03-18T21:15:14.544Z"
   },
   {
    "duration": 7,
    "start_time": "2023-03-18T21:15:19.209Z"
   },
   {
    "duration": 3,
    "start_time": "2023-03-18T21:25:14.425Z"
   },
   {
    "duration": 43,
    "start_time": "2023-03-18T21:26:39.584Z"
   },
   {
    "duration": 4303,
    "start_time": "2023-03-18T21:26:59.592Z"
   },
   {
    "duration": 5,
    "start_time": "2023-03-18T21:27:59.975Z"
   },
   {
    "duration": 3,
    "start_time": "2023-03-18T21:28:04.559Z"
   },
   {
    "duration": 50,
    "start_time": "2023-03-18T21:28:04.925Z"
   },
   {
    "duration": 3,
    "start_time": "2023-03-18T21:28:09.829Z"
   },
   {
    "duration": 46,
    "start_time": "2023-03-18T21:28:10.143Z"
   },
   {
    "duration": 5,
    "start_time": "2023-03-18T21:28:10.486Z"
   },
   {
    "duration": 4,
    "start_time": "2023-03-18T21:28:10.662Z"
   },
   {
    "duration": 4,
    "start_time": "2023-03-18T21:28:10.846Z"
   },
   {
    "duration": 12,
    "start_time": "2023-03-18T21:28:11.054Z"
   },
   {
    "duration": 4,
    "start_time": "2023-03-18T21:28:11.430Z"
   },
   {
    "duration": 31,
    "start_time": "2023-03-18T21:28:12.855Z"
   },
   {
    "duration": 6,
    "start_time": "2023-03-18T21:28:14.648Z"
   },
   {
    "duration": 6,
    "start_time": "2023-03-18T21:28:14.847Z"
   },
   {
    "duration": 6,
    "start_time": "2023-03-18T21:28:17.629Z"
   },
   {
    "duration": 7,
    "start_time": "2023-03-18T21:28:17.976Z"
   },
   {
    "duration": 4,
    "start_time": "2023-03-18T21:28:18.647Z"
   },
   {
    "duration": 11,
    "start_time": "2023-03-18T21:28:19.487Z"
   },
   {
    "duration": 4,
    "start_time": "2023-03-18T21:28:22.625Z"
   },
   {
    "duration": 5,
    "start_time": "2023-03-18T21:28:23.474Z"
   },
   {
    "duration": 3600,
    "start_time": "2023-03-18T21:28:24.318Z"
   },
   {
    "duration": 12,
    "start_time": "2023-03-18T21:35:03.658Z"
   },
   {
    "duration": 6,
    "start_time": "2023-03-18T21:35:13.898Z"
   },
   {
    "duration": 3,
    "start_time": "2023-03-18T21:35:17.632Z"
   },
   {
    "duration": 46,
    "start_time": "2023-03-18T21:35:17.936Z"
   },
   {
    "duration": 3,
    "start_time": "2023-03-18T21:35:18.222Z"
   },
   {
    "duration": 3,
    "start_time": "2023-03-18T21:35:18.380Z"
   },
   {
    "duration": 4,
    "start_time": "2023-03-18T21:35:18.543Z"
   },
   {
    "duration": 10,
    "start_time": "2023-03-18T21:35:18.729Z"
   },
   {
    "duration": 3,
    "start_time": "2023-03-18T21:35:19.033Z"
   },
   {
    "duration": 31,
    "start_time": "2023-03-18T21:35:19.354Z"
   },
   {
    "duration": 7,
    "start_time": "2023-03-18T21:35:19.898Z"
   },
   {
    "duration": 5,
    "start_time": "2023-03-18T21:35:20.098Z"
   },
   {
    "duration": 5,
    "start_time": "2023-03-18T21:35:21.083Z"
   },
   {
    "duration": 7,
    "start_time": "2023-03-18T21:35:21.262Z"
   },
   {
    "duration": 5,
    "start_time": "2023-03-18T21:35:21.437Z"
   },
   {
    "duration": 6,
    "start_time": "2023-03-18T21:35:21.649Z"
   },
   {
    "duration": 11,
    "start_time": "2023-03-18T21:35:22.237Z"
   },
   {
    "duration": 4,
    "start_time": "2023-03-18T21:35:23.162Z"
   },
   {
    "duration": 6,
    "start_time": "2023-03-18T21:35:24.243Z"
   },
   {
    "duration": 17605,
    "start_time": "2023-03-18T21:35:25.030Z"
   },
   {
    "duration": 16859,
    "start_time": "2023-03-18T21:39:17.048Z"
   },
   {
    "duration": 16209,
    "start_time": "2023-03-18T21:39:43.829Z"
   },
   {
    "duration": 4,
    "start_time": "2023-03-18T21:41:23.529Z"
   },
   {
    "duration": 5,
    "start_time": "2023-03-18T21:47:46.337Z"
   },
   {
    "duration": 3,
    "start_time": "2023-03-18T21:48:11.945Z"
   },
   {
    "duration": 3,
    "start_time": "2023-03-18T21:48:55.656Z"
   },
   {
    "duration": 5,
    "start_time": "2023-03-18T21:49:11.952Z"
   },
   {
    "duration": 3,
    "start_time": "2023-03-18T21:49:52.890Z"
   },
   {
    "duration": 47,
    "start_time": "2023-03-18T21:49:53.229Z"
   },
   {
    "duration": 4,
    "start_time": "2023-03-18T21:49:53.533Z"
   },
   {
    "duration": 3,
    "start_time": "2023-03-18T21:49:53.680Z"
   },
   {
    "duration": 4,
    "start_time": "2023-03-18T21:49:53.857Z"
   },
   {
    "duration": 10,
    "start_time": "2023-03-18T21:49:54.034Z"
   },
   {
    "duration": 4,
    "start_time": "2023-03-18T21:49:54.329Z"
   },
   {
    "duration": 32,
    "start_time": "2023-03-18T21:49:54.680Z"
   },
   {
    "duration": 9,
    "start_time": "2023-03-18T21:49:55.234Z"
   },
   {
    "duration": 7,
    "start_time": "2023-03-18T21:49:55.442Z"
   },
   {
    "duration": 8,
    "start_time": "2023-03-18T21:49:56.233Z"
   },
   {
    "duration": 8,
    "start_time": "2023-03-18T21:49:56.434Z"
   },
   {
    "duration": 5,
    "start_time": "2023-03-18T21:49:56.627Z"
   },
   {
    "duration": 8,
    "start_time": "2023-03-18T21:49:56.830Z"
   },
   {
    "duration": 14,
    "start_time": "2023-03-18T21:49:57.049Z"
   },
   {
    "duration": 5,
    "start_time": "2023-03-18T21:49:57.253Z"
   },
   {
    "duration": 6,
    "start_time": "2023-03-18T21:49:57.461Z"
   },
   {
    "duration": 1075,
    "start_time": "2023-03-18T21:51:36.120Z"
   },
   {
    "duration": 59,
    "start_time": "2023-03-18T21:51:37.197Z"
   },
   {
    "duration": 4,
    "start_time": "2023-03-18T21:51:37.258Z"
   },
   {
    "duration": 7,
    "start_time": "2023-03-18T21:51:37.264Z"
   },
   {
    "duration": 5,
    "start_time": "2023-03-18T21:51:37.272Z"
   },
   {
    "duration": 12,
    "start_time": "2023-03-18T21:51:37.281Z"
   },
   {
    "duration": 4,
    "start_time": "2023-03-18T21:51:37.785Z"
   },
   {
    "duration": 41,
    "start_time": "2023-03-18T21:51:38.227Z"
   },
   {
    "duration": 7,
    "start_time": "2023-03-18T21:51:39.506Z"
   },
   {
    "duration": 6,
    "start_time": "2023-03-18T21:51:39.950Z"
   },
   {
    "duration": 6,
    "start_time": "2023-03-18T21:51:41.049Z"
   },
   {
    "duration": 8,
    "start_time": "2023-03-18T21:51:41.311Z"
   },
   {
    "duration": 5,
    "start_time": "2023-03-18T21:51:41.678Z"
   },
   {
    "duration": 8,
    "start_time": "2023-03-18T21:51:42.016Z"
   },
   {
    "duration": 12,
    "start_time": "2023-03-18T21:51:42.587Z"
   },
   {
    "duration": 5,
    "start_time": "2023-03-18T21:51:43.378Z"
   },
   {
    "duration": 8,
    "start_time": "2023-03-18T21:51:44.224Z"
   },
   {
    "duration": 25195,
    "start_time": "2023-03-18T21:51:44.723Z"
   },
   {
    "duration": 3,
    "start_time": "2023-03-18T21:52:21.478Z"
   },
   {
    "duration": 5,
    "start_time": "2023-03-18T21:52:22.961Z"
   },
   {
    "duration": 5,
    "start_time": "2023-03-18T21:52:24.279Z"
   },
   {
    "duration": 4,
    "start_time": "2023-03-18T21:57:09.916Z"
   },
   {
    "duration": 3,
    "start_time": "2023-03-18T21:57:26.218Z"
   },
   {
    "duration": 49,
    "start_time": "2023-03-18T21:57:26.604Z"
   },
   {
    "duration": 4,
    "start_time": "2023-03-18T21:57:27.580Z"
   },
   {
    "duration": 3,
    "start_time": "2023-03-18T21:57:27.776Z"
   },
   {
    "duration": 3,
    "start_time": "2023-03-18T21:57:27.962Z"
   },
   {
    "duration": 16,
    "start_time": "2023-03-18T21:57:28.454Z"
   },
   {
    "duration": 4,
    "start_time": "2023-03-18T21:57:28.974Z"
   },
   {
    "duration": 4,
    "start_time": "2023-03-18T21:57:29.178Z"
   },
   {
    "duration": 31,
    "start_time": "2023-03-18T21:57:29.388Z"
   },
   {
    "duration": 7,
    "start_time": "2023-03-18T21:57:30.811Z"
   },
   {
    "duration": 6,
    "start_time": "2023-03-18T21:57:31.200Z"
   },
   {
    "duration": 6,
    "start_time": "2023-03-18T21:57:33.662Z"
   },
   {
    "duration": 8,
    "start_time": "2023-03-18T21:57:33.995Z"
   },
   {
    "duration": 6,
    "start_time": "2023-03-18T21:57:34.396Z"
   },
   {
    "duration": 11,
    "start_time": "2023-03-18T21:57:34.708Z"
   },
   {
    "duration": 6,
    "start_time": "2023-03-18T21:57:35.277Z"
   },
   {
    "duration": 7,
    "start_time": "2023-03-18T21:57:35.685Z"
   },
   {
    "duration": 27587,
    "start_time": "2023-03-18T21:57:36.118Z"
   },
   {
    "duration": 3,
    "start_time": "2023-03-18T21:58:09.796Z"
   },
   {
    "duration": 6,
    "start_time": "2023-03-18T21:58:10.841Z"
   },
   {
    "duration": 5,
    "start_time": "2023-03-18T21:58:11.575Z"
   },
   {
    "duration": 7917,
    "start_time": "2023-03-18T21:58:27.873Z"
   },
   {
    "duration": 3,
    "start_time": "2023-03-18T21:58:38.006Z"
   },
   {
    "duration": 5,
    "start_time": "2023-03-18T21:58:38.923Z"
   },
   {
    "duration": 6,
    "start_time": "2023-03-18T21:58:40.580Z"
   },
   {
    "duration": 39428,
    "start_time": "2023-03-18T21:58:46.925Z"
   },
   {
    "duration": 5,
    "start_time": "2023-03-18T21:59:26.356Z"
   },
   {
    "duration": 14,
    "start_time": "2023-03-18T21:59:26.362Z"
   },
   {
    "duration": 27578,
    "start_time": "2023-03-18T21:59:56.461Z"
   },
   {
    "duration": 4,
    "start_time": "2023-03-18T22:00:59.553Z"
   },
   {
    "duration": 5,
    "start_time": "2023-03-18T22:01:00.511Z"
   },
   {
    "duration": 5,
    "start_time": "2023-03-18T22:01:00.785Z"
   },
   {
    "duration": 9,
    "start_time": "2023-03-18T22:02:12.774Z"
   },
   {
    "duration": 7,
    "start_time": "2023-03-18T22:02:23.362Z"
   },
   {
    "duration": 3,
    "start_time": "2023-03-18T22:03:51.188Z"
   },
   {
    "duration": 49,
    "start_time": "2023-03-18T22:03:51.522Z"
   },
   {
    "duration": 4,
    "start_time": "2023-03-18T22:03:52.102Z"
   },
   {
    "duration": 3,
    "start_time": "2023-03-18T22:03:52.500Z"
   },
   {
    "duration": 4,
    "start_time": "2023-03-18T22:03:52.879Z"
   },
   {
    "duration": 10,
    "start_time": "2023-03-18T22:03:53.288Z"
   },
   {
    "duration": 4,
    "start_time": "2023-03-18T22:03:54.357Z"
   },
   {
    "duration": 3,
    "start_time": "2023-03-18T22:03:54.962Z"
   },
   {
    "duration": 33,
    "start_time": "2023-03-18T22:03:55.453Z"
   },
   {
    "duration": 7,
    "start_time": "2023-03-18T22:03:56.920Z"
   },
   {
    "duration": 5,
    "start_time": "2023-03-18T22:03:57.487Z"
   },
   {
    "duration": 10,
    "start_time": "2023-03-18T22:03:59.208Z"
   },
   {
    "duration": 18,
    "start_time": "2023-03-18T22:03:59.694Z"
   },
   {
    "duration": 6,
    "start_time": "2023-03-18T22:04:05.053Z"
   },
   {
    "duration": 7,
    "start_time": "2023-03-18T22:04:05.526Z"
   },
   {
    "duration": 25921,
    "start_time": "2023-03-18T22:04:06.574Z"
   },
   {
    "duration": 4,
    "start_time": "2023-03-18T22:04:32.497Z"
   },
   {
    "duration": 25,
    "start_time": "2023-03-18T22:04:32.502Z"
   },
   {
    "duration": 8,
    "start_time": "2023-03-18T22:04:35.702Z"
   },
   {
    "duration": 1040,
    "start_time": "2023-03-18T22:06:20.554Z"
   },
   {
    "duration": 61,
    "start_time": "2023-03-18T22:06:23.281Z"
   },
   {
    "duration": 4,
    "start_time": "2023-03-18T22:07:42.756Z"
   },
   {
    "duration": 3,
    "start_time": "2023-03-18T22:07:44.161Z"
   },
   {
    "duration": 4,
    "start_time": "2023-03-18T22:07:46.253Z"
   },
   {
    "duration": 11,
    "start_time": "2023-03-18T22:07:47.980Z"
   },
   {
    "duration": 3,
    "start_time": "2023-03-18T22:15:54.061Z"
   },
   {
    "duration": 93,
    "start_time": "2023-03-18T22:16:11.617Z"
   },
   {
    "duration": 1069,
    "start_time": "2023-03-18T22:16:20.651Z"
   },
   {
    "duration": 55,
    "start_time": "2023-03-18T22:16:21.722Z"
   },
   {
    "duration": 4,
    "start_time": "2023-03-18T22:16:21.779Z"
   },
   {
    "duration": 7,
    "start_time": "2023-03-18T22:16:21.784Z"
   },
   {
    "duration": 5,
    "start_time": "2023-03-18T22:16:21.792Z"
   },
   {
    "duration": 12,
    "start_time": "2023-03-18T22:16:21.898Z"
   },
   {
    "duration": 3,
    "start_time": "2023-03-18T22:16:22.274Z"
   },
   {
    "duration": 32,
    "start_time": "2023-03-18T22:16:22.462Z"
   },
   {
    "duration": 7,
    "start_time": "2023-03-18T22:16:23.108Z"
   },
   {
    "duration": 5,
    "start_time": "2023-03-18T22:16:23.338Z"
   },
   {
    "duration": 11,
    "start_time": "2023-03-18T22:16:24.203Z"
   },
   {
    "duration": 11,
    "start_time": "2023-03-18T22:16:24.627Z"
   },
   {
    "duration": 5,
    "start_time": "2023-03-18T22:16:24.973Z"
   },
   {
    "duration": 8,
    "start_time": "2023-03-18T22:16:25.250Z"
   },
   {
    "duration": 26388,
    "start_time": "2023-03-18T22:16:25.523Z"
   },
   {
    "duration": 4,
    "start_time": "2023-03-18T22:16:51.913Z"
   },
   {
    "duration": 4,
    "start_time": "2023-03-18T22:16:55.051Z"
   },
   {
    "duration": 9,
    "start_time": "2023-03-18T22:16:55.475Z"
   },
   {
    "duration": 100,
    "start_time": "2023-03-18T22:20:38.796Z"
   },
   {
    "duration": 3,
    "start_time": "2023-03-18T22:21:17.533Z"
   },
   {
    "duration": 47,
    "start_time": "2023-03-18T22:21:18.113Z"
   },
   {
    "duration": 3,
    "start_time": "2023-03-18T22:21:18.460Z"
   },
   {
    "duration": 3,
    "start_time": "2023-03-18T22:21:18.622Z"
   },
   {
    "duration": 3,
    "start_time": "2023-03-18T22:21:18.799Z"
   },
   {
    "duration": 11,
    "start_time": "2023-03-18T22:21:18.975Z"
   },
   {
    "duration": 4,
    "start_time": "2023-03-18T22:21:19.331Z"
   },
   {
    "duration": 32,
    "start_time": "2023-03-18T22:21:19.516Z"
   },
   {
    "duration": 7,
    "start_time": "2023-03-18T22:21:20.051Z"
   },
   {
    "duration": 6,
    "start_time": "2023-03-18T22:21:20.219Z"
   },
   {
    "duration": 11,
    "start_time": "2023-03-18T22:21:20.715Z"
   },
   {
    "duration": 3,
    "start_time": "2023-03-18T22:21:20.891Z"
   },
   {
    "duration": 13,
    "start_time": "2023-03-18T22:21:21.066Z"
   },
   {
    "duration": 10,
    "start_time": "2023-03-18T22:21:21.239Z"
   },
   {
    "duration": 5,
    "start_time": "2023-03-18T22:21:21.413Z"
   },
   {
    "duration": 3,
    "start_time": "2023-03-18T22:21:44.579Z"
   },
   {
    "duration": 14,
    "start_time": "2023-03-18T22:21:46.717Z"
   },
   {
    "duration": 8,
    "start_time": "2023-03-18T22:21:54.847Z"
   },
   {
    "duration": 8,
    "start_time": "2023-03-18T22:22:02.008Z"
   },
   {
    "duration": 8,
    "start_time": "2023-03-18T22:22:39.157Z"
   },
   {
    "duration": 3,
    "start_time": "2023-03-18T22:22:53.333Z"
   },
   {
    "duration": 47,
    "start_time": "2023-03-18T22:22:53.677Z"
   },
   {
    "duration": 5,
    "start_time": "2023-03-18T22:22:53.990Z"
   },
   {
    "duration": 3,
    "start_time": "2023-03-18T22:22:54.178Z"
   },
   {
    "duration": 3,
    "start_time": "2023-03-18T22:22:54.325Z"
   },
   {
    "duration": 12,
    "start_time": "2023-03-18T22:22:54.492Z"
   },
   {
    "duration": 3,
    "start_time": "2023-03-18T22:22:54.815Z"
   },
   {
    "duration": 30,
    "start_time": "2023-03-18T22:22:54.984Z"
   },
   {
    "duration": 7,
    "start_time": "2023-03-18T22:22:55.549Z"
   },
   {
    "duration": 5,
    "start_time": "2023-03-18T22:22:55.734Z"
   },
   {
    "duration": 9,
    "start_time": "2023-03-18T22:22:56.351Z"
   },
   {
    "duration": 2,
    "start_time": "2023-03-18T22:22:56.534Z"
   },
   {
    "duration": 13,
    "start_time": "2023-03-18T22:22:56.734Z"
   },
   {
    "duration": 11,
    "start_time": "2023-03-18T22:22:57.199Z"
   },
   {
    "duration": 8,
    "start_time": "2023-03-18T22:22:57.732Z"
   },
   {
    "duration": 10,
    "start_time": "2023-03-18T22:23:06.112Z"
   },
   {
    "duration": 4,
    "start_time": "2023-03-18T22:23:06.797Z"
   },
   {
    "duration": 5,
    "start_time": "2023-03-18T22:23:07.333Z"
   },
   {
    "duration": 25879,
    "start_time": "2023-03-18T22:23:08.014Z"
   },
   {
    "duration": 4,
    "start_time": "2023-03-18T22:23:33.894Z"
   },
   {
    "duration": 4,
    "start_time": "2023-03-18T22:23:42.542Z"
   },
   {
    "duration": 8,
    "start_time": "2023-03-18T22:23:42.711Z"
   },
   {
    "duration": 659,
    "start_time": "2023-03-18T22:24:24.039Z"
   },
   {
    "duration": 5,
    "start_time": "2023-03-18T22:24:39.062Z"
   },
   {
    "duration": 7,
    "start_time": "2023-03-18T22:25:18.023Z"
   },
   {
    "duration": 1008,
    "start_time": "2023-03-18T22:27:01.887Z"
   },
   {
    "duration": 55,
    "start_time": "2023-03-18T22:27:02.898Z"
   },
   {
    "duration": 4,
    "start_time": "2023-03-18T22:27:02.954Z"
   },
   {
    "duration": 22,
    "start_time": "2023-03-18T22:27:02.959Z"
   },
   {
    "duration": 3,
    "start_time": "2023-03-18T22:27:03.056Z"
   },
   {
    "duration": 11,
    "start_time": "2023-03-18T22:27:03.263Z"
   },
   {
    "duration": 3,
    "start_time": "2023-03-18T22:27:03.639Z"
   },
   {
    "duration": 8,
    "start_time": "2023-03-18T22:27:03.920Z"
   },
   {
    "duration": 6,
    "start_time": "2023-03-18T22:27:04.113Z"
   },
   {
    "duration": 10,
    "start_time": "2023-03-18T22:27:05.488Z"
   },
   {
    "duration": 10,
    "start_time": "2023-03-18T22:27:05.999Z"
   },
   {
    "duration": 38,
    "start_time": "2023-03-18T22:27:18.424Z"
   },
   {
    "duration": 4,
    "start_time": "2023-03-18T22:27:20.795Z"
   },
   {
    "duration": 6,
    "start_time": "2023-03-18T22:27:22.239Z"
   },
   {
    "duration": 26493,
    "start_time": "2023-03-18T22:27:22.711Z"
   },
   {
    "duration": 3,
    "start_time": "2023-03-18T22:27:49.206Z"
   },
   {
    "duration": 4,
    "start_time": "2023-03-18T22:27:53.234Z"
   },
   {
    "duration": 10,
    "start_time": "2023-03-18T22:27:53.678Z"
   },
   {
    "duration": 8,
    "start_time": "2023-03-18T22:29:09.605Z"
   },
   {
    "duration": 3,
    "start_time": "2023-03-18T22:33:59.643Z"
   },
   {
    "duration": 132,
    "start_time": "2023-03-18T22:34:47.061Z"
   },
   {
    "duration": 40,
    "start_time": "2023-03-18T22:34:54.933Z"
   },
   {
    "duration": 9,
    "start_time": "2023-03-18T22:45:42.973Z"
   },
   {
    "duration": 10,
    "start_time": "2023-03-18T22:46:50.457Z"
   },
   {
    "duration": 112,
    "start_time": "2023-03-19T11:47:03.425Z"
   },
   {
    "duration": 1251,
    "start_time": "2023-03-19T11:47:07.917Z"
   },
   {
    "duration": 115,
    "start_time": "2023-03-19T11:47:09.171Z"
   },
   {
    "duration": 5,
    "start_time": "2023-03-19T11:47:09.287Z"
   },
   {
    "duration": 13,
    "start_time": "2023-03-19T11:47:09.294Z"
   },
   {
    "duration": 7,
    "start_time": "2023-03-19T11:47:09.309Z"
   },
   {
    "duration": 18,
    "start_time": "2023-03-19T11:47:09.319Z"
   },
   {
    "duration": 5,
    "start_time": "2023-03-19T11:47:09.661Z"
   },
   {
    "duration": 8,
    "start_time": "2023-03-19T11:47:09.885Z"
   },
   {
    "duration": 6,
    "start_time": "2023-03-19T11:47:10.095Z"
   },
   {
    "duration": 12,
    "start_time": "2023-03-19T11:47:10.493Z"
   },
   {
    "duration": 14,
    "start_time": "2023-03-19T11:47:10.690Z"
   },
   {
    "duration": 46,
    "start_time": "2023-03-19T11:47:10.878Z"
   },
   {
    "duration": 4,
    "start_time": "2023-03-19T11:47:11.654Z"
   },
   {
    "duration": 6,
    "start_time": "2023-03-19T11:47:11.868Z"
   },
   {
    "duration": 31731,
    "start_time": "2023-03-19T11:47:12.293Z"
   },
   {
    "duration": 4,
    "start_time": "2023-03-19T11:47:44.026Z"
   },
   {
    "duration": 5,
    "start_time": "2023-03-19T11:47:50.114Z"
   },
   {
    "duration": 7,
    "start_time": "2023-03-19T11:47:52.520Z"
   },
   {
    "duration": 88,
    "start_time": "2023-03-19T11:47:57.680Z"
   },
   {
    "duration": 78601,
    "start_time": "2023-03-19T11:48:01.643Z"
   },
   {
    "duration": 4,
    "start_time": "2023-03-19T11:49:26.298Z"
   },
   {
    "duration": 15,
    "start_time": "2023-03-19T11:49:29.628Z"
   },
   {
    "duration": 9,
    "start_time": "2023-03-19T11:49:30.617Z"
   },
   {
    "duration": 65918,
    "start_time": "2023-03-19T11:50:33.349Z"
   },
   {
    "duration": 4,
    "start_time": "2023-03-19T11:52:55.419Z"
   },
   {
    "duration": 16,
    "start_time": "2023-03-19T11:52:56.586Z"
   },
   {
    "duration": 7,
    "start_time": "2023-03-19T11:52:57.615Z"
   },
   {
    "duration": 103293,
    "start_time": "2023-03-19T11:56:31.288Z"
   },
   {
    "duration": 4,
    "start_time": "2023-03-19T12:02:53.147Z"
   },
   {
    "duration": 19,
    "start_time": "2023-03-19T12:02:54.322Z"
   },
   {
    "duration": 8,
    "start_time": "2023-03-19T12:02:55.259Z"
   },
   {
    "duration": 1128,
    "start_time": "2023-03-19T12:13:22.214Z"
   },
   {
    "duration": 61,
    "start_time": "2023-03-19T12:13:23.344Z"
   },
   {
    "duration": 5,
    "start_time": "2023-03-19T12:13:25.120Z"
   },
   {
    "duration": 3,
    "start_time": "2023-03-19T12:13:25.615Z"
   },
   {
    "duration": 3,
    "start_time": "2023-03-19T12:13:26.019Z"
   },
   {
    "duration": 14,
    "start_time": "2023-03-19T12:13:26.479Z"
   },
   {
    "duration": 4,
    "start_time": "2023-03-19T12:13:32.648Z"
   },
   {
    "duration": 8,
    "start_time": "2023-03-19T12:13:33.292Z"
   },
   {
    "duration": 6,
    "start_time": "2023-03-19T12:13:35.375Z"
   },
   {
    "duration": 12,
    "start_time": "2023-03-19T12:13:35.855Z"
   },
   {
    "duration": 14,
    "start_time": "2023-03-19T12:13:36.207Z"
   },
   {
    "duration": 62,
    "start_time": "2023-03-19T12:13:36.694Z"
   },
   {
    "duration": 4,
    "start_time": "2023-03-19T12:13:41.288Z"
   },
   {
    "duration": 7,
    "start_time": "2023-03-19T12:13:41.818Z"
   },
   {
    "duration": 8,
    "start_time": "2023-03-19T12:14:06.731Z"
   },
   {
    "duration": 5,
    "start_time": "2023-03-19T12:14:48.816Z"
   },
   {
    "duration": 110,
    "start_time": "2023-03-19T12:15:00.640Z"
   },
   {
    "duration": 7,
    "start_time": "2023-03-19T12:17:30.385Z"
   },
   {
    "duration": 21,
    "start_time": "2023-03-19T12:17:41.425Z"
   },
   {
    "duration": 43,
    "start_time": "2023-03-19T12:18:21.841Z"
   },
   {
    "duration": 8,
    "start_time": "2023-03-19T12:20:35.618Z"
   },
   {
    "duration": 6,
    "start_time": "2023-03-19T12:20:54.228Z"
   },
   {
    "duration": 1128,
    "start_time": "2023-03-19T12:21:39.195Z"
   },
   {
    "duration": 60,
    "start_time": "2023-03-19T12:21:40.325Z"
   },
   {
    "duration": 5,
    "start_time": "2023-03-19T12:21:40.387Z"
   },
   {
    "duration": 9,
    "start_time": "2023-03-19T12:21:40.394Z"
   },
   {
    "duration": 3,
    "start_time": "2023-03-19T12:21:41.653Z"
   },
   {
    "duration": 14,
    "start_time": "2023-03-19T12:21:41.883Z"
   },
   {
    "duration": 5,
    "start_time": "2023-03-19T12:21:42.513Z"
   },
   {
    "duration": 9,
    "start_time": "2023-03-19T12:21:42.812Z"
   },
   {
    "duration": 6,
    "start_time": "2023-03-19T12:21:43.314Z"
   },
   {
    "duration": 12,
    "start_time": "2023-03-19T12:21:44.098Z"
   },
   {
    "duration": 16,
    "start_time": "2023-03-19T12:21:44.441Z"
   },
   {
    "duration": 47,
    "start_time": "2023-03-19T12:21:45.122Z"
   },
   {
    "duration": 5,
    "start_time": "2023-03-19T12:21:46.476Z"
   },
   {
    "duration": 7,
    "start_time": "2023-03-19T12:21:47.809Z"
   },
   {
    "duration": 8,
    "start_time": "2023-03-19T12:21:48.277Z"
   },
   {
    "duration": 7,
    "start_time": "2023-03-19T12:21:48.706Z"
   },
   {
    "duration": 23,
    "start_time": "2023-03-19T12:21:49.302Z"
   },
   {
    "duration": 44,
    "start_time": "2023-03-19T12:21:50.130Z"
   },
   {
    "duration": 7,
    "start_time": "2023-03-19T12:21:52.091Z"
   },
   {
    "duration": 7,
    "start_time": "2023-03-19T12:21:52.897Z"
   },
   {
    "duration": 32088,
    "start_time": "2023-03-19T12:22:45.363Z"
   },
   {
    "duration": 4,
    "start_time": "2023-03-19T12:23:22.131Z"
   },
   {
    "duration": 5,
    "start_time": "2023-03-19T12:23:59.706Z"
   },
   {
    "duration": 8,
    "start_time": "2023-03-19T12:24:01.563Z"
   },
   {
    "duration": 40791,
    "start_time": "2023-03-19T12:24:50.238Z"
   },
   {
    "duration": 4,
    "start_time": "2023-03-19T12:25:35.396Z"
   },
   {
    "duration": 6,
    "start_time": "2023-03-19T12:25:36.341Z"
   },
   {
    "duration": 8,
    "start_time": "2023-03-19T12:25:37.035Z"
   },
   {
    "duration": 1206,
    "start_time": "2023-03-19T12:27:27.722Z"
   },
   {
    "duration": 61,
    "start_time": "2023-03-19T12:27:28.930Z"
   },
   {
    "duration": 5,
    "start_time": "2023-03-19T12:27:28.996Z"
   },
   {
    "duration": 13,
    "start_time": "2023-03-19T12:27:29.003Z"
   },
   {
    "duration": 8,
    "start_time": "2023-03-19T12:27:29.018Z"
   },
   {
    "duration": 26,
    "start_time": "2023-03-19T12:27:29.028Z"
   },
   {
    "duration": 8,
    "start_time": "2023-03-19T12:27:29.056Z"
   },
   {
    "duration": 16,
    "start_time": "2023-03-19T12:27:29.066Z"
   },
   {
    "duration": 23,
    "start_time": "2023-03-19T12:27:29.084Z"
   },
   {
    "duration": 20,
    "start_time": "2023-03-19T12:27:29.109Z"
   },
   {
    "duration": 15,
    "start_time": "2023-03-19T12:27:29.131Z"
   },
   {
    "duration": 49,
    "start_time": "2023-03-19T12:27:29.148Z"
   },
   {
    "duration": 4,
    "start_time": "2023-03-19T12:27:29.200Z"
   },
   {
    "duration": 11,
    "start_time": "2023-03-19T12:27:29.206Z"
   },
   {
    "duration": 863,
    "start_time": "2023-03-19T12:28:45.450Z"
   },
   {
    "duration": 824,
    "start_time": "2023-03-19T12:32:03.019Z"
   },
   {
    "duration": 762,
    "start_time": "2023-03-19T12:32:49.494Z"
   },
   {
    "duration": 1275,
    "start_time": "2023-03-19T12:33:52.075Z"
   },
   {
    "duration": 62,
    "start_time": "2023-03-19T12:33:53.353Z"
   },
   {
    "duration": 5,
    "start_time": "2023-03-19T12:33:53.417Z"
   },
   {
    "duration": 9,
    "start_time": "2023-03-19T12:33:53.423Z"
   },
   {
    "duration": 6,
    "start_time": "2023-03-19T12:33:53.435Z"
   },
   {
    "duration": 22,
    "start_time": "2023-03-19T12:33:53.445Z"
   },
   {
    "duration": 4,
    "start_time": "2023-03-19T12:33:56.010Z"
   },
   {
    "duration": 8,
    "start_time": "2023-03-19T12:33:56.361Z"
   },
   {
    "duration": 6,
    "start_time": "2023-03-19T12:33:56.802Z"
   },
   {
    "duration": 13,
    "start_time": "2023-03-19T12:33:57.647Z"
   },
   {
    "duration": 13,
    "start_time": "2023-03-19T12:33:58.216Z"
   },
   {
    "duration": 46,
    "start_time": "2023-03-19T12:33:58.908Z"
   },
   {
    "duration": 4,
    "start_time": "2023-03-19T12:34:01.410Z"
   },
   {
    "duration": 7,
    "start_time": "2023-03-19T12:34:02.536Z"
   },
   {
    "duration": 873,
    "start_time": "2023-03-19T12:34:03.192Z"
   },
   {
    "duration": 12,
    "start_time": "2023-03-19T12:35:46.212Z"
   },
   {
    "duration": 14,
    "start_time": "2023-03-19T12:35:49.531Z"
   },
   {
    "duration": 28,
    "start_time": "2023-03-19T12:35:58.691Z"
   },
   {
    "duration": 8,
    "start_time": "2023-03-19T12:36:23.921Z"
   },
   {
    "duration": 1246,
    "start_time": "2023-03-19T12:36:49.433Z"
   },
   {
    "duration": 61,
    "start_time": "2023-03-19T12:36:50.682Z"
   },
   {
    "duration": 5,
    "start_time": "2023-03-19T12:36:50.745Z"
   },
   {
    "duration": 21,
    "start_time": "2023-03-19T12:36:50.752Z"
   },
   {
    "duration": 28,
    "start_time": "2023-03-19T12:36:50.775Z"
   },
   {
    "duration": 32,
    "start_time": "2023-03-19T12:36:50.805Z"
   },
   {
    "duration": 5,
    "start_time": "2023-03-19T12:36:53.181Z"
   },
   {
    "duration": 8,
    "start_time": "2023-03-19T12:36:53.593Z"
   },
   {
    "duration": 7,
    "start_time": "2023-03-19T12:36:54.039Z"
   },
   {
    "duration": 13,
    "start_time": "2023-03-19T12:36:55.048Z"
   },
   {
    "duration": 13,
    "start_time": "2023-03-19T12:36:55.473Z"
   },
   {
    "duration": 45,
    "start_time": "2023-03-19T12:36:56.173Z"
   },
   {
    "duration": 5,
    "start_time": "2023-03-19T12:36:57.362Z"
   },
   {
    "duration": 6,
    "start_time": "2023-03-19T12:36:57.802Z"
   },
   {
    "duration": 13,
    "start_time": "2023-03-19T12:36:58.834Z"
   },
   {
    "duration": 14,
    "start_time": "2023-03-19T12:36:59.394Z"
   },
   {
    "duration": 11,
    "start_time": "2023-03-19T12:37:43.942Z"
   },
   {
    "duration": 39342,
    "start_time": "2023-03-19T12:37:47.107Z"
   },
   {
    "duration": 5,
    "start_time": "2023-03-19T12:38:29.907Z"
   },
   {
    "duration": 4,
    "start_time": "2023-03-19T12:38:31.354Z"
   },
   {
    "duration": 11,
    "start_time": "2023-03-19T12:38:34.481Z"
   },
   {
    "duration": 87984,
    "start_time": "2023-03-19T12:40:14.500Z"
   },
   {
    "duration": 5,
    "start_time": "2023-03-19T12:41:50.004Z"
   },
   {
    "duration": 6,
    "start_time": "2023-03-19T12:41:54.420Z"
   },
   {
    "duration": 8,
    "start_time": "2023-03-19T12:41:55.177Z"
   },
   {
    "duration": 39656,
    "start_time": "2023-03-19T12:42:07.828Z"
   },
   {
    "duration": 5,
    "start_time": "2023-03-19T12:43:09.182Z"
   },
   {
    "duration": 5,
    "start_time": "2023-03-19T12:43:10.232Z"
   },
   {
    "duration": 8,
    "start_time": "2023-03-19T12:43:10.597Z"
   },
   {
    "duration": 48,
    "start_time": "2023-03-19T12:43:39.340Z"
   },
   {
    "duration": 1184,
    "start_time": "2023-03-19T12:43:47.988Z"
   },
   {
    "duration": 60,
    "start_time": "2023-03-19T12:43:49.174Z"
   },
   {
    "duration": 5,
    "start_time": "2023-03-19T12:43:49.320Z"
   },
   {
    "duration": 4,
    "start_time": "2023-03-19T12:43:49.922Z"
   },
   {
    "duration": 5,
    "start_time": "2023-03-19T12:43:50.290Z"
   },
   {
    "duration": 14,
    "start_time": "2023-03-19T12:43:50.730Z"
   },
   {
    "duration": 5,
    "start_time": "2023-03-19T12:43:51.826Z"
   },
   {
    "duration": 10,
    "start_time": "2023-03-19T12:43:52.261Z"
   },
   {
    "duration": 6,
    "start_time": "2023-03-19T12:43:52.812Z"
   },
   {
    "duration": 14,
    "start_time": "2023-03-19T12:43:53.896Z"
   },
   {
    "duration": 13,
    "start_time": "2023-03-19T12:43:54.251Z"
   },
   {
    "duration": 69,
    "start_time": "2023-03-19T12:43:54.703Z"
   },
   {
    "duration": 5,
    "start_time": "2023-03-19T12:43:56.060Z"
   },
   {
    "duration": 7,
    "start_time": "2023-03-19T12:43:56.500Z"
   },
   {
    "duration": 11,
    "start_time": "2023-03-19T12:43:56.859Z"
   },
   {
    "duration": 10,
    "start_time": "2023-03-19T12:43:57.303Z"
   },
   {
    "duration": 40547,
    "start_time": "2023-03-19T12:43:59.776Z"
   },
   {
    "duration": 5,
    "start_time": "2023-03-19T12:44:54.627Z"
   },
   {
    "duration": 6,
    "start_time": "2023-03-19T12:44:55.459Z"
   },
   {
    "duration": 8,
    "start_time": "2023-03-19T12:44:55.780Z"
   },
   {
    "duration": 5,
    "start_time": "2023-03-19T12:47:04.584Z"
   },
   {
    "duration": 7,
    "start_time": "2023-03-19T12:47:05.056Z"
   },
   {
    "duration": 8,
    "start_time": "2023-03-19T12:47:05.451Z"
   },
   {
    "duration": 3,
    "start_time": "2023-03-19T12:47:53.478Z"
   },
   {
    "duration": 54,
    "start_time": "2023-03-19T12:47:53.814Z"
   },
   {
    "duration": 5,
    "start_time": "2023-03-19T12:47:54.273Z"
   },
   {
    "duration": 5,
    "start_time": "2023-03-19T12:47:54.630Z"
   },
   {
    "duration": 4,
    "start_time": "2023-03-19T12:47:54.948Z"
   },
   {
    "duration": 18,
    "start_time": "2023-03-19T12:47:55.493Z"
   },
   {
    "duration": 5,
    "start_time": "2023-03-19T12:47:56.652Z"
   },
   {
    "duration": 8,
    "start_time": "2023-03-19T12:47:57.045Z"
   },
   {
    "duration": 7,
    "start_time": "2023-03-19T12:47:57.524Z"
   },
   {
    "duration": 12,
    "start_time": "2023-03-19T12:47:59.056Z"
   },
   {
    "duration": 13,
    "start_time": "2023-03-19T12:47:59.685Z"
   },
   {
    "duration": 58,
    "start_time": "2023-03-19T12:48:00.261Z"
   },
   {
    "duration": 4,
    "start_time": "2023-03-19T12:48:07.348Z"
   },
   {
    "duration": 10,
    "start_time": "2023-03-19T12:48:09.692Z"
   },
   {
    "duration": 11,
    "start_time": "2023-03-19T12:48:10.992Z"
   },
   {
    "duration": 11,
    "start_time": "2023-03-19T12:48:30.037Z"
   },
   {
    "duration": 31238,
    "start_time": "2023-03-19T12:48:32.421Z"
   },
   {
    "duration": 4,
    "start_time": "2023-03-19T12:49:07.400Z"
   },
   {
    "duration": 5,
    "start_time": "2023-03-19T12:49:08.748Z"
   },
   {
    "duration": 8,
    "start_time": "2023-03-19T12:49:09.178Z"
   },
   {
    "duration": 2617,
    "start_time": "2023-03-19T12:49:59.230Z"
   },
   {
    "duration": 4,
    "start_time": "2023-03-19T12:50:07.254Z"
   },
   {
    "duration": 5,
    "start_time": "2023-03-19T12:50:09.580Z"
   },
   {
    "duration": 9,
    "start_time": "2023-03-19T12:50:10.333Z"
   },
   {
    "duration": 5874,
    "start_time": "2023-03-19T12:50:38.799Z"
   },
   {
    "duration": 4,
    "start_time": "2023-03-19T12:50:45.797Z"
   },
   {
    "duration": 5,
    "start_time": "2023-03-19T12:50:46.570Z"
   },
   {
    "duration": 7,
    "start_time": "2023-03-19T12:50:47.024Z"
   },
   {
    "duration": 190,
    "start_time": "2023-03-19T12:54:59.916Z"
   },
   {
    "duration": 100,
    "start_time": "2023-03-19T12:55:32.075Z"
   },
   {
    "duration": 148,
    "start_time": "2023-03-19T12:55:46.845Z"
   },
   {
    "duration": 14,
    "start_time": "2023-03-19T12:56:26.012Z"
   },
   {
    "duration": 13,
    "start_time": "2023-03-19T12:56:26.380Z"
   },
   {
    "duration": 8,
    "start_time": "2023-03-19T12:56:27.125Z"
   },
   {
    "duration": 72,
    "start_time": "2023-03-19T12:56:27.696Z"
   },
   {
    "duration": 80,
    "start_time": "2023-03-19T13:00:16.444Z"
   },
   {
    "duration": 82,
    "start_time": "2023-03-19T13:00:23.246Z"
   },
   {
    "duration": 170,
    "start_time": "2023-03-19T13:00:32.176Z"
   },
   {
    "duration": 69723,
    "start_time": "2023-03-19T13:01:54.623Z"
   },
   {
    "duration": 5,
    "start_time": "2023-03-19T13:03:07.814Z"
   },
   {
    "duration": 9,
    "start_time": "2023-03-19T13:03:09.231Z"
   },
   {
    "duration": 9,
    "start_time": "2023-03-19T13:03:10.307Z"
   },
   {
    "duration": 81270,
    "start_time": "2023-03-19T13:03:36.286Z"
   },
   {
    "duration": 5,
    "start_time": "2023-03-19T13:05:41.477Z"
   },
   {
    "duration": 6,
    "start_time": "2023-03-19T13:05:42.404Z"
   },
   {
    "duration": 7,
    "start_time": "2023-03-19T13:05:42.733Z"
   },
   {
    "duration": 165752,
    "start_time": "2023-03-19T13:06:22.023Z"
   },
   {
    "duration": 7,
    "start_time": "2023-03-19T13:25:16.197Z"
   },
   {
    "duration": 5,
    "start_time": "2023-03-19T13:35:24.296Z"
   },
   {
    "duration": 10,
    "start_time": "2023-03-19T13:35:24.729Z"
   },
   {
    "duration": 1244,
    "start_time": "2023-03-19T13:36:37.287Z"
   },
   {
    "duration": 67,
    "start_time": "2023-03-19T13:36:38.534Z"
   },
   {
    "duration": 5,
    "start_time": "2023-03-19T13:36:38.603Z"
   },
   {
    "duration": 13,
    "start_time": "2023-03-19T13:36:38.610Z"
   },
   {
    "duration": 3,
    "start_time": "2023-03-19T13:36:39.612Z"
   },
   {
    "duration": 15,
    "start_time": "2023-03-19T13:36:39.782Z"
   },
   {
    "duration": 4,
    "start_time": "2023-03-19T13:36:40.102Z"
   },
   {
    "duration": 16,
    "start_time": "2023-03-19T13:36:40.259Z"
   },
   {
    "duration": 7,
    "start_time": "2023-03-19T13:36:40.421Z"
   },
   {
    "duration": 18,
    "start_time": "2023-03-19T13:36:41.966Z"
   },
   {
    "duration": 13,
    "start_time": "2023-03-19T13:36:42.149Z"
   },
   {
    "duration": 53,
    "start_time": "2023-03-19T13:36:42.326Z"
   },
   {
    "duration": 6,
    "start_time": "2023-03-19T13:36:44.714Z"
   },
   {
    "duration": 10,
    "start_time": "2023-03-19T13:36:45.276Z"
   },
   {
    "duration": 11,
    "start_time": "2023-03-19T13:36:47.915Z"
   },
   {
    "duration": 10,
    "start_time": "2023-03-19T13:37:00.243Z"
   },
   {
    "duration": 175816,
    "start_time": "2023-03-19T13:37:11.183Z"
   },
   {
    "duration": 8,
    "start_time": "2023-03-19T13:40:11.962Z"
   },
   {
    "duration": 6,
    "start_time": "2023-03-19T13:40:12.939Z"
   },
   {
    "duration": 134,
    "start_time": "2023-03-19T13:40:13.452Z"
   },
   {
    "duration": 17,
    "start_time": "2023-03-19T13:40:23.458Z"
   },
   {
    "duration": 6297,
    "start_time": "2023-03-19T13:40:41.017Z"
   },
   {
    "duration": 5,
    "start_time": "2023-03-19T13:40:49.230Z"
   },
   {
    "duration": 6,
    "start_time": "2023-03-19T13:40:50.591Z"
   },
   {
    "duration": 7,
    "start_time": "2023-03-19T13:40:51.023Z"
   },
   {
    "duration": 4,
    "start_time": "2023-03-19T13:41:22.213Z"
   },
   {
    "duration": 66,
    "start_time": "2023-03-19T13:41:23.359Z"
   },
   {
    "duration": 5,
    "start_time": "2023-03-19T13:41:27.093Z"
   },
   {
    "duration": 4,
    "start_time": "2023-03-19T13:41:28.932Z"
   },
   {
    "duration": 5,
    "start_time": "2023-03-19T13:41:31.388Z"
   },
   {
    "duration": 16,
    "start_time": "2023-03-19T13:41:31.980Z"
   },
   {
    "duration": 4,
    "start_time": "2023-03-19T13:41:40.688Z"
   },
   {
    "duration": 9,
    "start_time": "2023-03-19T13:41:41.259Z"
   },
   {
    "duration": 6,
    "start_time": "2023-03-19T13:41:43.309Z"
   },
   {
    "duration": 15,
    "start_time": "2023-03-19T13:42:04.836Z"
   },
   {
    "duration": 14,
    "start_time": "2023-03-19T13:42:05.599Z"
   },
   {
    "duration": 49,
    "start_time": "2023-03-19T13:42:09.463Z"
   },
   {
    "duration": 8,
    "start_time": "2023-03-19T13:42:29.462Z"
   },
   {
    "duration": 10,
    "start_time": "2023-03-19T13:42:31.360Z"
   },
   {
    "duration": 4,
    "start_time": "2023-03-19T13:42:41.777Z"
   },
   {
    "duration": 11,
    "start_time": "2023-03-19T13:43:08.102Z"
   },
   {
    "duration": 5,
    "start_time": "2023-03-19T13:43:16.328Z"
   },
   {
    "duration": 4,
    "start_time": "2023-03-19T13:43:32.079Z"
   },
   {
    "duration": 18,
    "start_time": "2023-03-19T13:45:57.376Z"
   },
   {
    "duration": 16,
    "start_time": "2023-03-19T13:46:06.844Z"
   },
   {
    "duration": 13,
    "start_time": "2023-03-19T13:46:07.883Z"
   },
   {
    "duration": 6316,
    "start_time": "2023-03-19T13:46:14.282Z"
   },
   {
    "duration": 5,
    "start_time": "2023-03-19T13:46:23.054Z"
   },
   {
    "duration": 5,
    "start_time": "2023-03-19T13:46:23.847Z"
   },
   {
    "duration": 13,
    "start_time": "2023-03-19T13:46:24.364Z"
   },
   {
    "duration": 25136,
    "start_time": "2023-03-19T13:46:41.943Z"
   },
   {
    "duration": 17308,
    "start_time": "2023-03-19T13:47:36.928Z"
   },
   {
    "duration": 1267,
    "start_time": "2023-03-19T13:48:13.433Z"
   },
   {
    "duration": 80,
    "start_time": "2023-03-19T13:48:14.703Z"
   },
   {
    "duration": 7,
    "start_time": "2023-03-19T13:48:14.787Z"
   },
   {
    "duration": 3,
    "start_time": "2023-03-19T13:48:14.931Z"
   },
   {
    "duration": 4,
    "start_time": "2023-03-19T13:48:15.501Z"
   },
   {
    "duration": 13,
    "start_time": "2023-03-19T13:48:15.834Z"
   },
   {
    "duration": 5,
    "start_time": "2023-03-19T13:48:16.433Z"
   },
   {
    "duration": 12,
    "start_time": "2023-03-19T13:48:16.724Z"
   },
   {
    "duration": 8,
    "start_time": "2023-03-19T13:48:17.040Z"
   },
   {
    "duration": 18,
    "start_time": "2023-03-19T13:48:17.704Z"
   },
   {
    "duration": 24,
    "start_time": "2023-03-19T13:48:17.952Z"
   },
   {
    "duration": 54,
    "start_time": "2023-03-19T13:48:18.225Z"
   },
   {
    "duration": 5,
    "start_time": "2023-03-19T13:48:19.057Z"
   },
   {
    "duration": 10,
    "start_time": "2023-03-19T13:48:19.419Z"
   },
   {
    "duration": 4,
    "start_time": "2023-03-19T13:48:19.710Z"
   },
   {
    "duration": 18,
    "start_time": "2023-03-19T13:48:19.999Z"
   },
   {
    "duration": 13,
    "start_time": "2023-03-19T13:48:20.347Z"
   },
   {
    "duration": 17571,
    "start_time": "2023-03-19T13:48:21.181Z"
   },
   {
    "duration": 4,
    "start_time": "2023-03-19T13:48:46.390Z"
   },
   {
    "duration": 111,
    "start_time": "2023-03-19T13:48:47.338Z"
   },
   {
    "duration": 9,
    "start_time": "2023-03-19T13:48:47.798Z"
   },
   {
    "duration": 5,
    "start_time": "2023-03-19T13:48:54.244Z"
   },
   {
    "duration": 9,
    "start_time": "2023-03-19T13:49:04.529Z"
   },
   {
    "duration": 45,
    "start_time": "2023-03-19T13:49:45.194Z"
   },
   {
    "duration": 66535,
    "start_time": "2023-03-19T13:50:08.006Z"
   },
   {
    "duration": 7,
    "start_time": "2023-03-19T13:51:14.544Z"
   },
   {
    "duration": 10,
    "start_time": "2023-03-19T13:51:30.762Z"
   },
   {
    "duration": 5,
    "start_time": "2023-03-19T13:51:31.705Z"
   },
   {
    "duration": 7,
    "start_time": "2023-03-19T13:51:32.104Z"
   },
   {
    "duration": 64546,
    "start_time": "2023-03-19T13:51:44.630Z"
   },
   {
    "duration": 4,
    "start_time": "2023-03-19T13:53:43.322Z"
   },
   {
    "duration": 5,
    "start_time": "2023-03-19T13:53:44.382Z"
   },
   {
    "duration": 8,
    "start_time": "2023-03-19T13:53:44.810Z"
   },
   {
    "duration": 50851,
    "start_time": "2023-03-19T13:54:13.844Z"
   },
   {
    "duration": 4,
    "start_time": "2023-03-19T13:55:12.756Z"
   },
   {
    "duration": 6,
    "start_time": "2023-03-19T13:55:13.706Z"
   },
   {
    "duration": 9,
    "start_time": "2023-03-19T13:55:14.179Z"
   },
   {
    "duration": 111297,
    "start_time": "2023-03-19T13:55:47.522Z"
   },
   {
    "duration": 4,
    "start_time": "2023-03-19T13:57:55.860Z"
   },
   {
    "duration": 5,
    "start_time": "2023-03-19T13:57:57.888Z"
   },
   {
    "duration": 9,
    "start_time": "2023-03-19T13:57:58.277Z"
   },
   {
    "duration": 66,
    "start_time": "2023-03-19T13:58:20.456Z"
   },
   {
    "duration": 59509,
    "start_time": "2023-03-19T13:58:30.401Z"
   },
   {
    "duration": 5,
    "start_time": "2023-03-19T13:59:38.156Z"
   },
   {
    "duration": 5,
    "start_time": "2023-03-19T13:59:40.758Z"
   },
   {
    "duration": 8,
    "start_time": "2023-03-19T13:59:41.502Z"
   },
   {
    "duration": 32,
    "start_time": "2023-03-19T14:00:47.003Z"
   },
   {
    "duration": 1225,
    "start_time": "2023-03-19T14:07:17.424Z"
   },
   {
    "duration": 69,
    "start_time": "2023-03-19T14:07:18.652Z"
   },
   {
    "duration": 5,
    "start_time": "2023-03-19T14:07:18.729Z"
   },
   {
    "duration": 12,
    "start_time": "2023-03-19T14:07:18.736Z"
   },
   {
    "duration": 7,
    "start_time": "2023-03-19T14:07:19.983Z"
   },
   {
    "duration": 14,
    "start_time": "2023-03-19T14:07:20.211Z"
   },
   {
    "duration": 4,
    "start_time": "2023-03-19T14:07:21.856Z"
   },
   {
    "duration": 10,
    "start_time": "2023-03-19T14:07:22.023Z"
   },
   {
    "duration": 6,
    "start_time": "2023-03-19T14:07:22.240Z"
   },
   {
    "duration": 13,
    "start_time": "2023-03-19T14:07:23.497Z"
   },
   {
    "duration": 14,
    "start_time": "2023-03-19T14:07:23.876Z"
   },
   {
    "duration": 48,
    "start_time": "2023-03-19T14:07:25.584Z"
   },
   {
    "duration": 5,
    "start_time": "2023-03-19T14:07:27.690Z"
   },
   {
    "duration": 12,
    "start_time": "2023-03-19T14:07:27.944Z"
   },
   {
    "duration": 3,
    "start_time": "2023-03-19T14:07:29.352Z"
   },
   {
    "duration": 24,
    "start_time": "2023-03-19T14:07:29.704Z"
   },
   {
    "duration": 12,
    "start_time": "2023-03-19T14:07:30.105Z"
   },
   {
    "duration": 1212,
    "start_time": "2023-03-19T14:08:52.498Z"
   },
   {
    "duration": 3,
    "start_time": "2023-03-19T14:08:58.138Z"
   },
   {
    "duration": 5,
    "start_time": "2023-03-19T14:08:58.953Z"
   },
   {
    "duration": 8,
    "start_time": "2023-03-19T14:08:59.361Z"
   },
   {
    "duration": 1222,
    "start_time": "2023-03-19T14:09:39.433Z"
   },
   {
    "duration": 70,
    "start_time": "2023-03-19T14:09:40.657Z"
   },
   {
    "duration": 5,
    "start_time": "2023-03-19T14:09:40.728Z"
   },
   {
    "duration": 7,
    "start_time": "2023-03-19T14:09:40.735Z"
   },
   {
    "duration": 4,
    "start_time": "2023-03-19T14:09:40.906Z"
   },
   {
    "duration": 20,
    "start_time": "2023-03-19T14:09:41.257Z"
   },
   {
    "duration": 5,
    "start_time": "2023-03-19T14:09:41.946Z"
   },
   {
    "duration": 12,
    "start_time": "2023-03-19T14:09:42.170Z"
   },
   {
    "duration": 6,
    "start_time": "2023-03-19T14:09:42.411Z"
   },
   {
    "duration": 16,
    "start_time": "2023-03-19T14:09:43.065Z"
   },
   {
    "duration": 13,
    "start_time": "2023-03-19T14:09:43.289Z"
   },
   {
    "duration": 46,
    "start_time": "2023-03-19T14:09:43.604Z"
   },
   {
    "duration": 6,
    "start_time": "2023-03-19T14:09:44.944Z"
   },
   {
    "duration": 12,
    "start_time": "2023-03-19T14:09:46.008Z"
   },
   {
    "duration": 4,
    "start_time": "2023-03-19T14:09:46.496Z"
   },
   {
    "duration": 17,
    "start_time": "2023-03-19T14:09:46.977Z"
   },
   {
    "duration": 13,
    "start_time": "2023-03-19T14:09:48.700Z"
   },
   {
    "duration": 37126,
    "start_time": "2023-03-19T14:10:03.613Z"
   },
   {
    "duration": 5,
    "start_time": "2023-03-19T14:10:44.385Z"
   },
   {
    "duration": 6,
    "start_time": "2023-03-19T14:10:45.577Z"
   },
   {
    "duration": 8,
    "start_time": "2023-03-19T14:10:46.033Z"
   },
   {
    "duration": 144,
    "start_time": "2023-03-19T14:12:08.829Z"
   },
   {
    "duration": 95321,
    "start_time": "2023-03-19T14:13:21.775Z"
   },
   {
    "duration": 5,
    "start_time": "2023-03-19T14:15:06.282Z"
   },
   {
    "duration": 118,
    "start_time": "2023-03-19T14:15:07.493Z"
   },
   {
    "duration": 11,
    "start_time": "2023-03-19T14:15:07.817Z"
   },
   {
    "duration": 9,
    "start_time": "2023-03-19T14:15:21.203Z"
   },
   {
    "duration": 17,
    "start_time": "2023-03-19T14:15:48.745Z"
   },
   {
    "duration": 9,
    "start_time": "2023-03-19T14:15:50.279Z"
   },
   {
    "duration": 1350,
    "start_time": "2023-03-19T14:16:03.273Z"
   },
   {
    "duration": 82,
    "start_time": "2023-03-19T14:16:04.626Z"
   },
   {
    "duration": 7,
    "start_time": "2023-03-19T14:16:04.710Z"
   },
   {
    "duration": 9,
    "start_time": "2023-03-19T14:16:04.720Z"
   },
   {
    "duration": 4,
    "start_time": "2023-03-19T14:16:04.886Z"
   },
   {
    "duration": 17,
    "start_time": "2023-03-19T14:16:05.135Z"
   },
   {
    "duration": 5,
    "start_time": "2023-03-19T14:16:05.816Z"
   },
   {
    "duration": 11,
    "start_time": "2023-03-19T14:16:06.280Z"
   },
   {
    "duration": 6,
    "start_time": "2023-03-19T14:16:06.501Z"
   },
   {
    "duration": 16,
    "start_time": "2023-03-19T14:16:07.080Z"
   },
   {
    "duration": 13,
    "start_time": "2023-03-19T14:16:07.292Z"
   },
   {
    "duration": 56,
    "start_time": "2023-03-19T14:16:07.521Z"
   },
   {
    "duration": 4,
    "start_time": "2023-03-19T14:16:08.399Z"
   },
   {
    "duration": 12,
    "start_time": "2023-03-19T14:16:08.618Z"
   },
   {
    "duration": 4,
    "start_time": "2023-03-19T14:16:08.818Z"
   },
   {
    "duration": 23,
    "start_time": "2023-03-19T14:16:09.283Z"
   },
   {
    "duration": 14,
    "start_time": "2023-03-19T14:16:09.985Z"
   },
   {
    "duration": 36986,
    "start_time": "2023-03-19T14:16:11.021Z"
   },
   {
    "duration": 5,
    "start_time": "2023-03-19T14:17:00.951Z"
   },
   {
    "duration": 8,
    "start_time": "2023-03-19T14:17:01.820Z"
   },
   {
    "duration": 9,
    "start_time": "2023-03-19T14:17:02.581Z"
   },
   {
    "duration": 56,
    "start_time": "2023-03-19T14:17:03.621Z"
   },
   {
    "duration": 93524,
    "start_time": "2023-03-19T14:17:06.676Z"
   },
   {
    "duration": 4,
    "start_time": "2023-03-19T14:19:37.486Z"
   },
   {
    "duration": 16,
    "start_time": "2023-03-19T14:19:51.837Z"
   },
   {
    "duration": 8,
    "start_time": "2023-03-19T14:19:53.017Z"
   },
   {
    "duration": 7,
    "start_time": "2023-03-19T14:21:40.417Z"
   },
   {
    "duration": 6,
    "start_time": "2023-03-19T14:21:51.134Z"
   },
   {
    "duration": 9,
    "start_time": "2023-03-19T14:22:06.784Z"
   },
   {
    "duration": 68,
    "start_time": "2023-03-19T14:32:29.428Z"
   },
   {
    "duration": 11,
    "start_time": "2023-03-19T14:32:55.189Z"
   },
   {
    "duration": 6,
    "start_time": "2023-03-19T14:35:00.478Z"
   },
   {
    "duration": 58,
    "start_time": "2023-03-19T14:35:00.791Z"
   },
   {
    "duration": 6,
    "start_time": "2023-03-19T14:35:01.140Z"
   },
   {
    "duration": 4,
    "start_time": "2023-03-19T14:35:01.502Z"
   },
   {
    "duration": 5,
    "start_time": "2023-03-19T14:35:01.916Z"
   },
   {
    "duration": 18,
    "start_time": "2023-03-19T14:35:02.260Z"
   },
   {
    "duration": 5,
    "start_time": "2023-03-19T14:35:02.720Z"
   },
   {
    "duration": 9,
    "start_time": "2023-03-19T14:35:02.916Z"
   },
   {
    "duration": 8,
    "start_time": "2023-03-19T14:35:03.119Z"
   },
   {
    "duration": 11,
    "start_time": "2023-03-19T14:35:03.619Z"
   },
   {
    "duration": 22,
    "start_time": "2023-03-19T14:35:03.860Z"
   },
   {
    "duration": 54,
    "start_time": "2023-03-19T14:35:04.060Z"
   },
   {
    "duration": 6,
    "start_time": "2023-03-19T14:35:04.715Z"
   },
   {
    "duration": 148,
    "start_time": "2023-03-19T14:35:04.880Z"
   },
   {
    "duration": 0,
    "start_time": "2023-03-19T14:35:05.031Z"
   },
   {
    "duration": 12,
    "start_time": "2023-03-19T14:35:21.090Z"
   },
   {
    "duration": 22,
    "start_time": "2023-03-19T14:35:27.021Z"
   },
   {
    "duration": 23,
    "start_time": "2023-03-19T14:35:31.225Z"
   },
   {
    "duration": 10,
    "start_time": "2023-03-19T14:35:42.188Z"
   },
   {
    "duration": 5,
    "start_time": "2023-03-19T14:42:01.832Z"
   },
   {
    "duration": 68,
    "start_time": "2023-03-19T14:42:02.155Z"
   },
   {
    "duration": 7,
    "start_time": "2023-03-19T14:42:02.476Z"
   },
   {
    "duration": 4,
    "start_time": "2023-03-19T14:42:02.626Z"
   },
   {
    "duration": 4,
    "start_time": "2023-03-19T14:42:02.786Z"
   },
   {
    "duration": 15,
    "start_time": "2023-03-19T14:42:02.944Z"
   },
   {
    "duration": 4,
    "start_time": "2023-03-19T14:42:03.248Z"
   },
   {
    "duration": 9,
    "start_time": "2023-03-19T14:42:03.420Z"
   },
   {
    "duration": 7,
    "start_time": "2023-03-19T14:42:03.551Z"
   },
   {
    "duration": 14,
    "start_time": "2023-03-19T14:42:03.881Z"
   },
   {
    "duration": 18,
    "start_time": "2023-03-19T14:42:04.026Z"
   },
   {
    "duration": 63,
    "start_time": "2023-03-19T14:42:04.191Z"
   },
   {
    "duration": 8,
    "start_time": "2023-03-19T14:42:04.742Z"
   },
   {
    "duration": 9,
    "start_time": "2023-03-19T14:42:05.639Z"
   },
   {
    "duration": 4,
    "start_time": "2023-03-19T14:42:05.926Z"
   },
   {
    "duration": 16,
    "start_time": "2023-03-19T14:42:06.190Z"
   },
   {
    "duration": 13,
    "start_time": "2023-03-19T14:42:06.559Z"
   },
   {
    "duration": 36328,
    "start_time": "2023-03-19T14:42:07.552Z"
   },
   {
    "duration": 4,
    "start_time": "2023-03-19T14:44:27.848Z"
   },
   {
    "duration": 6,
    "start_time": "2023-03-19T14:44:29.180Z"
   },
   {
    "duration": 8,
    "start_time": "2023-03-19T14:44:29.780Z"
   },
   {
    "duration": 9,
    "start_time": "2023-03-19T14:44:48.241Z"
   },
   {
    "duration": 4,
    "start_time": "2023-03-19T14:45:09.621Z"
   },
   {
    "duration": 10,
    "start_time": "2023-03-19T14:45:19.236Z"
   },
   {
    "duration": 12,
    "start_time": "2023-03-19T14:45:44.837Z"
   },
   {
    "duration": 31,
    "start_time": "2023-03-19T14:45:45.480Z"
   },
   {
    "duration": 9,
    "start_time": "2023-03-19T14:45:57.194Z"
   },
   {
    "duration": 93164,
    "start_time": "2023-03-19T14:46:10.175Z"
   },
   {
    "duration": 4,
    "start_time": "2023-03-19T14:47:58.824Z"
   },
   {
    "duration": 17,
    "start_time": "2023-03-19T14:48:00.882Z"
   },
   {
    "duration": 9,
    "start_time": "2023-03-19T14:48:03.458Z"
   },
   {
    "duration": 13,
    "start_time": "2023-03-19T14:48:10.620Z"
   },
   {
    "duration": 10,
    "start_time": "2023-03-19T14:48:35.457Z"
   },
   {
    "duration": 18,
    "start_time": "2023-03-19T14:50:15.621Z"
   },
   {
    "duration": 7,
    "start_time": "2023-03-19T15:10:34.009Z"
   },
   {
    "duration": 12,
    "start_time": "2023-03-19T15:10:53.637Z"
   },
   {
    "duration": 5,
    "start_time": "2023-03-19T15:11:22.551Z"
   },
   {
    "duration": 12,
    "start_time": "2023-03-19T15:11:28.577Z"
   },
   {
    "duration": 8,
    "start_time": "2023-03-19T15:11:33.988Z"
   },
   {
    "duration": 42202,
    "start_time": "2023-03-19T15:26:43.976Z"
   },
   {
    "duration": 5,
    "start_time": "2023-03-19T15:27:49.330Z"
   },
   {
    "duration": 7,
    "start_time": "2023-03-19T15:28:01.593Z"
   },
   {
    "duration": 10,
    "start_time": "2023-03-19T15:28:10.229Z"
   },
   {
    "duration": 138867,
    "start_time": "2023-03-19T15:34:19.218Z"
   },
   {
    "duration": 19,
    "start_time": "2023-03-19T15:36:57.791Z"
   },
   {
    "duration": 8,
    "start_time": "2023-03-19T15:36:58.945Z"
   },
   {
    "duration": 18,
    "start_time": "2023-03-19T15:36:59.931Z"
   },
   {
    "duration": 30415,
    "start_time": "2023-03-19T15:37:31.206Z"
   },
   {
    "duration": 7,
    "start_time": "2023-03-19T15:38:11.235Z"
   },
   {
    "duration": 7,
    "start_time": "2023-03-19T15:38:11.939Z"
   },
   {
    "duration": 21,
    "start_time": "2023-03-19T15:38:12.295Z"
   },
   {
    "duration": 25543,
    "start_time": "2023-03-19T15:38:21.020Z"
   },
   {
    "duration": 19,
    "start_time": "2023-03-19T15:38:55.795Z"
   },
   {
    "duration": 12,
    "start_time": "2023-03-19T15:38:57.190Z"
   },
   {
    "duration": 23,
    "start_time": "2023-03-19T15:38:57.596Z"
   },
   {
    "duration": 10,
    "start_time": "2023-03-19T15:43:49.090Z"
   },
   {
    "duration": 34,
    "start_time": "2023-03-19T15:43:53.387Z"
   },
   {
    "duration": 10,
    "start_time": "2023-03-19T15:44:33.444Z"
   },
   {
    "duration": 35,
    "start_time": "2023-03-19T15:44:37.355Z"
   },
   {
    "duration": 25,
    "start_time": "2023-03-19T15:44:37.730Z"
   },
   {
    "duration": 20299,
    "start_time": "2023-03-19T15:46:41.535Z"
   },
   {
    "duration": 14,
    "start_time": "2023-03-19T15:47:22.793Z"
   },
   {
    "duration": 8,
    "start_time": "2023-03-19T15:47:40.827Z"
   },
   {
    "duration": 17,
    "start_time": "2023-03-19T15:48:07.338Z"
   },
   {
    "duration": 5,
    "start_time": "2023-03-19T15:48:23.442Z"
   },
   {
    "duration": 117,
    "start_time": "2023-03-19T15:48:23.819Z"
   },
   {
    "duration": 9,
    "start_time": "2023-03-19T15:48:24.189Z"
   },
   {
    "duration": 5,
    "start_time": "2023-03-19T15:48:24.341Z"
   },
   {
    "duration": 12,
    "start_time": "2023-03-19T15:48:24.539Z"
   },
   {
    "duration": 28,
    "start_time": "2023-03-19T15:48:24.723Z"
   },
   {
    "duration": 13,
    "start_time": "2023-03-19T15:48:25.107Z"
   },
   {
    "duration": 27,
    "start_time": "2023-03-19T15:48:25.681Z"
   },
   {
    "duration": 18,
    "start_time": "2023-03-19T15:48:26.088Z"
   },
   {
    "duration": 26,
    "start_time": "2023-03-19T15:48:27.034Z"
   },
   {
    "duration": 17,
    "start_time": "2023-03-19T15:48:27.340Z"
   },
   {
    "duration": 80,
    "start_time": "2023-03-19T15:48:27.907Z"
   },
   {
    "duration": 8,
    "start_time": "2023-03-19T15:48:29.194Z"
   },
   {
    "duration": 30,
    "start_time": "2023-03-19T15:48:29.684Z"
   },
   {
    "duration": 6,
    "start_time": "2023-03-19T15:48:30.841Z"
   },
   {
    "duration": 33,
    "start_time": "2023-03-19T15:48:31.548Z"
   },
   {
    "duration": 22,
    "start_time": "2023-03-19T15:48:32.448Z"
   },
   {
    "duration": 50481,
    "start_time": "2023-03-19T15:48:39.133Z"
   },
   {
    "duration": 15,
    "start_time": "2023-03-19T15:49:50.487Z"
   },
   {
    "duration": 9,
    "start_time": "2023-03-19T15:49:51.642Z"
   },
   {
    "duration": 19,
    "start_time": "2023-03-19T15:49:52.023Z"
   },
   {
    "duration": 7,
    "start_time": "2023-03-19T15:50:01.289Z"
   },
   {
    "duration": 113,
    "start_time": "2023-03-19T15:50:02.158Z"
   },
   {
    "duration": 10,
    "start_time": "2023-03-19T15:50:13.832Z"
   },
   {
    "duration": 30,
    "start_time": "2023-03-19T15:50:25.028Z"
   },
   {
    "duration": 23,
    "start_time": "2023-03-19T15:50:32.295Z"
   },
   {
    "duration": 11,
    "start_time": "2023-03-19T15:50:36.047Z"
   },
   {
    "duration": 16,
    "start_time": "2023-03-19T15:50:42.882Z"
   },
   {
    "duration": 8,
    "start_time": "2023-03-19T15:51:05.857Z"
   },
   {
    "duration": 18,
    "start_time": "2023-03-19T15:51:10.824Z"
   },
   {
    "duration": 13,
    "start_time": "2023-03-19T15:51:17.585Z"
   },
   {
    "duration": 47,
    "start_time": "2023-03-19T15:51:18.547Z"
   },
   {
    "duration": 16,
    "start_time": "2023-03-19T15:51:26.731Z"
   },
   {
    "duration": 34,
    "start_time": "2023-03-19T15:51:41.188Z"
   },
   {
    "duration": 7,
    "start_time": "2023-03-19T15:51:43.528Z"
   },
   {
    "duration": 35,
    "start_time": "2023-03-19T15:51:50.471Z"
   },
   {
    "duration": 31,
    "start_time": "2023-03-19T15:51:51.727Z"
   },
   {
    "duration": 128,
    "start_time": "2023-03-19T15:52:39.896Z"
   },
   {
    "duration": 32,
    "start_time": "2023-03-19T15:52:52.900Z"
   },
   {
    "duration": 32,
    "start_time": "2023-03-19T15:52:55.390Z"
   },
   {
    "duration": 6,
    "start_time": "2023-03-19T15:52:57.240Z"
   },
   {
    "duration": 62,
    "start_time": "2023-03-19T15:53:04.364Z"
   },
   {
    "duration": 27,
    "start_time": "2023-03-19T15:53:05.093Z"
   },
   {
    "duration": 48890,
    "start_time": "2023-03-19T15:53:05.721Z"
   },
   {
    "duration": 8,
    "start_time": "2023-03-19T15:53:58.321Z"
   },
   {
    "duration": 7,
    "start_time": "2023-03-19T15:54:01.736Z"
   },
   {
    "duration": 31,
    "start_time": "2023-03-19T15:54:01.955Z"
   },
   {
    "duration": 1902,
    "start_time": "2023-03-19T16:05:11.666Z"
   },
   {
    "duration": 191,
    "start_time": "2023-03-19T16:05:15.935Z"
   },
   {
    "duration": 13,
    "start_time": "2023-03-19T16:05:16.955Z"
   },
   {
    "duration": 16,
    "start_time": "2023-03-19T16:05:17.343Z"
   },
   {
    "duration": 13,
    "start_time": "2023-03-19T16:05:17.810Z"
   },
   {
    "duration": 45,
    "start_time": "2023-03-19T16:05:18.187Z"
   },
   {
    "duration": 18,
    "start_time": "2023-03-19T16:05:18.985Z"
   },
   {
    "duration": 28,
    "start_time": "2023-03-19T16:05:19.250Z"
   },
   {
    "duration": 21,
    "start_time": "2023-03-19T16:05:19.665Z"
   },
   {
    "duration": 43,
    "start_time": "2023-03-19T16:05:20.599Z"
   },
   {
    "duration": 37,
    "start_time": "2023-03-19T16:05:20.803Z"
   },
   {
    "duration": 103,
    "start_time": "2023-03-19T16:05:20.953Z"
   },
   {
    "duration": 20,
    "start_time": "2023-03-19T16:05:25.258Z"
   },
   {
    "duration": 31,
    "start_time": "2023-03-19T16:05:25.815Z"
   },
   {
    "duration": 19,
    "start_time": "2023-03-19T16:05:26.243Z"
   },
   {
    "duration": 59,
    "start_time": "2023-03-19T16:05:26.955Z"
   },
   {
    "duration": 19,
    "start_time": "2023-03-19T16:05:28.890Z"
   },
   {
    "duration": 52987,
    "start_time": "2023-03-19T16:05:30.179Z"
   },
   {
    "duration": 17,
    "start_time": "2023-03-19T16:06:23.177Z"
   },
   {
    "duration": 22,
    "start_time": "2023-03-19T16:06:25.300Z"
   },
   {
    "duration": 33,
    "start_time": "2023-03-19T16:06:26.311Z"
   },
   {
    "duration": 162,
    "start_time": "2023-03-19T16:07:07.512Z"
   },
   {
    "duration": 15,
    "start_time": "2023-03-19T16:07:08.299Z"
   },
   {
    "duration": 6,
    "start_time": "2023-03-19T16:07:08.491Z"
   },
   {
    "duration": 8,
    "start_time": "2023-03-19T16:07:08.649Z"
   },
   {
    "duration": 35,
    "start_time": "2023-03-19T16:07:08.763Z"
   },
   {
    "duration": 14,
    "start_time": "2023-03-19T16:07:09.155Z"
   },
   {
    "duration": 35,
    "start_time": "2023-03-19T16:07:09.347Z"
   },
   {
    "duration": 18,
    "start_time": "2023-03-19T16:07:09.504Z"
   },
   {
    "duration": 38,
    "start_time": "2023-03-19T16:07:10.819Z"
   },
   {
    "duration": 42,
    "start_time": "2023-03-19T16:07:11.632Z"
   },
   {
    "duration": 114,
    "start_time": "2023-03-19T16:07:11.926Z"
   },
   {
    "duration": 15,
    "start_time": "2023-03-19T16:07:14.087Z"
   },
   {
    "duration": 24,
    "start_time": "2023-03-19T16:07:14.525Z"
   },
   {
    "duration": 16,
    "start_time": "2023-03-19T16:07:14.862Z"
   },
   {
    "duration": 10,
    "start_time": "2023-03-19T16:07:15.691Z"
   },
   {
    "duration": 9,
    "start_time": "2023-03-19T16:07:15.883Z"
   },
   {
    "duration": 49826,
    "start_time": "2023-03-19T16:07:16.448Z"
   },
   {
    "duration": 8,
    "start_time": "2023-03-19T16:08:12.883Z"
   },
   {
    "duration": 14,
    "start_time": "2023-03-19T16:08:13.883Z"
   },
   {
    "duration": 23,
    "start_time": "2023-03-19T16:08:14.409Z"
   },
   {
    "duration": 34,
    "start_time": "2023-03-19T16:08:28.004Z"
   },
   {
    "duration": 126322,
    "start_time": "2023-03-19T16:08:37.703Z"
   },
   {
    "duration": 5,
    "start_time": "2023-03-19T16:10:50.636Z"
   },
   {
    "duration": 24,
    "start_time": "2023-03-19T16:10:52.750Z"
   },
   {
    "duration": 11,
    "start_time": "2023-03-19T16:10:53.119Z"
   },
   {
    "duration": 37098,
    "start_time": "2023-03-19T16:11:20.812Z"
   },
   {
    "duration": 4,
    "start_time": "2023-03-19T16:12:25.545Z"
   },
   {
    "duration": 61,
    "start_time": "2023-03-19T16:12:27.596Z"
   },
   {
    "duration": 10,
    "start_time": "2023-03-19T16:12:27.943Z"
   },
   {
    "duration": 9851,
    "start_time": "2023-03-19T16:12:36.403Z"
   },
   {
    "duration": 23,
    "start_time": "2023-03-19T16:12:55.503Z"
   },
   {
    "duration": 42,
    "start_time": "2023-03-19T16:12:56.595Z"
   },
   {
    "duration": 17,
    "start_time": "2023-03-19T16:12:57.014Z"
   },
   {
    "duration": 27499,
    "start_time": "2023-03-19T16:13:02.533Z"
   },
   {
    "duration": 9,
    "start_time": "2023-03-19T16:13:30.044Z"
   },
   {
    "duration": 151,
    "start_time": "2023-03-19T16:13:30.056Z"
   },
   {
    "duration": 10,
    "start_time": "2023-03-19T16:13:30.220Z"
   },
   {
    "duration": 2176,
    "start_time": "2023-03-19T16:13:58.308Z"
   },
   {
    "duration": 23342,
    "start_time": "2023-03-19T16:14:22.903Z"
   },
   {
    "duration": 4,
    "start_time": "2023-03-19T16:14:46.247Z"
   },
   {
    "duration": 129,
    "start_time": "2023-03-19T16:14:46.255Z"
   },
   {
    "duration": 18,
    "start_time": "2023-03-19T16:14:46.391Z"
   },
   {
    "duration": 74247,
    "start_time": "2023-03-19T16:14:59.987Z"
   },
   {
    "duration": 11,
    "start_time": "2023-03-19T16:16:14.247Z"
   },
   {
    "duration": 165,
    "start_time": "2023-03-19T16:16:14.261Z"
   },
   {
    "duration": 9,
    "start_time": "2023-03-19T16:16:14.428Z"
   },
   {
    "duration": 231025,
    "start_time": "2023-03-19T16:16:30.753Z"
   },
   {
    "duration": 30,
    "start_time": "2023-03-19T16:20:21.806Z"
   },
   {
    "duration": 299,
    "start_time": "2023-03-19T16:20:21.839Z"
   },
   {
    "duration": 11,
    "start_time": "2023-03-19T16:20:22.141Z"
   },
   {
    "duration": 189986,
    "start_time": "2023-03-19T16:20:37.039Z"
   },
   {
    "duration": 21,
    "start_time": "2023-03-19T16:23:47.039Z"
   },
   {
    "duration": 403,
    "start_time": "2023-03-19T16:23:47.067Z"
   },
   {
    "duration": 15,
    "start_time": "2023-03-19T16:23:47.475Z"
   },
   {
    "duration": 78966,
    "start_time": "2023-03-19T16:24:31.491Z"
   },
   {
    "duration": 22,
    "start_time": "2023-03-19T16:25:50.460Z"
   },
   {
    "duration": 328,
    "start_time": "2023-03-19T16:25:50.487Z"
   },
   {
    "duration": 9,
    "start_time": "2023-03-19T16:25:50.832Z"
   },
   {
    "duration": 96992,
    "start_time": "2023-03-19T16:26:10.592Z"
   },
   {
    "duration": 13,
    "start_time": "2023-03-19T16:27:47.589Z"
   },
   {
    "duration": 272,
    "start_time": "2023-03-19T16:27:47.610Z"
   },
   {
    "duration": 13,
    "start_time": "2023-03-19T16:27:47.884Z"
   },
   {
    "duration": 180127,
    "start_time": "2023-03-19T16:27:59.215Z"
   },
   {
    "duration": 5,
    "start_time": "2023-03-19T16:30:59.344Z"
   },
   {
    "duration": 270,
    "start_time": "2023-03-19T16:30:59.365Z"
   },
   {
    "duration": 8,
    "start_time": "2023-03-19T16:30:59.638Z"
   },
   {
    "duration": 3,
    "start_time": "2023-03-19T16:31:33.204Z"
   },
   {
    "duration": 10,
    "start_time": "2023-03-19T16:31:35.487Z"
   },
   {
    "duration": 24,
    "start_time": "2023-03-19T16:31:36.558Z"
   },
   {
    "duration": 10,
    "start_time": "2023-03-19T16:31:52.506Z"
   },
   {
    "duration": 3895,
    "start_time": "2023-03-19T16:31:56.603Z"
   },
   {
    "duration": 258,
    "start_time": "2023-03-19T16:32:09.200Z"
   },
   {
    "duration": 16,
    "start_time": "2023-03-19T16:32:09.460Z"
   },
   {
    "duration": 4009,
    "start_time": "2023-03-19T16:32:15.126Z"
   },
   {
    "duration": 266,
    "start_time": "2023-03-19T16:32:20.430Z"
   },
   {
    "duration": 7,
    "start_time": "2023-03-19T16:32:20.848Z"
   },
   {
    "duration": 4035,
    "start_time": "2023-03-19T16:32:25.336Z"
   },
   {
    "duration": 257,
    "start_time": "2023-03-19T16:32:29.373Z"
   },
   {
    "duration": 8,
    "start_time": "2023-03-19T16:32:29.632Z"
   },
   {
    "duration": 11,
    "start_time": "2023-03-19T16:35:03.802Z"
   },
   {
    "duration": 4,
    "start_time": "2023-03-19T16:35:12.803Z"
   },
   {
    "duration": 19,
    "start_time": "2023-03-19T16:35:14.693Z"
   },
   {
    "duration": 69871,
    "start_time": "2023-03-19T16:35:46.223Z"
   },
   {
    "duration": 6,
    "start_time": "2023-03-19T16:37:04.940Z"
   },
   {
    "duration": 5,
    "start_time": "2023-03-19T16:37:12.243Z"
   },
   {
    "duration": 8,
    "start_time": "2023-03-19T16:37:12.705Z"
   },
   {
    "duration": 17,
    "start_time": "2023-03-19T16:38:44.946Z"
   },
   {
    "duration": 248835,
    "start_time": "2023-03-19T16:39:08.052Z"
   },
   {
    "duration": 4,
    "start_time": "2023-03-19T16:43:37.309Z"
   },
   {
    "duration": 5,
    "start_time": "2023-03-19T16:43:44.430Z"
   },
   {
    "duration": 10,
    "start_time": "2023-03-19T16:43:53.309Z"
   },
   {
    "duration": 257791,
    "start_time": "2023-03-19T16:50:18.841Z"
   },
   {
    "duration": 4,
    "start_time": "2023-03-19T16:55:41.626Z"
   },
   {
    "duration": 5,
    "start_time": "2023-03-19T16:55:43.729Z"
   },
   {
    "duration": 12,
    "start_time": "2023-03-19T16:55:44.140Z"
   },
   {
    "duration": 427180,
    "start_time": "2023-03-19T16:56:40.415Z"
   },
   {
    "duration": 5,
    "start_time": "2023-03-19T17:05:08.927Z"
   },
   {
    "duration": 9,
    "start_time": "2023-03-19T17:05:09.820Z"
   },
   {
    "duration": 8,
    "start_time": "2023-03-19T17:05:10.327Z"
   },
   {
    "duration": 275398,
    "start_time": "2023-03-19T17:05:20.102Z"
   },
   {
    "duration": 13,
    "start_time": "2023-03-19T17:09:55.503Z"
   },
   {
    "duration": 34,
    "start_time": "2023-03-19T17:09:55.534Z"
   },
   {
    "duration": 61,
    "start_time": "2023-03-19T17:09:55.573Z"
   },
   {
    "duration": 5,
    "start_time": "2023-03-19T17:10:20.803Z"
   },
   {
    "duration": 6,
    "start_time": "2023-03-19T17:10:21.449Z"
   },
   {
    "duration": 11,
    "start_time": "2023-03-19T17:10:21.909Z"
   },
   {
    "duration": 49,
    "start_time": "2023-03-19T17:12:00.279Z"
   },
   {
    "duration": 342,
    "start_time": "2023-03-19T17:15:11.460Z"
   },
   {
    "duration": 14,
    "start_time": "2023-03-19T17:15:11.919Z"
   },
   {
    "duration": 14,
    "start_time": "2023-03-19T17:17:11.691Z"
   },
   {
    "duration": 314,
    "start_time": "2023-03-19T17:17:31.553Z"
   },
   {
    "duration": 307,
    "start_time": "2023-03-19T17:18:13.493Z"
   },
   {
    "duration": 9,
    "start_time": "2023-03-19T17:21:27.430Z"
   },
   {
    "duration": 1587,
    "start_time": "2023-03-19T17:22:40.808Z"
   },
   {
    "duration": 134,
    "start_time": "2023-03-19T17:22:42.411Z"
   },
   {
    "duration": 1366,
    "start_time": "2023-03-19T17:23:47.709Z"
   },
   {
    "duration": 97,
    "start_time": "2023-03-19T17:25:01.394Z"
   },
   {
    "duration": 20,
    "start_time": "2023-03-19T17:25:09.596Z"
   },
   {
    "duration": 4,
    "start_time": "2023-03-19T17:25:11.026Z"
   },
   {
    "duration": 5,
    "start_time": "2023-03-19T17:25:42.031Z"
   },
   {
    "duration": 28,
    "start_time": "2023-03-19T17:25:43.062Z"
   },
   {
    "duration": 3,
    "start_time": "2023-03-19T17:27:22.218Z"
   },
   {
    "duration": 25,
    "start_time": "2023-03-19T17:27:27.796Z"
   },
   {
    "duration": 12,
    "start_time": "2023-03-19T17:27:28.406Z"
   },
   {
    "duration": 36,
    "start_time": "2023-03-19T17:30:34.058Z"
   },
   {
    "duration": 52,
    "start_time": "2023-03-19T17:30:35.778Z"
   },
   {
    "duration": 158,
    "start_time": "2023-03-19T17:30:39.608Z"
   },
   {
    "duration": 14,
    "start_time": "2023-03-19T17:33:48.510Z"
   },
   {
    "duration": 16,
    "start_time": "2023-03-19T17:33:53.736Z"
   },
   {
    "duration": 13,
    "start_time": "2023-03-19T17:33:55.028Z"
   },
   {
    "duration": 172,
    "start_time": "2023-03-19T17:47:14.034Z"
   },
   {
    "duration": 68,
    "start_time": "2023-03-19T17:47:19.487Z"
   },
   {
    "duration": 80,
    "start_time": "2023-03-19T17:47:34.464Z"
   },
   {
    "duration": 76,
    "start_time": "2023-03-19T17:47:47.165Z"
   },
   {
    "duration": 26,
    "start_time": "2023-03-19T17:47:57.340Z"
   },
   {
    "duration": 42907,
    "start_time": "2023-03-19T17:58:06.687Z"
   },
   {
    "duration": 4,
    "start_time": "2023-03-19T17:58:55.524Z"
   },
   {
    "duration": 13,
    "start_time": "2023-03-19T17:58:58.103Z"
   },
   {
    "duration": 9,
    "start_time": "2023-03-19T17:59:00.047Z"
   },
   {
    "duration": 43061,
    "start_time": "2023-03-19T17:59:51.464Z"
   },
   {
    "duration": 78,
    "start_time": "2023-03-19T18:01:37.202Z"
   },
   {
    "duration": 27,
    "start_time": "2023-03-19T18:01:54.519Z"
   },
   {
    "duration": 188837,
    "start_time": "2023-03-19T18:02:31.155Z"
   },
   {
    "duration": 4,
    "start_time": "2023-03-19T18:05:47.117Z"
   },
   {
    "duration": 4325,
    "start_time": "2023-03-19T18:05:50.931Z"
   },
   {
    "duration": 268,
    "start_time": "2023-03-19T18:05:59.460Z"
   },
   {
    "duration": 14,
    "start_time": "2023-03-19T18:06:00.297Z"
   },
   {
    "duration": 178597,
    "start_time": "2023-03-19T18:06:13.320Z"
   },
   {
    "duration": 277,
    "start_time": "2023-03-19T18:09:27.021Z"
   },
   {
    "duration": 11,
    "start_time": "2023-03-19T18:09:27.707Z"
   },
   {
    "duration": 4220,
    "start_time": "2023-03-19T18:09:36.923Z"
   },
   {
    "duration": 268,
    "start_time": "2023-03-19T18:09:42.547Z"
   },
   {
    "duration": 10,
    "start_time": "2023-03-19T18:09:42.957Z"
   },
   {
    "duration": 4153,
    "start_time": "2023-03-19T18:09:49.653Z"
   },
   {
    "duration": 278,
    "start_time": "2023-03-19T18:09:53.808Z"
   },
   {
    "duration": 19,
    "start_time": "2023-03-19T18:09:55.390Z"
   },
   {
    "duration": 4297,
    "start_time": "2023-03-19T18:10:02.159Z"
   },
   {
    "duration": 269,
    "start_time": "2023-03-19T18:10:06.459Z"
   },
   {
    "duration": 10,
    "start_time": "2023-03-19T18:10:07.710Z"
   },
   {
    "duration": 4354,
    "start_time": "2023-03-19T18:10:12.192Z"
   },
   {
    "duration": 268,
    "start_time": "2023-03-19T18:10:17.505Z"
   },
   {
    "duration": 27,
    "start_time": "2023-03-19T18:10:18.283Z"
   },
   {
    "duration": 184326,
    "start_time": "2023-03-19T18:10:43.483Z"
   },
   {
    "duration": 12,
    "start_time": "2023-03-19T18:15:06.210Z"
   },
   {
    "duration": 340,
    "start_time": "2023-03-19T18:15:09.398Z"
   },
   {
    "duration": 11,
    "start_time": "2023-03-19T18:15:10.140Z"
   },
   {
    "duration": 4882,
    "start_time": "2023-03-19T18:15:22.548Z"
   },
   {
    "duration": 307,
    "start_time": "2023-03-19T18:15:29.931Z"
   },
   {
    "duration": 8,
    "start_time": "2023-03-19T18:15:30.552Z"
   },
   {
    "duration": 4523,
    "start_time": "2023-03-19T18:16:18.560Z"
   },
   {
    "duration": 4506,
    "start_time": "2023-03-19T18:20:37.800Z"
   },
   {
    "duration": 11,
    "start_time": "2023-03-19T18:25:00.491Z"
   },
   {
    "duration": 18,
    "start_time": "2023-03-19T18:25:05.104Z"
   },
   {
    "duration": 1793,
    "start_time": "2023-03-19T18:26:06.727Z"
   },
   {
    "duration": 13,
    "start_time": "2023-03-19T18:26:22.631Z"
   },
   {
    "duration": 144,
    "start_time": "2023-03-19T18:26:47.422Z"
   },
   {
    "duration": 19,
    "start_time": "2023-03-19T18:27:18.306Z"
   },
   {
    "duration": 12,
    "start_time": "2023-03-19T18:27:18.719Z"
   },
   {
    "duration": 17,
    "start_time": "2023-03-19T18:27:45.504Z"
   },
   {
    "duration": 6197,
    "start_time": "2023-03-19T18:27:49.038Z"
   },
   {
    "duration": 6777,
    "start_time": "2023-03-19T18:29:33.393Z"
   },
   {
    "duration": 6305,
    "start_time": "2023-03-19T18:29:50.520Z"
   },
   {
    "duration": 18,
    "start_time": "2023-03-19T18:30:26.727Z"
   },
   {
    "duration": 10,
    "start_time": "2023-03-19T18:30:36.187Z"
   },
   {
    "duration": 13,
    "start_time": "2023-03-19T18:30:40.816Z"
   },
   {
    "duration": 676,
    "start_time": "2023-03-19T18:31:04.432Z"
   },
   {
    "duration": 243,
    "start_time": "2023-03-19T18:31:08.914Z"
   },
   {
    "duration": 297,
    "start_time": "2023-03-19T18:40:07.509Z"
   },
   {
    "duration": 289,
    "start_time": "2023-03-19T18:41:10.446Z"
   },
   {
    "duration": 282,
    "start_time": "2023-03-19T18:41:13.108Z"
   },
   {
    "duration": 273,
    "start_time": "2023-03-19T18:48:48.121Z"
   },
   {
    "duration": 41,
    "start_time": "2023-03-19T18:49:06.559Z"
   },
   {
    "duration": 21,
    "start_time": "2023-03-19T18:49:18.259Z"
   },
   {
    "duration": 16,
    "start_time": "2023-03-19T18:49:28.257Z"
   },
   {
    "duration": 5746,
    "start_time": "2023-03-19T18:49:31.708Z"
   },
   {
    "duration": 178,
    "start_time": "2023-03-19T18:49:39.865Z"
   },
   {
    "duration": 283,
    "start_time": "2023-03-19T18:49:41.920Z"
   },
   {
    "duration": 103,
    "start_time": "2023-03-19T18:50:29.820Z"
   },
   {
    "duration": 6,
    "start_time": "2023-03-19T19:00:43.726Z"
   },
   {
    "duration": 1221,
    "start_time": "2023-03-19T19:03:11.163Z"
   },
   {
    "duration": 873,
    "start_time": "2023-03-19T19:03:42.508Z"
   },
   {
    "duration": 892,
    "start_time": "2023-03-19T19:04:19.218Z"
   },
   {
    "duration": 910,
    "start_time": "2023-03-19T19:04:27.714Z"
   },
   {
    "duration": 1581,
    "start_time": "2023-03-20T16:47:27.303Z"
   },
   {
    "duration": 5,
    "start_time": "2023-03-20T16:47:32.831Z"
   },
   {
    "duration": 4,
    "start_time": "2023-03-20T16:48:29.008Z"
   },
   {
    "duration": 189,
    "start_time": "2023-03-20T16:57:29.481Z"
   },
   {
    "duration": 5,
    "start_time": "2023-03-20T16:57:33.081Z"
   },
   {
    "duration": 4,
    "start_time": "2023-03-20T16:57:36.084Z"
   },
   {
    "duration": 4,
    "start_time": "2023-03-20T16:57:36.644Z"
   },
   {
    "duration": 14,
    "start_time": "2023-03-20T16:58:31.271Z"
   },
   {
    "duration": 5,
    "start_time": "2023-03-20T16:58:37.130Z"
   },
   {
    "duration": 8,
    "start_time": "2023-03-20T17:01:21.282Z"
   },
   {
    "duration": 7,
    "start_time": "2023-03-20T17:02:20.183Z"
   },
   {
    "duration": 6,
    "start_time": "2023-03-20T17:02:21.435Z"
   },
   {
    "duration": 12,
    "start_time": "2023-03-20T17:02:39.531Z"
   },
   {
    "duration": 11,
    "start_time": "2023-03-20T17:02:51.367Z"
   },
   {
    "duration": 15,
    "start_time": "2023-03-20T17:02:55.914Z"
   },
   {
    "duration": 4,
    "start_time": "2023-03-20T17:03:15.228Z"
   },
   {
    "duration": 56,
    "start_time": "2023-03-20T17:03:16.732Z"
   },
   {
    "duration": 5,
    "start_time": "2023-03-20T17:03:17.980Z"
   },
   {
    "duration": 4,
    "start_time": "2023-03-20T17:03:18.395Z"
   },
   {
    "duration": 3,
    "start_time": "2023-03-20T17:03:18.582Z"
   },
   {
    "duration": 14,
    "start_time": "2023-03-20T17:03:19.480Z"
   },
   {
    "duration": 6,
    "start_time": "2023-03-20T17:03:19.880Z"
   },
   {
    "duration": 8,
    "start_time": "2023-03-20T17:03:23.782Z"
   },
   {
    "duration": 6,
    "start_time": "2023-03-20T17:03:25.618Z"
   },
   {
    "duration": 12,
    "start_time": "2023-03-20T17:31:44.648Z"
   },
   {
    "duration": 46,
    "start_time": "2023-03-20T17:31:45.266Z"
   },
   {
    "duration": 58,
    "start_time": "2023-03-20T17:32:03.137Z"
   },
   {
    "duration": 4,
    "start_time": "2023-03-20T17:32:43.290Z"
   },
   {
    "duration": 14,
    "start_time": "2023-03-20T17:32:43.587Z"
   },
   {
    "duration": 5,
    "start_time": "2023-03-20T17:32:43.785Z"
   },
   {
    "duration": 32,
    "start_time": "2023-03-20T17:32:46.895Z"
   },
   {
    "duration": 4,
    "start_time": "2023-03-20T17:56:07.112Z"
   },
   {
    "duration": 50,
    "start_time": "2023-03-20T17:56:10.410Z"
   },
   {
    "duration": 5,
    "start_time": "2023-03-20T17:56:11.898Z"
   },
   {
    "duration": 5,
    "start_time": "2023-03-20T17:56:12.261Z"
   },
   {
    "duration": 3,
    "start_time": "2023-03-20T17:56:12.706Z"
   },
   {
    "duration": 12,
    "start_time": "2023-03-20T17:56:15.375Z"
   },
   {
    "duration": 9,
    "start_time": "2023-03-20T17:56:16.765Z"
   },
   {
    "duration": 7,
    "start_time": "2023-03-20T17:56:18.697Z"
   },
   {
    "duration": 12,
    "start_time": "2023-03-20T17:56:18.962Z"
   },
   {
    "duration": 11,
    "start_time": "2023-03-20T17:56:21.203Z"
   },
   {
    "duration": 5,
    "start_time": "2023-03-20T17:56:57.873Z"
   },
   {
    "duration": 1435,
    "start_time": "2023-03-20T17:57:16.058Z"
   },
   {
    "duration": 54,
    "start_time": "2023-03-20T17:57:17.495Z"
   },
   {
    "duration": 6,
    "start_time": "2023-03-20T17:57:17.550Z"
   },
   {
    "duration": 13,
    "start_time": "2023-03-20T17:57:17.557Z"
   },
   {
    "duration": 12,
    "start_time": "2023-03-20T17:57:17.572Z"
   },
   {
    "duration": 14,
    "start_time": "2023-03-20T17:57:18.595Z"
   },
   {
    "duration": 10,
    "start_time": "2023-03-20T17:57:20.211Z"
   },
   {
    "duration": 7,
    "start_time": "2023-03-20T17:57:21.028Z"
   },
   {
    "duration": 7,
    "start_time": "2023-03-20T17:57:21.202Z"
   },
   {
    "duration": 3,
    "start_time": "2023-03-20T17:57:23.450Z"
   },
   {
    "duration": 12,
    "start_time": "2023-03-20T17:57:25.908Z"
   },
   {
    "duration": 38,
    "start_time": "2023-03-20T17:57:26.132Z"
   },
   {
    "duration": 4,
    "start_time": "2023-03-20T17:58:33.428Z"
   },
   {
    "duration": 8,
    "start_time": "2023-03-20T17:58:34.499Z"
   },
   {
    "duration": 5,
    "start_time": "2023-03-20T17:58:34.947Z"
   },
   {
    "duration": 5,
    "start_time": "2023-03-20T17:58:43.952Z"
   },
   {
    "duration": 3,
    "start_time": "2023-03-20T18:05:04.151Z"
   },
   {
    "duration": 3,
    "start_time": "2023-03-20T18:05:32.398Z"
   },
   {
    "duration": 112,
    "start_time": "2023-03-20T18:05:47.390Z"
   },
   {
    "duration": 6784,
    "start_time": "2023-03-20T18:06:18.991Z"
   },
   {
    "duration": 1240,
    "start_time": "2023-03-20T18:07:10.879Z"
   },
   {
    "duration": 55,
    "start_time": "2023-03-20T18:07:12.495Z"
   },
   {
    "duration": 5,
    "start_time": "2023-03-20T18:07:14.366Z"
   },
   {
    "duration": 3,
    "start_time": "2023-03-20T18:07:15.263Z"
   },
   {
    "duration": 4,
    "start_time": "2023-03-20T18:07:15.694Z"
   },
   {
    "duration": 16,
    "start_time": "2023-03-20T18:07:16.613Z"
   },
   {
    "duration": 7,
    "start_time": "2023-03-20T18:07:17.367Z"
   },
   {
    "duration": 8,
    "start_time": "2023-03-20T18:07:19.086Z"
   },
   {
    "duration": 7,
    "start_time": "2023-03-20T18:07:19.686Z"
   },
   {
    "duration": 3,
    "start_time": "2023-03-20T18:07:21.367Z"
   },
   {
    "duration": 12,
    "start_time": "2023-03-20T18:07:22.848Z"
   },
   {
    "duration": 43,
    "start_time": "2023-03-20T18:07:23.183Z"
   },
   {
    "duration": 5,
    "start_time": "2023-03-20T18:07:28.319Z"
   },
   {
    "duration": 8,
    "start_time": "2023-03-20T18:07:28.911Z"
   },
   {
    "duration": 4,
    "start_time": "2023-03-20T18:07:30.591Z"
   },
   {
    "duration": 2,
    "start_time": "2023-03-20T18:07:31.526Z"
   },
   {
    "duration": 2,
    "start_time": "2023-03-20T18:07:32.427Z"
   },
   {
    "duration": 9,
    "start_time": "2023-03-20T18:07:33.880Z"
   },
   {
    "duration": 11,
    "start_time": "2023-03-20T18:08:23.498Z"
   },
   {
    "duration": 4,
    "start_time": "2023-03-20T18:08:45.696Z"
   },
   {
    "duration": 12,
    "start_time": "2023-03-20T18:08:58.263Z"
   },
   {
    "duration": 14,
    "start_time": "2023-03-20T18:09:07.585Z"
   },
   {
    "duration": 8,
    "start_time": "2023-03-20T18:12:50.345Z"
   },
   {
    "duration": 5,
    "start_time": "2023-03-20T18:12:58.176Z"
   },
   {
    "duration": 12,
    "start_time": "2023-03-20T18:13:06.763Z"
   },
   {
    "duration": 8,
    "start_time": "2023-03-20T18:13:23.466Z"
   },
   {
    "duration": 5,
    "start_time": "2023-03-20T18:13:30.193Z"
   },
   {
    "duration": 15,
    "start_time": "2023-03-20T18:13:37.917Z"
   },
   {
    "duration": 25,
    "start_time": "2023-03-20T18:13:59.354Z"
   },
   {
    "duration": 140,
    "start_time": "2023-03-20T18:22:29.381Z"
   },
   {
    "duration": 363,
    "start_time": "2023-03-20T18:23:05.641Z"
   },
   {
    "duration": 416,
    "start_time": "2023-03-20T18:24:21.550Z"
   },
   {
    "duration": 409,
    "start_time": "2023-03-20T18:24:37.853Z"
   },
   {
    "duration": 406,
    "start_time": "2023-03-20T18:24:52.686Z"
   },
   {
    "duration": 387,
    "start_time": "2023-03-20T18:25:00.333Z"
   },
   {
    "duration": 413,
    "start_time": "2023-03-20T18:25:25.522Z"
   },
   {
    "duration": 396,
    "start_time": "2023-03-20T18:25:31.022Z"
   },
   {
    "duration": 328,
    "start_time": "2023-03-20T18:25:35.672Z"
   },
   {
    "duration": 354,
    "start_time": "2023-03-20T18:25:40.487Z"
   },
   {
    "duration": 373,
    "start_time": "2023-03-20T18:25:45.863Z"
   },
   {
    "duration": 297,
    "start_time": "2023-03-20T18:26:30.215Z"
   },
   {
    "duration": 108,
    "start_time": "2023-03-20T18:27:32.457Z"
   },
   {
    "duration": 24,
    "start_time": "2023-03-20T18:27:39.665Z"
   },
   {
    "duration": 25,
    "start_time": "2023-03-20T18:27:44.936Z"
   },
   {
    "duration": 67,
    "start_time": "2023-03-20T18:27:48.297Z"
   },
   {
    "duration": 221,
    "start_time": "2023-03-20T18:28:34.063Z"
   },
   {
    "duration": 104,
    "start_time": "2023-03-20T18:28:44.151Z"
   },
   {
    "duration": 16080,
    "start_time": "2023-03-20T18:28:49.031Z"
   },
   {
    "duration": 17456,
    "start_time": "2023-03-20T18:29:46.000Z"
   },
   {
    "duration": 73,
    "start_time": "2023-03-20T18:30:36.130Z"
   },
   {
    "duration": 5,
    "start_time": "2023-03-20T18:32:25.865Z"
   },
   {
    "duration": 9,
    "start_time": "2023-03-20T18:32:26.999Z"
   },
   {
    "duration": 10721,
    "start_time": "2023-03-20T18:33:52.650Z"
   },
   {
    "duration": 3603,
    "start_time": "2023-03-20T20:12:24.007Z"
   },
   {
    "duration": 58,
    "start_time": "2023-03-20T20:12:45.196Z"
   },
   {
    "duration": 20,
    "start_time": "2023-03-20T20:13:30.485Z"
   },
   {
    "duration": 4,
    "start_time": "2023-03-20T20:14:07.036Z"
   },
   {
    "duration": 37,
    "start_time": "2023-03-20T20:14:38.145Z"
   },
   {
    "duration": 27688,
    "start_time": "2023-03-20T20:15:59.366Z"
   },
   {
    "duration": 5,
    "start_time": "2023-03-20T20:22:21.024Z"
   },
   {
    "duration": 28993,
    "start_time": "2023-03-20T20:25:01.841Z"
   },
   {
    "duration": 28371,
    "start_time": "2023-03-20T20:25:56.931Z"
   },
   {
    "duration": 1338,
    "start_time": "2023-03-20T20:27:19.327Z"
   },
   {
    "duration": 54,
    "start_time": "2023-03-20T20:27:20.669Z"
   },
   {
    "duration": 5,
    "start_time": "2023-03-20T20:27:21.856Z"
   },
   {
    "duration": 4,
    "start_time": "2023-03-20T20:27:22.629Z"
   },
   {
    "duration": 5,
    "start_time": "2023-03-20T20:27:23.025Z"
   },
   {
    "duration": 20,
    "start_time": "2023-03-20T20:27:25.725Z"
   },
   {
    "duration": 10,
    "start_time": "2023-03-20T20:27:26.721Z"
   },
   {
    "duration": 11,
    "start_time": "2023-03-20T20:27:28.681Z"
   },
   {
    "duration": 7,
    "start_time": "2023-03-20T20:27:29.168Z"
   },
   {
    "duration": 3,
    "start_time": "2023-03-20T20:27:30.463Z"
   },
   {
    "duration": 16,
    "start_time": "2023-03-20T20:27:34.476Z"
   },
   {
    "duration": 58,
    "start_time": "2023-03-20T20:27:35.041Z"
   },
   {
    "duration": 5,
    "start_time": "2023-03-20T20:27:59.535Z"
   },
   {
    "duration": 10,
    "start_time": "2023-03-20T20:27:59.827Z"
   },
   {
    "duration": 4,
    "start_time": "2023-03-20T20:28:00.176Z"
   },
   {
    "duration": 3,
    "start_time": "2023-03-20T20:28:01.391Z"
   },
   {
    "duration": 3,
    "start_time": "2023-03-20T20:28:01.876Z"
   },
   {
    "duration": 8,
    "start_time": "2023-03-20T20:28:02.289Z"
   },
   {
    "duration": 12,
    "start_time": "2023-03-20T20:28:02.672Z"
   },
   {
    "duration": 5,
    "start_time": "2023-03-20T20:28:03.079Z"
   },
   {
    "duration": 14,
    "start_time": "2023-03-20T20:28:03.466Z"
   },
   {
    "duration": 12,
    "start_time": "2023-03-20T20:28:03.949Z"
   },
   {
    "duration": 5,
    "start_time": "2023-03-20T20:28:04.384Z"
   },
   {
    "duration": 13,
    "start_time": "2023-03-20T20:28:04.632Z"
   },
   {
    "duration": 11,
    "start_time": "2023-03-20T20:28:05.080Z"
   },
   {
    "duration": 6,
    "start_time": "2023-03-20T20:28:05.544Z"
   },
   {
    "duration": 16,
    "start_time": "2023-03-20T20:28:05.970Z"
   },
   {
    "duration": 36,
    "start_time": "2023-03-20T20:28:06.633Z"
   },
   {
    "duration": 373,
    "start_time": "2023-03-20T20:28:07.546Z"
   },
   {
    "duration": 134,
    "start_time": "2023-03-20T20:28:11.833Z"
   },
   {
    "duration": 17584,
    "start_time": "2023-03-20T20:28:13.022Z"
   },
   {
    "duration": 5,
    "start_time": "2023-03-20T20:29:19.760Z"
   },
   {
    "duration": 15,
    "start_time": "2023-03-20T20:29:20.272Z"
   },
   {
    "duration": 10549,
    "start_time": "2023-03-20T20:29:24.448Z"
   },
   {
    "duration": 3,
    "start_time": "2023-03-20T20:29:44.155Z"
   },
   {
    "duration": 3,
    "start_time": "2023-03-20T20:29:46.279Z"
   },
   {
    "duration": 48,
    "start_time": "2023-03-20T20:29:46.783Z"
   },
   {
    "duration": 28378,
    "start_time": "2023-03-20T20:29:49.544Z"
   },
   {
    "duration": 3,
    "start_time": "2023-03-20T20:30:24.848Z"
   },
   {
    "duration": 3,
    "start_time": "2023-03-20T20:30:25.871Z"
   },
   {
    "duration": 3,
    "start_time": "2023-03-20T20:30:27.576Z"
   },
   {
    "duration": 27539,
    "start_time": "2023-03-20T20:30:29.192Z"
   },
   {
    "duration": 182,
    "start_time": "2023-03-20T20:33:32.629Z"
   },
   {
    "duration": 28760,
    "start_time": "2023-03-20T20:35:34.191Z"
   },
   {
    "duration": 29090,
    "start_time": "2023-03-20T20:36:08.583Z"
   },
   {
    "duration": 1091,
    "start_time": "2023-03-20T20:44:48.412Z"
   },
   {
    "duration": 1006,
    "start_time": "2023-03-20T20:44:56.938Z"
   },
   {
    "duration": 1077,
    "start_time": "2023-03-20T20:45:03.250Z"
   },
   {
    "duration": 1143,
    "start_time": "2023-03-20T20:45:09.407Z"
   },
   {
    "duration": 1128,
    "start_time": "2023-03-20T20:45:14.618Z"
   },
   {
    "duration": 1113,
    "start_time": "2023-03-20T20:45:20.124Z"
   },
   {
    "duration": 1095,
    "start_time": "2023-03-20T20:45:27.210Z"
   },
   {
    "duration": 1162,
    "start_time": "2023-03-20T20:45:33.555Z"
   },
   {
    "duration": 1116,
    "start_time": "2023-03-20T20:45:39.571Z"
   },
   {
    "duration": 1059,
    "start_time": "2023-03-20T20:45:45.229Z"
   },
   {
    "duration": 1074,
    "start_time": "2023-03-20T20:45:51.177Z"
   },
   {
    "duration": 1117,
    "start_time": "2023-03-20T20:45:56.068Z"
   },
   {
    "duration": 1235,
    "start_time": "2023-03-20T20:46:03.348Z"
   },
   {
    "duration": 1272,
    "start_time": "2023-03-20T20:46:09.155Z"
   },
   {
    "duration": 1212,
    "start_time": "2023-03-20T20:46:14.715Z"
   },
   {
    "duration": 27851,
    "start_time": "2023-03-20T20:46:53.717Z"
   },
   {
    "duration": 1133,
    "start_time": "2023-03-20T20:47:45.573Z"
   },
   {
    "duration": 1140,
    "start_time": "2023-03-20T20:47:56.990Z"
   },
   {
    "duration": 1134,
    "start_time": "2023-03-20T20:48:01.339Z"
   },
   {
    "duration": 1149,
    "start_time": "2023-03-20T20:48:06.709Z"
   },
   {
    "duration": 1107,
    "start_time": "2023-03-20T20:48:12.469Z"
   },
   {
    "duration": 1080,
    "start_time": "2023-03-20T20:48:16.395Z"
   },
   {
    "duration": 1171,
    "start_time": "2023-03-20T20:48:22.084Z"
   },
   {
    "duration": 1094,
    "start_time": "2023-03-20T20:48:27.251Z"
   },
   {
    "duration": 11,
    "start_time": "2023-03-20T20:50:54.862Z"
   },
   {
    "duration": 5,
    "start_time": "2023-03-20T20:51:08.684Z"
   },
   {
    "duration": 55,
    "start_time": "2023-03-20T20:51:13.563Z"
   },
   {
    "duration": 65,
    "start_time": "2023-03-20T20:55:17.845Z"
   },
   {
    "duration": 1778,
    "start_time": "2023-03-21T18:23:09.396Z"
   },
   {
    "duration": 178,
    "start_time": "2023-03-21T18:23:13.259Z"
   },
   {
    "duration": 4,
    "start_time": "2023-03-21T18:23:15.976Z"
   },
   {
    "duration": 3,
    "start_time": "2023-03-21T18:23:18.277Z"
   },
   {
    "duration": 5,
    "start_time": "2023-03-21T18:23:18.911Z"
   },
   {
    "duration": 12,
    "start_time": "2023-03-21T18:23:25.834Z"
   },
   {
    "duration": 24,
    "start_time": "2023-03-21T18:23:27.680Z"
   },
   {
    "duration": 8,
    "start_time": "2023-03-21T18:23:32.280Z"
   },
   {
    "duration": 5,
    "start_time": "2023-03-21T18:23:33.117Z"
   },
   {
    "duration": 2,
    "start_time": "2023-03-21T18:23:35.302Z"
   },
   {
    "duration": 12,
    "start_time": "2023-03-21T18:23:38.115Z"
   },
   {
    "duration": 43,
    "start_time": "2023-03-21T18:23:39.747Z"
   },
   {
    "duration": 4,
    "start_time": "2023-03-21T18:23:45.475Z"
   },
   {
    "duration": 9,
    "start_time": "2023-03-21T18:23:45.795Z"
   },
   {
    "duration": 4,
    "start_time": "2023-03-21T18:23:46.180Z"
   },
   {
    "duration": 3,
    "start_time": "2023-03-21T18:23:49.107Z"
   },
   {
    "duration": 3,
    "start_time": "2023-03-21T18:23:49.539Z"
   },
   {
    "duration": 15,
    "start_time": "2023-03-21T18:23:49.890Z"
   },
   {
    "duration": 7022,
    "start_time": "2023-03-21T18:24:19.452Z"
   },
   {
    "duration": 13,
    "start_time": "2023-03-21T18:24:33.467Z"
   },
   {
    "duration": 41,
    "start_time": "2023-03-21T18:24:34.131Z"
   },
   {
    "duration": 4,
    "start_time": "2023-03-21T18:24:36.955Z"
   },
   {
    "duration": 8,
    "start_time": "2023-03-21T18:24:37.377Z"
   },
   {
    "duration": 4,
    "start_time": "2023-03-21T18:24:37.579Z"
   },
   {
    "duration": 2,
    "start_time": "2023-03-21T18:24:38.790Z"
   },
   {
    "duration": 3,
    "start_time": "2023-03-21T18:24:39.204Z"
   },
   {
    "duration": 19,
    "start_time": "2023-03-21T18:24:40.003Z"
   },
   {
    "duration": 12,
    "start_time": "2023-03-21T18:24:48.368Z"
   },
   {
    "duration": 1332,
    "start_time": "2023-03-21T18:25:10.643Z"
   },
   {
    "duration": 0,
    "start_time": "2023-03-21T18:25:11.977Z"
   },
   {
    "duration": 0,
    "start_time": "2023-03-21T18:25:11.978Z"
   },
   {
    "duration": 0,
    "start_time": "2023-03-21T18:25:11.979Z"
   },
   {
    "duration": 0,
    "start_time": "2023-03-21T18:25:11.981Z"
   },
   {
    "duration": 0,
    "start_time": "2023-03-21T18:25:11.989Z"
   },
   {
    "duration": 0,
    "start_time": "2023-03-21T18:25:11.990Z"
   },
   {
    "duration": 0,
    "start_time": "2023-03-21T18:25:11.993Z"
   },
   {
    "duration": 0,
    "start_time": "2023-03-21T18:25:11.994Z"
   },
   {
    "duration": 0,
    "start_time": "2023-03-21T18:25:11.995Z"
   },
   {
    "duration": 0,
    "start_time": "2023-03-21T18:25:11.996Z"
   },
   {
    "duration": 0,
    "start_time": "2023-03-21T18:25:11.997Z"
   },
   {
    "duration": 0,
    "start_time": "2023-03-21T18:25:11.999Z"
   },
   {
    "duration": 0,
    "start_time": "2023-03-21T18:25:12.000Z"
   },
   {
    "duration": 0,
    "start_time": "2023-03-21T18:25:12.001Z"
   },
   {
    "duration": 0,
    "start_time": "2023-03-21T18:25:12.002Z"
   },
   {
    "duration": 0,
    "start_time": "2023-03-21T18:25:12.003Z"
   },
   {
    "duration": 1,
    "start_time": "2023-03-21T18:25:12.004Z"
   },
   {
    "duration": 0,
    "start_time": "2023-03-21T18:25:12.006Z"
   },
   {
    "duration": 0,
    "start_time": "2023-03-21T18:25:12.007Z"
   },
   {
    "duration": 0,
    "start_time": "2023-03-21T18:25:12.007Z"
   },
   {
    "duration": 0,
    "start_time": "2023-03-21T18:25:12.009Z"
   },
   {
    "duration": 0,
    "start_time": "2023-03-21T18:25:12.010Z"
   },
   {
    "duration": 0,
    "start_time": "2023-03-21T18:25:12.011Z"
   },
   {
    "duration": 0,
    "start_time": "2023-03-21T18:25:12.012Z"
   },
   {
    "duration": 0,
    "start_time": "2023-03-21T18:25:12.013Z"
   },
   {
    "duration": 0,
    "start_time": "2023-03-21T18:25:12.014Z"
   },
   {
    "duration": 0,
    "start_time": "2023-03-21T18:25:12.015Z"
   },
   {
    "duration": 0,
    "start_time": "2023-03-21T18:25:12.015Z"
   },
   {
    "duration": 0,
    "start_time": "2023-03-21T18:25:12.017Z"
   },
   {
    "duration": 0,
    "start_time": "2023-03-21T18:25:12.018Z"
   },
   {
    "duration": 0,
    "start_time": "2023-03-21T18:25:12.019Z"
   },
   {
    "duration": 0,
    "start_time": "2023-03-21T18:25:12.020Z"
   },
   {
    "duration": 0,
    "start_time": "2023-03-21T18:25:12.021Z"
   },
   {
    "duration": 0,
    "start_time": "2023-03-21T18:25:12.022Z"
   },
   {
    "duration": 0,
    "start_time": "2023-03-21T18:25:12.023Z"
   },
   {
    "duration": 0,
    "start_time": "2023-03-21T18:25:12.024Z"
   },
   {
    "duration": 0,
    "start_time": "2023-03-21T18:25:12.025Z"
   },
   {
    "duration": 0,
    "start_time": "2023-03-21T18:25:12.026Z"
   },
   {
    "duration": 0,
    "start_time": "2023-03-21T18:25:12.027Z"
   },
   {
    "duration": 0,
    "start_time": "2023-03-21T18:25:12.089Z"
   },
   {
    "duration": 0,
    "start_time": "2023-03-21T18:25:12.090Z"
   },
   {
    "duration": 0,
    "start_time": "2023-03-21T18:25:12.091Z"
   },
   {
    "duration": 0,
    "start_time": "2023-03-21T18:25:12.092Z"
   },
   {
    "duration": 14,
    "start_time": "2023-03-21T18:25:19.643Z"
   },
   {
    "duration": 57,
    "start_time": "2023-03-21T18:25:20.746Z"
   },
   {
    "duration": 5,
    "start_time": "2023-03-21T18:25:21.538Z"
   },
   {
    "duration": 4,
    "start_time": "2023-03-21T18:25:22.154Z"
   },
   {
    "duration": 3,
    "start_time": "2023-03-21T18:25:22.380Z"
   },
   {
    "duration": 13,
    "start_time": "2023-03-21T18:25:23.714Z"
   },
   {
    "duration": 8,
    "start_time": "2023-03-21T18:25:24.154Z"
   },
   {
    "duration": 7,
    "start_time": "2023-03-21T18:25:25.131Z"
   },
   {
    "duration": 7,
    "start_time": "2023-03-21T18:25:25.434Z"
   },
   {
    "duration": 3,
    "start_time": "2023-03-21T18:25:26.707Z"
   },
   {
    "duration": 13,
    "start_time": "2023-03-21T18:25:28.716Z"
   },
   {
    "duration": 43,
    "start_time": "2023-03-21T18:25:29.626Z"
   },
   {
    "duration": 5,
    "start_time": "2023-03-21T18:25:31.983Z"
   },
   {
    "duration": 9,
    "start_time": "2023-03-21T18:25:32.515Z"
   },
   {
    "duration": 3,
    "start_time": "2023-03-21T18:25:32.981Z"
   },
   {
    "duration": 3,
    "start_time": "2023-03-21T18:25:34.011Z"
   },
   {
    "duration": 3,
    "start_time": "2023-03-21T18:25:34.388Z"
   },
   {
    "duration": 10,
    "start_time": "2023-03-21T18:25:34.786Z"
   },
   {
    "duration": 15,
    "start_time": "2023-03-21T18:25:37.478Z"
   },
   {
    "duration": 6,
    "start_time": "2023-03-21T18:25:38.331Z"
   },
   {
    "duration": 13,
    "start_time": "2023-03-21T18:25:39.487Z"
   },
   {
    "duration": 9,
    "start_time": "2023-03-21T18:25:40.339Z"
   },
   {
    "duration": 5,
    "start_time": "2023-03-21T18:25:41.185Z"
   },
   {
    "duration": 15,
    "start_time": "2023-03-21T18:25:41.585Z"
   },
   {
    "duration": 8,
    "start_time": "2023-03-21T18:25:42.081Z"
   },
   {
    "duration": 5,
    "start_time": "2023-03-21T18:25:42.477Z"
   },
   {
    "duration": 13,
    "start_time": "2023-03-21T18:25:42.981Z"
   },
   {
    "duration": 23,
    "start_time": "2023-03-21T18:25:48.178Z"
   },
   {
    "duration": 333,
    "start_time": "2023-03-21T18:25:49.620Z"
   },
   {
    "duration": 28,
    "start_time": "2023-03-21T18:25:54.882Z"
   },
   {
    "duration": 17367,
    "start_time": "2023-03-21T18:25:55.380Z"
   },
   {
    "duration": 5,
    "start_time": "2023-03-21T18:26:20.235Z"
   },
   {
    "duration": 9,
    "start_time": "2023-03-21T18:26:20.854Z"
   },
   {
    "duration": 10565,
    "start_time": "2023-03-21T18:26:26.218Z"
   },
   {
    "duration": 3,
    "start_time": "2023-03-21T18:26:45.619Z"
   },
   {
    "duration": 14,
    "start_time": "2023-03-21T18:26:47.844Z"
   },
   {
    "duration": 11,
    "start_time": "2023-03-21T18:27:14.610Z"
   },
   {
    "duration": 3539,
    "start_time": "2023-03-21T18:27:42.879Z"
   },
   {
    "duration": 40,
    "start_time": "2023-03-21T18:27:56.452Z"
   },
   {
    "duration": 3,
    "start_time": "2023-03-21T18:28:07.243Z"
   },
   {
    "duration": 4,
    "start_time": "2023-03-21T18:28:07.700Z"
   },
   {
    "duration": 53,
    "start_time": "2023-03-21T18:28:08.556Z"
   },
   {
    "duration": 26857,
    "start_time": "2023-03-21T18:34:50.580Z"
   },
   {
    "duration": 3,
    "start_time": "2023-03-21T18:35:22.535Z"
   },
   {
    "duration": 3,
    "start_time": "2023-03-21T18:35:37.799Z"
   },
   {
    "duration": 3,
    "start_time": "2023-03-21T18:35:38.380Z"
   },
   {
    "duration": 27339,
    "start_time": "2023-03-21T18:35:39.017Z"
   },
   {
    "duration": 15,
    "start_time": "2023-03-21T18:39:00.738Z"
   },
   {
    "duration": 27190,
    "start_time": "2023-03-21T18:39:40.297Z"
   },
   {
    "duration": 1197,
    "start_time": "2023-03-21T18:42:36.467Z"
   },
   {
    "duration": 57,
    "start_time": "2023-03-21T18:42:39.322Z"
   },
   {
    "duration": 2293,
    "start_time": "2023-03-22T08:00:52.702Z"
   },
   {
    "duration": 0,
    "start_time": "2023-03-22T08:00:54.996Z"
   },
   {
    "duration": 0,
    "start_time": "2023-03-22T08:00:54.997Z"
   },
   {
    "duration": 8481,
    "start_time": "2023-03-22T08:01:26.830Z"
   },
   {
    "duration": 2657,
    "start_time": "2023-03-22T08:02:14.199Z"
   },
   {
    "duration": 1511,
    "start_time": "2023-03-22T08:02:32.026Z"
   },
   {
    "duration": 0,
    "start_time": "2023-03-22T08:02:33.540Z"
   },
   {
    "duration": 0,
    "start_time": "2023-03-22T08:02:33.542Z"
   },
   {
    "duration": 0,
    "start_time": "2023-03-22T08:02:33.543Z"
   },
   {
    "duration": 0,
    "start_time": "2023-03-22T08:02:33.544Z"
   },
   {
    "duration": 1,
    "start_time": "2023-03-22T08:02:33.545Z"
   },
   {
    "duration": 0,
    "start_time": "2023-03-22T08:02:33.547Z"
   },
   {
    "duration": 0,
    "start_time": "2023-03-22T08:02:33.550Z"
   },
   {
    "duration": 0,
    "start_time": "2023-03-22T08:02:33.551Z"
   },
   {
    "duration": 0,
    "start_time": "2023-03-22T08:02:33.553Z"
   },
   {
    "duration": 0,
    "start_time": "2023-03-22T08:02:33.554Z"
   },
   {
    "duration": 0,
    "start_time": "2023-03-22T08:02:33.555Z"
   },
   {
    "duration": 0,
    "start_time": "2023-03-22T08:02:33.557Z"
   },
   {
    "duration": 0,
    "start_time": "2023-03-22T08:02:33.557Z"
   },
   {
    "duration": 0,
    "start_time": "2023-03-22T08:02:33.558Z"
   },
   {
    "duration": 0,
    "start_time": "2023-03-22T08:02:33.559Z"
   },
   {
    "duration": 1,
    "start_time": "2023-03-22T08:02:33.560Z"
   },
   {
    "duration": 0,
    "start_time": "2023-03-22T08:02:33.561Z"
   },
   {
    "duration": 0,
    "start_time": "2023-03-22T08:02:33.599Z"
   },
   {
    "duration": 0,
    "start_time": "2023-03-22T08:02:33.601Z"
   },
   {
    "duration": 0,
    "start_time": "2023-03-22T08:02:33.602Z"
   },
   {
    "duration": 0,
    "start_time": "2023-03-22T08:02:33.603Z"
   },
   {
    "duration": 0,
    "start_time": "2023-03-22T08:02:33.604Z"
   },
   {
    "duration": 0,
    "start_time": "2023-03-22T08:02:33.606Z"
   },
   {
    "duration": 0,
    "start_time": "2023-03-22T08:02:33.606Z"
   },
   {
    "duration": 0,
    "start_time": "2023-03-22T08:02:33.608Z"
   },
   {
    "duration": 0,
    "start_time": "2023-03-22T08:02:33.609Z"
   },
   {
    "duration": 0,
    "start_time": "2023-03-22T08:02:33.609Z"
   },
   {
    "duration": 0,
    "start_time": "2023-03-22T08:02:33.610Z"
   },
   {
    "duration": 0,
    "start_time": "2023-03-22T08:02:33.611Z"
   },
   {
    "duration": 0,
    "start_time": "2023-03-22T08:02:33.612Z"
   },
   {
    "duration": 0,
    "start_time": "2023-03-22T08:02:33.616Z"
   },
   {
    "duration": 0,
    "start_time": "2023-03-22T08:02:33.618Z"
   },
   {
    "duration": 0,
    "start_time": "2023-03-22T08:02:33.619Z"
   },
   {
    "duration": 0,
    "start_time": "2023-03-22T08:02:33.621Z"
   },
   {
    "duration": 0,
    "start_time": "2023-03-22T08:02:33.622Z"
   },
   {
    "duration": 0,
    "start_time": "2023-03-22T08:02:33.624Z"
   },
   {
    "duration": 0,
    "start_time": "2023-03-22T08:02:33.625Z"
   },
   {
    "duration": 0,
    "start_time": "2023-03-22T08:02:33.627Z"
   },
   {
    "duration": 0,
    "start_time": "2023-03-22T08:02:33.628Z"
   },
   {
    "duration": 0,
    "start_time": "2023-03-22T08:02:33.630Z"
   },
   {
    "duration": 0,
    "start_time": "2023-03-22T08:02:33.631Z"
   },
   {
    "duration": 0,
    "start_time": "2023-03-22T08:02:33.633Z"
   },
   {
    "duration": 0,
    "start_time": "2023-03-22T08:02:33.634Z"
   },
   {
    "duration": 0,
    "start_time": "2023-03-22T08:02:33.636Z"
   },
   {
    "duration": 12,
    "start_time": "2023-03-22T08:02:37.964Z"
   },
   {
    "duration": 12,
    "start_time": "2023-03-22T08:02:45.140Z"
   },
   {
    "duration": 4188,
    "start_time": "2023-03-22T08:03:08.520Z"
   },
   {
    "duration": 48,
    "start_time": "2023-03-22T08:03:21.487Z"
   },
   {
    "duration": 119,
    "start_time": "2023-03-22T08:03:23.389Z"
   },
   {
    "duration": 5,
    "start_time": "2023-03-22T08:03:23.721Z"
   },
   {
    "duration": 3,
    "start_time": "2023-03-22T08:03:24.799Z"
   },
   {
    "duration": 3,
    "start_time": "2023-03-22T08:03:25.287Z"
   },
   {
    "duration": 18,
    "start_time": "2023-03-22T08:03:28.086Z"
   },
   {
    "duration": 8,
    "start_time": "2023-03-22T08:03:28.447Z"
   },
   {
    "duration": 7,
    "start_time": "2023-03-22T08:03:29.943Z"
   },
   {
    "duration": 6,
    "start_time": "2023-03-22T08:03:30.116Z"
   },
   {
    "duration": 3,
    "start_time": "2023-03-22T08:03:31.189Z"
   },
   {
    "duration": 11,
    "start_time": "2023-03-22T08:03:32.419Z"
   },
   {
    "duration": 57,
    "start_time": "2023-03-22T08:03:32.608Z"
   },
   {
    "duration": 5,
    "start_time": "2023-03-22T08:03:34.383Z"
   },
   {
    "duration": 9,
    "start_time": "2023-03-22T08:03:34.909Z"
   },
   {
    "duration": 5,
    "start_time": "2023-03-22T08:03:35.083Z"
   },
   {
    "duration": 3,
    "start_time": "2023-03-22T08:03:35.654Z"
   },
   {
    "duration": 5,
    "start_time": "2023-03-22T08:03:36.193Z"
   },
   {
    "duration": 8,
    "start_time": "2023-03-22T08:03:36.366Z"
   },
   {
    "duration": 13,
    "start_time": "2023-03-22T08:03:36.558Z"
   },
   {
    "duration": 8,
    "start_time": "2023-03-22T08:03:36.741Z"
   },
   {
    "duration": 14,
    "start_time": "2023-03-22T08:03:38.634Z"
   },
   {
    "duration": 8,
    "start_time": "2023-03-22T08:03:39.529Z"
   },
   {
    "duration": 5,
    "start_time": "2023-03-22T08:03:40.224Z"
   },
   {
    "duration": 13,
    "start_time": "2023-03-22T08:03:40.750Z"
   },
   {
    "duration": 8,
    "start_time": "2023-03-22T08:03:41.147Z"
   },
   {
    "duration": 4,
    "start_time": "2023-03-22T08:03:41.553Z"
   },
   {
    "duration": 13,
    "start_time": "2023-03-22T08:03:41.733Z"
   },
   {
    "duration": 29,
    "start_time": "2023-03-22T08:03:42.650Z"
   },
   {
    "duration": 375,
    "start_time": "2023-03-22T08:03:43.148Z"
   },
   {
    "duration": 40,
    "start_time": "2023-03-22T08:03:43.660Z"
   },
   {
    "duration": 20180,
    "start_time": "2023-03-22T08:03:43.851Z"
   },
   {
    "duration": 4,
    "start_time": "2023-03-22T08:04:04.033Z"
   },
   {
    "duration": 18,
    "start_time": "2023-03-22T08:04:04.039Z"
   },
   {
    "duration": 11750,
    "start_time": "2023-03-22T08:04:06.415Z"
   },
   {
    "duration": 2,
    "start_time": "2023-03-22T08:04:18.168Z"
   },
   {
    "duration": 8,
    "start_time": "2023-03-22T08:04:18.171Z"
   },
   {
    "duration": 72,
    "start_time": "2023-03-22T08:04:18.181Z"
   },
   {
    "duration": 12,
    "start_time": "2023-03-22T08:04:18.255Z"
   },
   {
    "duration": 35,
    "start_time": "2023-03-22T08:04:51.628Z"
   },
   {
    "duration": 6,
    "start_time": "2023-03-22T08:04:56.817Z"
   },
   {
    "duration": 56,
    "start_time": "2023-03-22T08:04:57.506Z"
   },
   {
    "duration": 4,
    "start_time": "2023-03-22T08:04:57.864Z"
   },
   {
    "duration": 5,
    "start_time": "2023-03-22T08:04:58.223Z"
   },
   {
    "duration": 8,
    "start_time": "2023-03-22T08:04:58.394Z"
   },
   {
    "duration": 18,
    "start_time": "2023-03-22T08:04:59.108Z"
   },
   {
    "duration": 6,
    "start_time": "2023-03-22T08:04:59.650Z"
   },
   {
    "duration": 7,
    "start_time": "2023-03-22T08:05:00.182Z"
   },
   {
    "duration": 11,
    "start_time": "2023-03-22T08:05:00.494Z"
   },
   {
    "duration": 2,
    "start_time": "2023-03-22T08:05:01.022Z"
   },
   {
    "duration": 13,
    "start_time": "2023-03-22T08:05:01.716Z"
   },
   {
    "duration": 53,
    "start_time": "2023-03-22T08:05:01.910Z"
   },
   {
    "duration": 5,
    "start_time": "2023-03-22T08:05:03.195Z"
   },
   {
    "duration": 8,
    "start_time": "2023-03-22T08:05:03.355Z"
   },
   {
    "duration": 5,
    "start_time": "2023-03-22T08:05:03.520Z"
   },
   {
    "duration": 3,
    "start_time": "2023-03-22T08:05:04.690Z"
   },
   {
    "duration": 3,
    "start_time": "2023-03-22T08:05:05.011Z"
   },
   {
    "duration": 8,
    "start_time": "2023-03-22T08:05:05.160Z"
   },
   {
    "duration": 16,
    "start_time": "2023-03-22T08:05:05.590Z"
   },
   {
    "duration": 6,
    "start_time": "2023-03-22T08:05:05.915Z"
   },
   {
    "duration": 18,
    "start_time": "2023-03-22T08:05:06.082Z"
   },
   {
    "duration": 12,
    "start_time": "2023-03-22T08:05:06.243Z"
   },
   {
    "duration": 6,
    "start_time": "2023-03-22T08:05:06.403Z"
   },
   {
    "duration": 17,
    "start_time": "2023-03-22T08:05:06.587Z"
   },
   {
    "duration": 13,
    "start_time": "2023-03-22T08:05:06.733Z"
   },
   {
    "duration": 4,
    "start_time": "2023-03-22T08:05:06.891Z"
   },
   {
    "duration": 14,
    "start_time": "2023-03-22T08:05:07.060Z"
   },
   {
    "duration": 23,
    "start_time": "2023-03-22T08:05:07.739Z"
   },
   {
    "duration": 355,
    "start_time": "2023-03-22T08:05:08.282Z"
   },
   {
    "duration": 60,
    "start_time": "2023-03-22T08:05:09.437Z"
   },
   {
    "duration": 19949,
    "start_time": "2023-03-22T08:05:09.809Z"
   },
   {
    "duration": 6,
    "start_time": "2023-03-22T08:05:29.761Z"
   },
   {
    "duration": 29,
    "start_time": "2023-03-22T08:05:29.769Z"
   },
   {
    "duration": 12076,
    "start_time": "2023-03-22T08:05:29.804Z"
   },
   {
    "duration": 2,
    "start_time": "2023-03-22T08:05:41.882Z"
   },
   {
    "duration": 20,
    "start_time": "2023-03-22T08:05:41.896Z"
   },
   {
    "duration": 81,
    "start_time": "2023-03-22T08:05:41.919Z"
   },
   {
    "duration": 28,
    "start_time": "2023-03-22T08:05:42.003Z"
   },
   {
    "duration": 28845,
    "start_time": "2023-03-22T08:08:03.950Z"
   },
   {
    "duration": 4,
    "start_time": "2023-03-22T08:09:01.034Z"
   },
   {
    "duration": 4,
    "start_time": "2023-03-22T08:09:04.716Z"
   },
   {
    "duration": 5,
    "start_time": "2023-03-22T08:09:05.355Z"
   },
   {
    "duration": 31136,
    "start_time": "2023-03-22T08:09:23.998Z"
   },
   {
    "duration": 1238,
    "start_time": "2023-03-22T08:10:23.821Z"
   },
   {
    "duration": 59,
    "start_time": "2023-03-22T08:10:31.838Z"
   }
  ],
  "kernelspec": {
   "display_name": "Python 3 (ipykernel)",
   "language": "python",
   "name": "python3"
  },
  "language_info": {
   "codemirror_mode": {
    "name": "ipython",
    "version": 3
   },
   "file_extension": ".py",
   "mimetype": "text/x-python",
   "name": "python",
   "nbconvert_exporter": "python",
   "pygments_lexer": "ipython3",
   "version": "3.9.13"
  },
  "toc": {
   "base_numbering": 1,
   "nav_menu": {},
   "number_sections": true,
   "sideBar": true,
   "skip_h1_title": true,
   "title_cell": "Содержание",
   "title_sidebar": "Contents",
   "toc_cell": true,
   "toc_position": {},
   "toc_section_display": true,
   "toc_window_display": false
  }
 },
 "nbformat": 4,
 "nbformat_minor": 2
}
